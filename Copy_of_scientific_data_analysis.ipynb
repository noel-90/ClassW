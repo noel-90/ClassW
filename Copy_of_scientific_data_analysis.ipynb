{
  "nbformat": 4,
  "nbformat_minor": 0,
  "metadata": {
    "colab": {
      "name": "Copy of scientific_data_analysis.ipynb",
      "provenance": [],
      "toc_visible": true,
      "include_colab_link": true
    },
    "kernelspec": {
      "name": "python3",
      "display_name": "Python 3"
    }
  },
  "cells": [
    {
      "cell_type": "markdown",
      "metadata": {
        "id": "view-in-github",
        "colab_type": "text"
      },
      "source": [
        "<a href=\"https://colab.research.google.com/github/noel-90/ClassW/blob/main/Copy_of_scientific_data_analysis.ipynb\" target=\"_parent\"><img src=\"https://colab.research.google.com/assets/colab-badge.svg\" alt=\"Open In Colab\"/></a>"
      ]
    },
    {
      "cell_type": "code",
      "metadata": {
        "id": "H6pSSFzR3x4Y"
      },
      "source": [
        "from google.colab import drive\n",
        "drive.mount(\"/content/drive\")"
      ],
      "execution_count": null,
      "outputs": []
    },
    {
      "cell_type": "markdown",
      "metadata": {
        "id": "qevfl4Mcq9lW"
      },
      "source": [
        "# Introduction\n",
        "\n",
        "#  One-way ANOVA(Analysis of Variance)\n",
        "\n",
        "The one-way ANOVA is a test that is often used to determine if there are differences in means between different categories.\n",
        "\n",
        "I'll use this test, if  I have a nominal and a scale (interval/ratio) variable.\n",
        "\n",
        "There a few different ways you can do this test with Python.   \n",
        "\n",
        "- 1.Pingouin package or \n",
        "\n",
        "- 2.the statsmodels.api. \n"
      ]
    },
    {
      "cell_type": "markdown",
      "metadata": {
        "id": "JqeDlybRuHGC"
      },
      "source": [
        "# 1.Pingouin"
      ]
    },
    {
      "cell_type": "code",
      "metadata": {
        "colab": {
          "base_uri": "https://localhost:8080/"
        },
        "id": "VWFrWwzEztiL",
        "outputId": "4b1be496-7de6-4340-e175-88dd00d3db99"
      },
      "source": [
        "!pip install pingouin"
      ],
      "execution_count": null,
      "outputs": [
        {
          "output_type": "stream",
          "text": [
            "Collecting pingouin\n",
            "\u001b[?25l  Downloading https://files.pythonhosted.org/packages/55/47/9d1845b179fcbac04f13056846e132e54cf62734d33892a370f98efa5ac1/pingouin-0.3.10.tar.gz (204kB)\n",
            "\r\u001b[K     |█▋                              | 10kB 11.3MB/s eta 0:00:01\r\u001b[K     |███▏                            | 20kB 14.7MB/s eta 0:00:01\r\u001b[K     |████▉                           | 30kB 9.6MB/s eta 0:00:01\r\u001b[K     |██████▍                         | 40kB 8.6MB/s eta 0:00:01\r\u001b[K     |████████                        | 51kB 5.0MB/s eta 0:00:01\r\u001b[K     |█████████▋                      | 61kB 5.4MB/s eta 0:00:01\r\u001b[K     |███████████▏                    | 71kB 5.2MB/s eta 0:00:01\r\u001b[K     |████████████▉                   | 81kB 5.7MB/s eta 0:00:01\r\u001b[K     |██████████████▍                 | 92kB 5.5MB/s eta 0:00:01\r\u001b[K     |████████████████                | 102kB 6.0MB/s eta 0:00:01\r\u001b[K     |█████████████████▋              | 112kB 6.0MB/s eta 0:00:01\r\u001b[K     |███████████████████▎            | 122kB 6.0MB/s eta 0:00:01\r\u001b[K     |████████████████████▉           | 133kB 6.0MB/s eta 0:00:01\r\u001b[K     |██████████████████████▍         | 143kB 6.0MB/s eta 0:00:01\r\u001b[K     |████████████████████████        | 153kB 6.0MB/s eta 0:00:01\r\u001b[K     |█████████████████████████▋      | 163kB 6.0MB/s eta 0:00:01\r\u001b[K     |███████████████████████████▎    | 174kB 6.0MB/s eta 0:00:01\r\u001b[K     |████████████████████████████▉   | 184kB 6.0MB/s eta 0:00:01\r\u001b[K     |██████████████████████████████▍ | 194kB 6.0MB/s eta 0:00:01\r\u001b[K     |████████████████████████████████| 204kB 6.0MB/s \n",
            "\u001b[?25hRequirement already satisfied: numpy>=1.15 in /usr/local/lib/python3.7/dist-packages (from pingouin) (1.19.5)\n",
            "Requirement already satisfied: scipy>=1.3 in /usr/local/lib/python3.7/dist-packages (from pingouin) (1.4.1)\n",
            "Requirement already satisfied: pandas>=0.24 in /usr/local/lib/python3.7/dist-packages (from pingouin) (1.1.5)\n",
            "Requirement already satisfied: matplotlib>=3.0.2 in /usr/local/lib/python3.7/dist-packages (from pingouin) (3.2.2)\n",
            "Requirement already satisfied: seaborn>=0.9.0 in /usr/local/lib/python3.7/dist-packages (from pingouin) (0.11.1)\n",
            "Requirement already satisfied: statsmodels>=0.10.0 in /usr/local/lib/python3.7/dist-packages (from pingouin) (0.10.2)\n",
            "Requirement already satisfied: scikit-learn in /usr/local/lib/python3.7/dist-packages (from pingouin) (0.22.2.post1)\n",
            "Collecting pandas_flavor>=0.1.2\n",
            "  Downloading https://files.pythonhosted.org/packages/9a/57/7fbcff4c0961ed190ac5fcb0bd8194152ee1ee6487edf64fdbae16e2bc4b/pandas_flavor-0.2.0-py2.py3-none-any.whl\n",
            "Collecting outdated\n",
            "  Downloading https://files.pythonhosted.org/packages/86/70/2f166266438a30e94140f00c99c0eac1c45807981052a1d4c123660e1323/outdated-0.2.0.tar.gz\n",
            "Requirement already satisfied: tabulate in /usr/local/lib/python3.7/dist-packages (from pingouin) (0.8.9)\n",
            "Requirement already satisfied: pytz>=2017.2 in /usr/local/lib/python3.7/dist-packages (from pandas>=0.24->pingouin) (2018.9)\n",
            "Requirement already satisfied: python-dateutil>=2.7.3 in /usr/local/lib/python3.7/dist-packages (from pandas>=0.24->pingouin) (2.8.1)\n",
            "Requirement already satisfied: cycler>=0.10 in /usr/local/lib/python3.7/dist-packages (from matplotlib>=3.0.2->pingouin) (0.10.0)\n",
            "Requirement already satisfied: kiwisolver>=1.0.1 in /usr/local/lib/python3.7/dist-packages (from matplotlib>=3.0.2->pingouin) (1.3.1)\n",
            "Requirement already satisfied: pyparsing!=2.0.4,!=2.1.2,!=2.1.6,>=2.0.1 in /usr/local/lib/python3.7/dist-packages (from matplotlib>=3.0.2->pingouin) (2.4.7)\n",
            "Requirement already satisfied: patsy>=0.4.0 in /usr/local/lib/python3.7/dist-packages (from statsmodels>=0.10.0->pingouin) (0.5.1)\n",
            "Requirement already satisfied: joblib>=0.11 in /usr/local/lib/python3.7/dist-packages (from scikit-learn->pingouin) (1.0.1)\n",
            "Requirement already satisfied: xarray in /usr/local/lib/python3.7/dist-packages (from pandas_flavor>=0.1.2->pingouin) (0.15.1)\n",
            "Collecting littleutils\n",
            "  Downloading https://files.pythonhosted.org/packages/4e/b1/bb4e06f010947d67349f863b6a2ad71577f85590180a935f60543f622652/littleutils-0.2.2.tar.gz\n",
            "Requirement already satisfied: requests in /usr/local/lib/python3.7/dist-packages (from outdated->pingouin) (2.23.0)\n",
            "Requirement already satisfied: six>=1.5 in /usr/local/lib/python3.7/dist-packages (from python-dateutil>=2.7.3->pandas>=0.24->pingouin) (1.15.0)\n",
            "Requirement already satisfied: setuptools>=41.2 in /usr/local/lib/python3.7/dist-packages (from xarray->pandas_flavor>=0.1.2->pingouin) (53.0.0)\n",
            "Requirement already satisfied: idna<3,>=2.5 in /usr/local/lib/python3.7/dist-packages (from requests->outdated->pingouin) (2.10)\n",
            "Requirement already satisfied: urllib3!=1.25.0,!=1.25.1,<1.26,>=1.21.1 in /usr/local/lib/python3.7/dist-packages (from requests->outdated->pingouin) (1.24.3)\n",
            "Requirement already satisfied: certifi>=2017.4.17 in /usr/local/lib/python3.7/dist-packages (from requests->outdated->pingouin) (2020.12.5)\n",
            "Requirement already satisfied: chardet<4,>=3.0.2 in /usr/local/lib/python3.7/dist-packages (from requests->outdated->pingouin) (3.0.4)\n",
            "Building wheels for collected packages: pingouin, outdated, littleutils\n",
            "  Building wheel for pingouin (setup.py) ... \u001b[?25l\u001b[?25hdone\n",
            "  Created wheel for pingouin: filename=pingouin-0.3.10-cp37-none-any.whl size=203396 sha256=dc7bfe9e610a7160d5637bef616bbaca3b9e489b3331999440772dc1c7d38a27\n",
            "  Stored in directory: /root/.cache/pip/wheels/e6/f4/06/b5046209e6c0d96b4dea243c45e926b5c0dd88e23b01c45f92\n",
            "  Building wheel for outdated (setup.py) ... \u001b[?25l\u001b[?25hdone\n",
            "  Created wheel for outdated: filename=outdated-0.2.0-cp37-none-any.whl size=4962 sha256=883d4f17a45d41ef1a95de805372427422ec5db963ae06296a53d1330b859acf\n",
            "  Stored in directory: /root/.cache/pip/wheels/fd/7c/ef/814f514d31197310872b5abf353feb8fef9d67ee658e1e7e39\n",
            "  Building wheel for littleutils (setup.py) ... \u001b[?25l\u001b[?25hdone\n",
            "  Created wheel for littleutils: filename=littleutils-0.2.2-cp37-none-any.whl size=7051 sha256=02858b9dcd2fd622d0e94a2f1f491df1503a41163b1dc465a843bb22b8b60cfd\n",
            "  Stored in directory: /root/.cache/pip/wheels/53/16/9f/ac67d15c40243754fd73f620e1b9b6dedc20492ecc19a2bae1\n",
            "Successfully built pingouin outdated littleutils\n",
            "Installing collected packages: pandas-flavor, littleutils, outdated, pingouin\n",
            "Successfully installed littleutils-0.2.2 outdated-0.2.0 pandas-flavor-0.2.0 pingouin-0.3.10\n"
          ],
          "name": "stdout"
        }
      ]
    },
    {
      "cell_type": "code",
      "metadata": {
        "id": "67L6cEvqzgxx"
      },
      "source": [
        "import pandas as pd\n",
        "import pingouin as pg"
      ],
      "execution_count": null,
      "outputs": []
    },
    {
      "cell_type": "code",
      "metadata": {
        "id": "2Xl9xDBSuE1d"
      },
      "source": [
        "df=pd.read_csv(\"/content/drive/MyDrive/Anova_data/airline_altitude.csv\")"
      ],
      "execution_count": null,
      "outputs": []
    },
    {
      "cell_type": "code",
      "metadata": {
        "colab": {
          "base_uri": "https://localhost:8080/",
          "height": 202
        },
        "id": "yi0xZi4rt0GA",
        "outputId": "00c730f0-9044-44b5-e43b-1ebc28b8125c"
      },
      "source": [
        "df.head()"
      ],
      "execution_count": null,
      "outputs": [
        {
          "output_type": "execute_result",
          "data": {
            "text/html": [
              "<div>\n",
              "<style scoped>\n",
              "    .dataframe tbody tr th:only-of-type {\n",
              "        vertical-align: middle;\n",
              "    }\n",
              "\n",
              "    .dataframe tbody tr th {\n",
              "        vertical-align: top;\n",
              "    }\n",
              "\n",
              "    .dataframe thead th {\n",
              "        text-align: right;\n",
              "    }\n",
              "</style>\n",
              "<table border=\"1\" class=\"dataframe\">\n",
              "  <thead>\n",
              "    <tr style=\"text-align: right;\">\n",
              "      <th></th>\n",
              "      <th>Average Flight Altitude</th>\n",
              "      <th>Airline</th>\n",
              "      <th>Altitude</th>\n",
              "    </tr>\n",
              "  </thead>\n",
              "  <tbody>\n",
              "    <tr>\n",
              "      <th>0</th>\n",
              "      <td>January</td>\n",
              "      <td>Qatar</td>\n",
              "      <td>34000</td>\n",
              "    </tr>\n",
              "    <tr>\n",
              "      <th>1</th>\n",
              "      <td>February</td>\n",
              "      <td>Qatar</td>\n",
              "      <td>35000</td>\n",
              "    </tr>\n",
              "    <tr>\n",
              "      <th>2</th>\n",
              "      <td>March</td>\n",
              "      <td>Qatar</td>\n",
              "      <td>33500</td>\n",
              "    </tr>\n",
              "    <tr>\n",
              "      <th>3</th>\n",
              "      <td>April</td>\n",
              "      <td>Qatar</td>\n",
              "      <td>40000</td>\n",
              "    </tr>\n",
              "    <tr>\n",
              "      <th>4</th>\n",
              "      <td>May</td>\n",
              "      <td>Qatar</td>\n",
              "      <td>32000</td>\n",
              "    </tr>\n",
              "  </tbody>\n",
              "</table>\n",
              "</div>"
            ],
            "text/plain": [
              "  Average Flight Altitude Airline  Altitude\n",
              "0                 January   Qatar     34000\n",
              "1                February   Qatar     35000\n",
              "2                   March   Qatar     33500\n",
              "3                   April   Qatar     40000\n",
              "4                     May   Qatar     32000"
            ]
          },
          "metadata": {
            "tags": []
          },
          "execution_count": 8
        }
      ]
    },
    {
      "cell_type": "code",
      "metadata": {
        "id": "BKaH84x0nDiN"
      },
      "source": [
        "df.rename({\"Average Flight Altitude\":\"Months\"},inplace=True,axis=1)"
      ],
      "execution_count": null,
      "outputs": []
    },
    {
      "cell_type": "code",
      "metadata": {
        "colab": {
          "base_uri": "https://localhost:8080/",
          "height": 202
        },
        "id": "VyVLZcmWnTcc",
        "outputId": "3210ca23-5f52-467d-e55f-479234bb9620"
      },
      "source": [
        "df.head()"
      ],
      "execution_count": null,
      "outputs": [
        {
          "output_type": "execute_result",
          "data": {
            "text/html": [
              "<div>\n",
              "<style scoped>\n",
              "    .dataframe tbody tr th:only-of-type {\n",
              "        vertical-align: middle;\n",
              "    }\n",
              "\n",
              "    .dataframe tbody tr th {\n",
              "        vertical-align: top;\n",
              "    }\n",
              "\n",
              "    .dataframe thead th {\n",
              "        text-align: right;\n",
              "    }\n",
              "</style>\n",
              "<table border=\"1\" class=\"dataframe\">\n",
              "  <thead>\n",
              "    <tr style=\"text-align: right;\">\n",
              "      <th></th>\n",
              "      <th>Months</th>\n",
              "      <th>Airline</th>\n",
              "      <th>Altitude</th>\n",
              "    </tr>\n",
              "  </thead>\n",
              "  <tbody>\n",
              "    <tr>\n",
              "      <th>0</th>\n",
              "      <td>January</td>\n",
              "      <td>Qatar</td>\n",
              "      <td>34000</td>\n",
              "    </tr>\n",
              "    <tr>\n",
              "      <th>1</th>\n",
              "      <td>February</td>\n",
              "      <td>Qatar</td>\n",
              "      <td>35000</td>\n",
              "    </tr>\n",
              "    <tr>\n",
              "      <th>2</th>\n",
              "      <td>March</td>\n",
              "      <td>Qatar</td>\n",
              "      <td>33500</td>\n",
              "    </tr>\n",
              "    <tr>\n",
              "      <th>3</th>\n",
              "      <td>April</td>\n",
              "      <td>Qatar</td>\n",
              "      <td>40000</td>\n",
              "    </tr>\n",
              "    <tr>\n",
              "      <th>4</th>\n",
              "      <td>May</td>\n",
              "      <td>Qatar</td>\n",
              "      <td>32000</td>\n",
              "    </tr>\n",
              "  </tbody>\n",
              "</table>\n",
              "</div>"
            ],
            "text/plain": [
              "     Months Airline  Altitude\n",
              "0   January   Qatar     34000\n",
              "1  February   Qatar     35000\n",
              "2     March   Qatar     33500\n",
              "3     April   Qatar     40000\n",
              "4       May   Qatar     32000"
            ]
          },
          "metadata": {
            "tags": []
          },
          "execution_count": 10
        }
      ]
    },
    {
      "cell_type": "code",
      "metadata": {
        "colab": {
          "base_uri": "https://localhost:8080/"
        },
        "id": "ruTQbXsP01vU",
        "outputId": "3de68156-e414-46cb-e2d0-a3e9befa70cf"
      },
      "source": [
        "df['Months'].unique()"
      ],
      "execution_count": null,
      "outputs": [
        {
          "output_type": "execute_result",
          "data": {
            "text/plain": [
              "array(['January', 'February', 'March', 'April', 'May', 'June', 'July',\n",
              "       'August', 'September', 'October', 'November', 'December'],\n",
              "      dtype=object)"
            ]
          },
          "metadata": {
            "tags": []
          },
          "execution_count": 11
        }
      ]
    },
    {
      "cell_type": "code",
      "metadata": {
        "colab": {
          "base_uri": "https://localhost:8080/"
        },
        "id": "3lQzE711z6HA",
        "outputId": "a4bbe8bf-c87e-480f-e05c-b14bf440c78c"
      },
      "source": [
        "df.info()"
      ],
      "execution_count": null,
      "outputs": [
        {
          "output_type": "stream",
          "text": [
            "<class 'pandas.core.frame.DataFrame'>\n",
            "RangeIndex: 35 entries, 0 to 34\n",
            "Data columns (total 3 columns):\n",
            " #   Column    Non-Null Count  Dtype \n",
            "---  ------    --------------  ----- \n",
            " 0   Months    35 non-null     object\n",
            " 1   Airline   35 non-null     object\n",
            " 2   Altitude  35 non-null     int64 \n",
            "dtypes: int64(1), object(2)\n",
            "memory usage: 968.0+ bytes\n"
          ],
          "name": "stdout"
        }
      ]
    },
    {
      "cell_type": "code",
      "metadata": {
        "id": "owEmVRqTz9tj"
      },
      "source": [
        "'''\n",
        "Now we  use pingouin's 'anova' function. \n",
        "This takes   \n",
        "dv (depending variable) : which is our scale variable, \n",
        "the between : which is the variable with the categories (our nominal variable),\n",
        "and if we want to see the results in a nice dataframe with \n",
        "detailed set to True.\n",
        "'''\n",
        "aov = pg.anova(dv='Altitude', between='Airline', data=df, detailed=True)\n"
      ],
      "execution_count": null,
      "outputs": []
    },
    {
      "cell_type": "code",
      "metadata": {
        "colab": {
          "base_uri": "https://localhost:8080/",
          "height": 110
        },
        "id": "lhFZ5mKL0edk",
        "outputId": "ef0e75a4-b6d8-4a45-c341-dcbc6f30c00e"
      },
      "source": [
        "aov"
      ],
      "execution_count": null,
      "outputs": [
        {
          "output_type": "execute_result",
          "data": {
            "text/html": [
              "<div>\n",
              "<style scoped>\n",
              "    .dataframe tbody tr th:only-of-type {\n",
              "        vertical-align: middle;\n",
              "    }\n",
              "\n",
              "    .dataframe tbody tr th {\n",
              "        vertical-align: top;\n",
              "    }\n",
              "\n",
              "    .dataframe thead th {\n",
              "        text-align: right;\n",
              "    }\n",
              "</style>\n",
              "<table border=\"1\" class=\"dataframe\">\n",
              "  <thead>\n",
              "    <tr style=\"text-align: right;\">\n",
              "      <th></th>\n",
              "      <th>Source</th>\n",
              "      <th>SS</th>\n",
              "      <th>DF</th>\n",
              "      <th>MS</th>\n",
              "      <th>F</th>\n",
              "      <th>p-unc</th>\n",
              "      <th>np2</th>\n",
              "    </tr>\n",
              "  </thead>\n",
              "  <tbody>\n",
              "    <tr>\n",
              "      <th>0</th>\n",
              "      <td>Airline</td>\n",
              "      <td>7.020214e+08</td>\n",
              "      <td>1</td>\n",
              "      <td>7.020214e+08</td>\n",
              "      <td>149.607408</td>\n",
              "      <td>8.325396e-14</td>\n",
              "      <td>0.819284</td>\n",
              "    </tr>\n",
              "    <tr>\n",
              "      <th>1</th>\n",
              "      <td>Within</td>\n",
              "      <td>1.548500e+08</td>\n",
              "      <td>33</td>\n",
              "      <td>4.692424e+06</td>\n",
              "      <td>NaN</td>\n",
              "      <td>NaN</td>\n",
              "      <td>NaN</td>\n",
              "    </tr>\n",
              "  </tbody>\n",
              "</table>\n",
              "</div>"
            ],
            "text/plain": [
              "    Source            SS  DF            MS           F         p-unc       np2\n",
              "0  Airline  7.020214e+08   1  7.020214e+08  149.607408  8.325396e-14  0.819284\n",
              "1   Within  1.548500e+08  33  4.692424e+06         NaN           NaN       NaN"
            ]
          },
          "metadata": {
            "tags": []
          },
          "execution_count": 14
        }
      ]
    },
    {
      "cell_type": "markdown",
      "metadata": {
        "id": "r6DC1zwz12k8"
      },
      "source": [
        "# Interpretation\n",
        "The most important result is probably the 'p-unc'. This is the p-value (also known as significance). It is the chance of an F value as in the sample, or even more extreme, if the assumption about the population would be true. The assumption is that all categories have the same mean in the population. With a p-value of 8.325396e-14\t this is below the usual threshold of 0.05. We would therefore conclude that the Airline has a significant influence on the 'Altitude'."
      ]
    },
    {
      "cell_type": "code",
      "metadata": {
        "colab": {
          "base_uri": "https://localhost:8080/"
        },
        "id": "Fcup-uf30-ef",
        "outputId": "1daec302-537a-4711-91f6-f1fe21ae8359"
      },
      "source": [
        "df['Airline'].unique()"
      ],
      "execution_count": null,
      "outputs": [
        {
          "output_type": "execute_result",
          "data": {
            "text/plain": [
              "array(['Qatar', 'kq'], dtype=object)"
            ]
          },
          "metadata": {
            "tags": []
          },
          "execution_count": 15
        }
      ]
    },
    {
      "cell_type": "code",
      "metadata": {
        "id": "JGgC77lf1W-x"
      },
      "source": [
        "aov2 = pg.anova(dv='Altitude', between='Months', data=df, detailed=True)\n"
      ],
      "execution_count": null,
      "outputs": []
    },
    {
      "cell_type": "code",
      "metadata": {
        "colab": {
          "base_uri": "https://localhost:8080/",
          "height": 110
        },
        "id": "UZdNWnUe3DMW",
        "outputId": "53e00965-2fba-41b3-eece-41aefa33d18e"
      },
      "source": [
        "aov2"
      ],
      "execution_count": null,
      "outputs": [
        {
          "output_type": "execute_result",
          "data": {
            "text/html": [
              "<div>\n",
              "<style scoped>\n",
              "    .dataframe tbody tr th:only-of-type {\n",
              "        vertical-align: middle;\n",
              "    }\n",
              "\n",
              "    .dataframe tbody tr th {\n",
              "        vertical-align: top;\n",
              "    }\n",
              "\n",
              "    .dataframe thead th {\n",
              "        text-align: right;\n",
              "    }\n",
              "</style>\n",
              "<table border=\"1\" class=\"dataframe\">\n",
              "  <thead>\n",
              "    <tr style=\"text-align: right;\">\n",
              "      <th></th>\n",
              "      <th>Source</th>\n",
              "      <th>SS</th>\n",
              "      <th>DF</th>\n",
              "      <th>MS</th>\n",
              "      <th>F</th>\n",
              "      <th>p-unc</th>\n",
              "      <th>np2</th>\n",
              "    </tr>\n",
              "  </thead>\n",
              "  <tbody>\n",
              "    <tr>\n",
              "      <th>0</th>\n",
              "      <td>Months</td>\n",
              "      <td>5.052976e+07</td>\n",
              "      <td>11</td>\n",
              "      <td>4.593615e+06</td>\n",
              "      <td>0.131028</td>\n",
              "      <td>0.99938</td>\n",
              "      <td>0.05897</td>\n",
              "    </tr>\n",
              "    <tr>\n",
              "      <th>1</th>\n",
              "      <td>Within</td>\n",
              "      <td>8.063417e+08</td>\n",
              "      <td>23</td>\n",
              "      <td>3.505833e+07</td>\n",
              "      <td>NaN</td>\n",
              "      <td>NaN</td>\n",
              "      <td>NaN</td>\n",
              "    </tr>\n",
              "  </tbody>\n",
              "</table>\n",
              "</div>"
            ],
            "text/plain": [
              "   Source            SS  DF            MS         F    p-unc      np2\n",
              "0  Months  5.052976e+07  11  4.593615e+06  0.131028  0.99938  0.05897\n",
              "1  Within  8.063417e+08  23  3.505833e+07       NaN      NaN      NaN"
            ]
          },
          "metadata": {
            "tags": []
          },
          "execution_count": 18
        }
      ]
    },
    {
      "cell_type": "markdown",
      "metadata": {
        "id": "OGKUHO5_3n2r"
      },
      "source": [
        "#Conclusion from Above?\n"
      ]
    },
    {
      "cell_type": "code",
      "metadata": {
        "id": "iJ3zctmT3E6R"
      },
      "source": [
        "'''\n",
        "lets Investigate Month\n",
        "'''\n",
        "Aug=df[df['Months']=='August']\n",
        "Nov=df[df['Months']=='November']"
      ],
      "execution_count": null,
      "outputs": []
    },
    {
      "cell_type": "code",
      "metadata": {
        "colab": {
          "base_uri": "https://localhost:8080/",
          "height": 141
        },
        "id": "Q6dRK35o3043",
        "outputId": "34fe09f3-36a6-4616-88b2-7d069a25b628"
      },
      "source": [
        "Aug"
      ],
      "execution_count": null,
      "outputs": [
        {
          "output_type": "execute_result",
          "data": {
            "text/html": [
              "<div>\n",
              "<style scoped>\n",
              "    .dataframe tbody tr th:only-of-type {\n",
              "        vertical-align: middle;\n",
              "    }\n",
              "\n",
              "    .dataframe tbody tr th {\n",
              "        vertical-align: top;\n",
              "    }\n",
              "\n",
              "    .dataframe thead th {\n",
              "        text-align: right;\n",
              "    }\n",
              "</style>\n",
              "<table border=\"1\" class=\"dataframe\">\n",
              "  <thead>\n",
              "    <tr style=\"text-align: right;\">\n",
              "      <th></th>\n",
              "      <th>Months</th>\n",
              "      <th>Airline</th>\n",
              "      <th>Altitude</th>\n",
              "    </tr>\n",
              "  </thead>\n",
              "  <tbody>\n",
              "    <tr>\n",
              "      <th>7</th>\n",
              "      <td>August</td>\n",
              "      <td>Qatar</td>\n",
              "      <td>35400</td>\n",
              "    </tr>\n",
              "    <tr>\n",
              "      <th>19</th>\n",
              "      <td>August</td>\n",
              "      <td>Qatar</td>\n",
              "      <td>36600</td>\n",
              "    </tr>\n",
              "    <tr>\n",
              "      <th>27</th>\n",
              "      <td>August</td>\n",
              "      <td>kq</td>\n",
              "      <td>44700</td>\n",
              "    </tr>\n",
              "  </tbody>\n",
              "</table>\n",
              "</div>"
            ],
            "text/plain": [
              "    Months Airline  Altitude\n",
              "7   August   Qatar     35400\n",
              "19  August   Qatar     36600\n",
              "27  August      kq     44700"
            ]
          },
          "metadata": {
            "tags": []
          },
          "execution_count": 21
        }
      ]
    },
    {
      "cell_type": "code",
      "metadata": {
        "colab": {
          "base_uri": "https://localhost:8080/",
          "height": 110
        },
        "id": "OMKSI3bb4hMD",
        "outputId": "71e8c67a-15f7-4af6-f754-10b867a1e078"
      },
      "source": [
        "Nov"
      ],
      "execution_count": null,
      "outputs": [
        {
          "output_type": "execute_result",
          "data": {
            "text/html": [
              "<div>\n",
              "<style scoped>\n",
              "    .dataframe tbody tr th:only-of-type {\n",
              "        vertical-align: middle;\n",
              "    }\n",
              "\n",
              "    .dataframe tbody tr th {\n",
              "        vertical-align: top;\n",
              "    }\n",
              "\n",
              "    .dataframe thead th {\n",
              "        text-align: right;\n",
              "    }\n",
              "</style>\n",
              "<table border=\"1\" class=\"dataframe\">\n",
              "  <thead>\n",
              "    <tr style=\"text-align: right;\">\n",
              "      <th></th>\n",
              "      <th>Average Flight Altitude</th>\n",
              "      <th>Airline</th>\n",
              "      <th>Altitude</th>\n",
              "    </tr>\n",
              "  </thead>\n",
              "  <tbody>\n",
              "    <tr>\n",
              "      <th>10</th>\n",
              "      <td>November</td>\n",
              "      <td>Qatar</td>\n",
              "      <td>35700</td>\n",
              "    </tr>\n",
              "    <tr>\n",
              "      <th>30</th>\n",
              "      <td>November</td>\n",
              "      <td>kq</td>\n",
              "      <td>45600</td>\n",
              "    </tr>\n",
              "  </tbody>\n",
              "</table>\n",
              "</div>"
            ],
            "text/plain": [
              "   Average Flight Altitude Airline  Altitude\n",
              "10                November   Qatar     35700\n",
              "30                November      kq     45600"
            ]
          },
          "metadata": {
            "tags": []
          },
          "execution_count": 30
        }
      ]
    },
    {
      "cell_type": "code",
      "metadata": {
        "id": "HNzrhYwEpVl5"
      },
      "source": [
        "kq=df[df['Airline']==\"kq\"]\n",
        "Qatar=df[df['Airline']=='Qatar']"
      ],
      "execution_count": null,
      "outputs": []
    },
    {
      "cell_type": "code",
      "metadata": {
        "colab": {
          "base_uri": "https://localhost:8080/",
          "height": 509
        },
        "id": "-2tW4gTPpnm1",
        "outputId": "bb057da3-8955-4753-be46-71aba8b44280"
      },
      "source": [
        "kq"
      ],
      "execution_count": null,
      "outputs": [
        {
          "output_type": "execute_result",
          "data": {
            "text/html": [
              "<div>\n",
              "<style scoped>\n",
              "    .dataframe tbody tr th:only-of-type {\n",
              "        vertical-align: middle;\n",
              "    }\n",
              "\n",
              "    .dataframe tbody tr th {\n",
              "        vertical-align: top;\n",
              "    }\n",
              "\n",
              "    .dataframe thead th {\n",
              "        text-align: right;\n",
              "    }\n",
              "</style>\n",
              "<table border=\"1\" class=\"dataframe\">\n",
              "  <thead>\n",
              "    <tr style=\"text-align: right;\">\n",
              "      <th></th>\n",
              "      <th>Months</th>\n",
              "      <th>Airline</th>\n",
              "      <th>Altitude</th>\n",
              "    </tr>\n",
              "  </thead>\n",
              "  <tbody>\n",
              "    <tr>\n",
              "      <th>20</th>\n",
              "      <td>January</td>\n",
              "      <td>kq</td>\n",
              "      <td>40000</td>\n",
              "    </tr>\n",
              "    <tr>\n",
              "      <th>21</th>\n",
              "      <td>February</td>\n",
              "      <td>kq</td>\n",
              "      <td>50000</td>\n",
              "    </tr>\n",
              "    <tr>\n",
              "      <th>22</th>\n",
              "      <td>March</td>\n",
              "      <td>kq</td>\n",
              "      <td>38000</td>\n",
              "    </tr>\n",
              "    <tr>\n",
              "      <th>23</th>\n",
              "      <td>April</td>\n",
              "      <td>kq</td>\n",
              "      <td>43000</td>\n",
              "    </tr>\n",
              "    <tr>\n",
              "      <th>24</th>\n",
              "      <td>May</td>\n",
              "      <td>kq</td>\n",
              "      <td>45000</td>\n",
              "    </tr>\n",
              "    <tr>\n",
              "      <th>25</th>\n",
              "      <td>June</td>\n",
              "      <td>kq</td>\n",
              "      <td>44100</td>\n",
              "    </tr>\n",
              "    <tr>\n",
              "      <th>26</th>\n",
              "      <td>July</td>\n",
              "      <td>kq</td>\n",
              "      <td>44400</td>\n",
              "    </tr>\n",
              "    <tr>\n",
              "      <th>27</th>\n",
              "      <td>August</td>\n",
              "      <td>kq</td>\n",
              "      <td>44700</td>\n",
              "    </tr>\n",
              "    <tr>\n",
              "      <th>28</th>\n",
              "      <td>September</td>\n",
              "      <td>kq</td>\n",
              "      <td>45000</td>\n",
              "    </tr>\n",
              "    <tr>\n",
              "      <th>29</th>\n",
              "      <td>October</td>\n",
              "      <td>kq</td>\n",
              "      <td>45300</td>\n",
              "    </tr>\n",
              "    <tr>\n",
              "      <th>30</th>\n",
              "      <td>November</td>\n",
              "      <td>kq</td>\n",
              "      <td>45600</td>\n",
              "    </tr>\n",
              "    <tr>\n",
              "      <th>31</th>\n",
              "      <td>December</td>\n",
              "      <td>kq</td>\n",
              "      <td>45900</td>\n",
              "    </tr>\n",
              "    <tr>\n",
              "      <th>32</th>\n",
              "      <td>January</td>\n",
              "      <td>kq</td>\n",
              "      <td>46200</td>\n",
              "    </tr>\n",
              "    <tr>\n",
              "      <th>33</th>\n",
              "      <td>February</td>\n",
              "      <td>kq</td>\n",
              "      <td>46500</td>\n",
              "    </tr>\n",
              "    <tr>\n",
              "      <th>34</th>\n",
              "      <td>March</td>\n",
              "      <td>kq</td>\n",
              "      <td>46800</td>\n",
              "    </tr>\n",
              "  </tbody>\n",
              "</table>\n",
              "</div>"
            ],
            "text/plain": [
              "       Months Airline  Altitude\n",
              "20    January      kq     40000\n",
              "21   February      kq     50000\n",
              "22      March      kq     38000\n",
              "23      April      kq     43000\n",
              "24        May      kq     45000\n",
              "25       June      kq     44100\n",
              "26       July      kq     44400\n",
              "27     August      kq     44700\n",
              "28  September      kq     45000\n",
              "29    October      kq     45300\n",
              "30   November      kq     45600\n",
              "31   December      kq     45900\n",
              "32    January      kq     46200\n",
              "33   February      kq     46500\n",
              "34      March      kq     46800"
            ]
          },
          "metadata": {
            "tags": []
          },
          "execution_count": 24
        }
      ]
    },
    {
      "cell_type": "code",
      "metadata": {
        "colab": {
          "base_uri": "https://localhost:8080/",
          "height": 662
        },
        "id": "hQ3t0YHZprA2",
        "outputId": "94f73447-65e0-4144-9712-e6c38629215e"
      },
      "source": [
        "Qatar"
      ],
      "execution_count": null,
      "outputs": [
        {
          "output_type": "execute_result",
          "data": {
            "text/html": [
              "<div>\n",
              "<style scoped>\n",
              "    .dataframe tbody tr th:only-of-type {\n",
              "        vertical-align: middle;\n",
              "    }\n",
              "\n",
              "    .dataframe tbody tr th {\n",
              "        vertical-align: top;\n",
              "    }\n",
              "\n",
              "    .dataframe thead th {\n",
              "        text-align: right;\n",
              "    }\n",
              "</style>\n",
              "<table border=\"1\" class=\"dataframe\">\n",
              "  <thead>\n",
              "    <tr style=\"text-align: right;\">\n",
              "      <th></th>\n",
              "      <th>Months</th>\n",
              "      <th>Airline</th>\n",
              "      <th>Altitude</th>\n",
              "    </tr>\n",
              "  </thead>\n",
              "  <tbody>\n",
              "    <tr>\n",
              "      <th>0</th>\n",
              "      <td>January</td>\n",
              "      <td>Qatar</td>\n",
              "      <td>34000</td>\n",
              "    </tr>\n",
              "    <tr>\n",
              "      <th>1</th>\n",
              "      <td>February</td>\n",
              "      <td>Qatar</td>\n",
              "      <td>35000</td>\n",
              "    </tr>\n",
              "    <tr>\n",
              "      <th>2</th>\n",
              "      <td>March</td>\n",
              "      <td>Qatar</td>\n",
              "      <td>33500</td>\n",
              "    </tr>\n",
              "    <tr>\n",
              "      <th>3</th>\n",
              "      <td>April</td>\n",
              "      <td>Qatar</td>\n",
              "      <td>40000</td>\n",
              "    </tr>\n",
              "    <tr>\n",
              "      <th>4</th>\n",
              "      <td>May</td>\n",
              "      <td>Qatar</td>\n",
              "      <td>32000</td>\n",
              "    </tr>\n",
              "    <tr>\n",
              "      <th>5</th>\n",
              "      <td>June</td>\n",
              "      <td>Qatar</td>\n",
              "      <td>35200</td>\n",
              "    </tr>\n",
              "    <tr>\n",
              "      <th>6</th>\n",
              "      <td>July</td>\n",
              "      <td>Qatar</td>\n",
              "      <td>35300</td>\n",
              "    </tr>\n",
              "    <tr>\n",
              "      <th>7</th>\n",
              "      <td>August</td>\n",
              "      <td>Qatar</td>\n",
              "      <td>35400</td>\n",
              "    </tr>\n",
              "    <tr>\n",
              "      <th>8</th>\n",
              "      <td>September</td>\n",
              "      <td>Qatar</td>\n",
              "      <td>35500</td>\n",
              "    </tr>\n",
              "    <tr>\n",
              "      <th>9</th>\n",
              "      <td>October</td>\n",
              "      <td>Qatar</td>\n",
              "      <td>35600</td>\n",
              "    </tr>\n",
              "    <tr>\n",
              "      <th>10</th>\n",
              "      <td>November</td>\n",
              "      <td>Qatar</td>\n",
              "      <td>35700</td>\n",
              "    </tr>\n",
              "    <tr>\n",
              "      <th>11</th>\n",
              "      <td>December</td>\n",
              "      <td>Qatar</td>\n",
              "      <td>35800</td>\n",
              "    </tr>\n",
              "    <tr>\n",
              "      <th>12</th>\n",
              "      <td>January</td>\n",
              "      <td>Qatar</td>\n",
              "      <td>35900</td>\n",
              "    </tr>\n",
              "    <tr>\n",
              "      <th>13</th>\n",
              "      <td>February</td>\n",
              "      <td>Qatar</td>\n",
              "      <td>36000</td>\n",
              "    </tr>\n",
              "    <tr>\n",
              "      <th>14</th>\n",
              "      <td>March</td>\n",
              "      <td>Qatar</td>\n",
              "      <td>36100</td>\n",
              "    </tr>\n",
              "    <tr>\n",
              "      <th>15</th>\n",
              "      <td>April</td>\n",
              "      <td>Qatar</td>\n",
              "      <td>36200</td>\n",
              "    </tr>\n",
              "    <tr>\n",
              "      <th>16</th>\n",
              "      <td>May</td>\n",
              "      <td>Qatar</td>\n",
              "      <td>36300</td>\n",
              "    </tr>\n",
              "    <tr>\n",
              "      <th>17</th>\n",
              "      <td>June</td>\n",
              "      <td>Qatar</td>\n",
              "      <td>36400</td>\n",
              "    </tr>\n",
              "    <tr>\n",
              "      <th>18</th>\n",
              "      <td>July</td>\n",
              "      <td>Qatar</td>\n",
              "      <td>36500</td>\n",
              "    </tr>\n",
              "    <tr>\n",
              "      <th>19</th>\n",
              "      <td>August</td>\n",
              "      <td>Qatar</td>\n",
              "      <td>36600</td>\n",
              "    </tr>\n",
              "  </tbody>\n",
              "</table>\n",
              "</div>"
            ],
            "text/plain": [
              "       Months Airline  Altitude\n",
              "0     January   Qatar     34000\n",
              "1    February   Qatar     35000\n",
              "2       March   Qatar     33500\n",
              "3       April   Qatar     40000\n",
              "4         May   Qatar     32000\n",
              "5        June   Qatar     35200\n",
              "6        July   Qatar     35300\n",
              "7      August   Qatar     35400\n",
              "8   September   Qatar     35500\n",
              "9     October   Qatar     35600\n",
              "10   November   Qatar     35700\n",
              "11   December   Qatar     35800\n",
              "12    January   Qatar     35900\n",
              "13   February   Qatar     36000\n",
              "14      March   Qatar     36100\n",
              "15      April   Qatar     36200\n",
              "16        May   Qatar     36300\n",
              "17       June   Qatar     36400\n",
              "18       July   Qatar     36500\n",
              "19     August   Qatar     36600"
            ]
          },
          "metadata": {
            "tags": []
          },
          "execution_count": 25
        }
      ]
    },
    {
      "cell_type": "code",
      "metadata": {
        "colab": {
          "base_uri": "https://localhost:8080/",
          "height": 35
        },
        "id": "9hDmwhzt4jYw",
        "outputId": "dec93019-ac6b-40d8-9343-5c6aa4a1560e"
      },
      "source": [
        "#airline\n",
        "'''???'''"
      ],
      "execution_count": null,
      "outputs": [
        {
          "output_type": "execute_result",
          "data": {
            "application/vnd.google.colaboratory.intrinsic+json": {
              "type": "string"
            },
            "text/plain": [
              "'???'"
            ]
          },
          "metadata": {
            "tags": []
          },
          "execution_count": 33
        }
      ]
    },
    {
      "cell_type": "markdown",
      "metadata": {
        "id": "wiCg7F_d5CDg"
      },
      "source": [
        "# StartModels API"
      ]
    },
    {
      "cell_type": "code",
      "metadata": {
        "id": "wDWo-Vgg5JUa"
      },
      "source": [
        ""
      ],
      "execution_count": null,
      "outputs": []
    },
    {
      "cell_type": "code",
      "metadata": {
        "id": "Wsix0C0Y42Z8",
        "colab": {
          "base_uri": "https://localhost:8080/"
        },
        "outputId": "60595f76-8d3c-4fe8-db45-3ba15fef52f8"
      },
      "source": [
        "import statsmodels.api as sm"
      ],
      "execution_count": null,
      "outputs": [
        {
          "output_type": "stream",
          "text": [
            "/usr/local/lib/python3.7/dist-packages/statsmodels/tools/_testing.py:19: FutureWarning: pandas.util.testing is deprecated. Use the functions in the public API at pandas.testing instead.\n",
            "  import pandas.util.testing as tm\n"
          ],
          "name": "stderr"
        }
      ]
    },
    {
      "cell_type": "code",
      "metadata": {
        "id": "gO1lHoFQ5HiU"
      },
      "source": [
        "from statsmodels.formula.api import ols#load the ols function"
      ],
      "execution_count": null,
      "outputs": []
    },
    {
      "cell_type": "code",
      "metadata": {
        "id": "wOzmgoFQ5nxS"
      },
      "source": [
        "'''\n",
        "We then use ols function to create a model. \n",
        "As input we use the scale variable, \n",
        "followed by a ~, and then the nominal variable.\n",
        "We also immediately fit this model with fit function.\n",
        "'''\n",
        "model = ols('Altitude ~ Airline', data=df).fit()"
      ],
      "execution_count": null,
      "outputs": []
    },
    {
      "cell_type": "code",
      "metadata": {
        "id": "Js_tXim46KIj"
      },
      "source": [
        "'''\n",
        "We now use the 'stats.anova_lm' \n",
        "function to see the results:\n",
        "'''\n",
        "\n",
        "aovRes = sm.stats.anova_lm(model, typ=2)\n"
      ],
      "execution_count": null,
      "outputs": []
    },
    {
      "cell_type": "code",
      "metadata": {
        "colab": {
          "base_uri": "https://localhost:8080/",
          "height": 110
        },
        "id": "UrXSzOSV6vW1",
        "outputId": "5a22d925-4b3d-4d9b-bea2-9e5dc6ff0b16"
      },
      "source": [
        "aovRes"
      ],
      "execution_count": null,
      "outputs": [
        {
          "output_type": "execute_result",
          "data": {
            "text/html": [
              "<div>\n",
              "<style scoped>\n",
              "    .dataframe tbody tr th:only-of-type {\n",
              "        vertical-align: middle;\n",
              "    }\n",
              "\n",
              "    .dataframe tbody tr th {\n",
              "        vertical-align: top;\n",
              "    }\n",
              "\n",
              "    .dataframe thead th {\n",
              "        text-align: right;\n",
              "    }\n",
              "</style>\n",
              "<table border=\"1\" class=\"dataframe\">\n",
              "  <thead>\n",
              "    <tr style=\"text-align: right;\">\n",
              "      <th></th>\n",
              "      <th>sum_sq</th>\n",
              "      <th>df</th>\n",
              "      <th>F</th>\n",
              "      <th>PR(&gt;F)</th>\n",
              "    </tr>\n",
              "  </thead>\n",
              "  <tbody>\n",
              "    <tr>\n",
              "      <th>Airline</th>\n",
              "      <td>7.020214e+08</td>\n",
              "      <td>1.0</td>\n",
              "      <td>149.607408</td>\n",
              "      <td>8.325396e-14</td>\n",
              "    </tr>\n",
              "    <tr>\n",
              "      <th>Residual</th>\n",
              "      <td>1.548500e+08</td>\n",
              "      <td>33.0</td>\n",
              "      <td>NaN</td>\n",
              "      <td>NaN</td>\n",
              "    </tr>\n",
              "  </tbody>\n",
              "</table>\n",
              "</div>"
            ],
            "text/plain": [
              "                sum_sq    df           F        PR(>F)\n",
              "Airline   7.020214e+08   1.0  149.607408  8.325396e-14\n",
              "Residual  1.548500e+08  33.0         NaN           NaN"
            ]
          },
          "metadata": {
            "tags": []
          },
          "execution_count": 30
        }
      ]
    },
    {
      "cell_type": "code",
      "metadata": {
        "id": "HOAzKYKWq8X9"
      },
      "source": [
        "model =ols(\"Altitude ~ Months\",data=df).fit()"
      ],
      "execution_count": null,
      "outputs": []
    },
    {
      "cell_type": "code",
      "metadata": {
        "id": "uql93GG7rLk7"
      },
      "source": [
        "aovResmonth =sm.stats.anova_lm(model,typ=2)"
      ],
      "execution_count": null,
      "outputs": []
    },
    {
      "cell_type": "code",
      "metadata": {
        "colab": {
          "base_uri": "https://localhost:8080/",
          "height": 110
        },
        "id": "PSWRhz_9rYtQ",
        "outputId": "3b2aeb94-b346-4863-bf4a-81bd5d154c74"
      },
      "source": [
        "aovResmonth"
      ],
      "execution_count": null,
      "outputs": [
        {
          "output_type": "execute_result",
          "data": {
            "text/html": [
              "<div>\n",
              "<style scoped>\n",
              "    .dataframe tbody tr th:only-of-type {\n",
              "        vertical-align: middle;\n",
              "    }\n",
              "\n",
              "    .dataframe tbody tr th {\n",
              "        vertical-align: top;\n",
              "    }\n",
              "\n",
              "    .dataframe thead th {\n",
              "        text-align: right;\n",
              "    }\n",
              "</style>\n",
              "<table border=\"1\" class=\"dataframe\">\n",
              "  <thead>\n",
              "    <tr style=\"text-align: right;\">\n",
              "      <th></th>\n",
              "      <th>sum_sq</th>\n",
              "      <th>df</th>\n",
              "      <th>F</th>\n",
              "      <th>PR(&gt;F)</th>\n",
              "    </tr>\n",
              "  </thead>\n",
              "  <tbody>\n",
              "    <tr>\n",
              "      <th>Months</th>\n",
              "      <td>5.052976e+07</td>\n",
              "      <td>11.0</td>\n",
              "      <td>0.131028</td>\n",
              "      <td>0.99938</td>\n",
              "    </tr>\n",
              "    <tr>\n",
              "      <th>Residual</th>\n",
              "      <td>8.063417e+08</td>\n",
              "      <td>23.0</td>\n",
              "      <td>NaN</td>\n",
              "      <td>NaN</td>\n",
              "    </tr>\n",
              "  </tbody>\n",
              "</table>\n",
              "</div>"
            ],
            "text/plain": [
              "                sum_sq    df         F   PR(>F)\n",
              "Months    5.052976e+07  11.0  0.131028  0.99938\n",
              "Residual  8.063417e+08  23.0       NaN      NaN"
            ]
          },
          "metadata": {
            "tags": []
          },
          "execution_count": 33
        }
      ]
    },
    {
      "cell_type": "markdown",
      "metadata": {
        "id": "ANkwe-Q9-psY"
      },
      "source": [
        "# Paired Samples t-Test\n",
        "A paired samples t-test can be used to check if the difference in the population will also be different from zero (i.e. the two means are not the same).\n",
        "\n",
        "- I'll use this test, if I have two scale variables thatb are related\n",
        " - DV should not contain any significant outliers"
      ]
    },
    {
      "cell_type": "code",
      "metadata": {
        "id": "ReYyMZDn6wi9"
      },
      "source": [
        "df=pd.read_csv(\"/content/drive/MyDrive/Anova_data/blood_pressure.csv\")"
      ],
      "execution_count": null,
      "outputs": []
    },
    {
      "cell_type": "code",
      "metadata": {
        "colab": {
          "base_uri": "https://localhost:8080/",
          "height": 202
        },
        "id": "t-ta1DWMB8gt",
        "outputId": "87f830a6-68d1-4bb8-9a4b-bdb441f3e512"
      },
      "source": [
        "df.head()"
      ],
      "execution_count": null,
      "outputs": [
        {
          "output_type": "execute_result",
          "data": {
            "text/html": [
              "<div>\n",
              "<style scoped>\n",
              "    .dataframe tbody tr th:only-of-type {\n",
              "        vertical-align: middle;\n",
              "    }\n",
              "\n",
              "    .dataframe tbody tr th {\n",
              "        vertical-align: top;\n",
              "    }\n",
              "\n",
              "    .dataframe thead th {\n",
              "        text-align: right;\n",
              "    }\n",
              "</style>\n",
              "<table border=\"1\" class=\"dataframe\">\n",
              "  <thead>\n",
              "    <tr style=\"text-align: right;\">\n",
              "      <th></th>\n",
              "      <th>patient</th>\n",
              "      <th>sex</th>\n",
              "      <th>agegrp</th>\n",
              "      <th>bp_before</th>\n",
              "      <th>bp_after</th>\n",
              "    </tr>\n",
              "  </thead>\n",
              "  <tbody>\n",
              "    <tr>\n",
              "      <th>0</th>\n",
              "      <td>1</td>\n",
              "      <td>Male</td>\n",
              "      <td>30-45</td>\n",
              "      <td>143</td>\n",
              "      <td>153</td>\n",
              "    </tr>\n",
              "    <tr>\n",
              "      <th>1</th>\n",
              "      <td>2</td>\n",
              "      <td>Male</td>\n",
              "      <td>30-45</td>\n",
              "      <td>163</td>\n",
              "      <td>170</td>\n",
              "    </tr>\n",
              "    <tr>\n",
              "      <th>2</th>\n",
              "      <td>3</td>\n",
              "      <td>Male</td>\n",
              "      <td>30-45</td>\n",
              "      <td>153</td>\n",
              "      <td>168</td>\n",
              "    </tr>\n",
              "    <tr>\n",
              "      <th>3</th>\n",
              "      <td>4</td>\n",
              "      <td>Male</td>\n",
              "      <td>30-45</td>\n",
              "      <td>153</td>\n",
              "      <td>142</td>\n",
              "    </tr>\n",
              "    <tr>\n",
              "      <th>4</th>\n",
              "      <td>5</td>\n",
              "      <td>Male</td>\n",
              "      <td>30-45</td>\n",
              "      <td>146</td>\n",
              "      <td>141</td>\n",
              "    </tr>\n",
              "  </tbody>\n",
              "</table>\n",
              "</div>"
            ],
            "text/plain": [
              "   patient   sex agegrp  bp_before  bp_after\n",
              "0        1  Male  30-45        143       153\n",
              "1        2  Male  30-45        163       170\n",
              "2        3  Male  30-45        153       168\n",
              "3        4  Male  30-45        153       142\n",
              "4        5  Male  30-45        146       141"
            ]
          },
          "metadata": {
            "tags": []
          },
          "execution_count": 35
        }
      ]
    },
    {
      "cell_type": "code",
      "metadata": {
        "id": "G_qLOW9gB92H",
        "colab": {
          "base_uri": "https://localhost:8080/",
          "height": 294
        },
        "outputId": "a61f4869-d0ff-4689-9770-c10593f3d293"
      },
      "source": [
        "df[['bp_before','bp_after']].describe()"
      ],
      "execution_count": null,
      "outputs": [
        {
          "output_type": "execute_result",
          "data": {
            "text/html": [
              "<div>\n",
              "<style scoped>\n",
              "    .dataframe tbody tr th:only-of-type {\n",
              "        vertical-align: middle;\n",
              "    }\n",
              "\n",
              "    .dataframe tbody tr th {\n",
              "        vertical-align: top;\n",
              "    }\n",
              "\n",
              "    .dataframe thead th {\n",
              "        text-align: right;\n",
              "    }\n",
              "</style>\n",
              "<table border=\"1\" class=\"dataframe\">\n",
              "  <thead>\n",
              "    <tr style=\"text-align: right;\">\n",
              "      <th></th>\n",
              "      <th>bp_before</th>\n",
              "      <th>bp_after</th>\n",
              "    </tr>\n",
              "  </thead>\n",
              "  <tbody>\n",
              "    <tr>\n",
              "      <th>count</th>\n",
              "      <td>120.000000</td>\n",
              "      <td>120.000000</td>\n",
              "    </tr>\n",
              "    <tr>\n",
              "      <th>mean</th>\n",
              "      <td>156.450000</td>\n",
              "      <td>151.358333</td>\n",
              "    </tr>\n",
              "    <tr>\n",
              "      <th>std</th>\n",
              "      <td>11.389845</td>\n",
              "      <td>14.177622</td>\n",
              "    </tr>\n",
              "    <tr>\n",
              "      <th>min</th>\n",
              "      <td>138.000000</td>\n",
              "      <td>125.000000</td>\n",
              "    </tr>\n",
              "    <tr>\n",
              "      <th>25%</th>\n",
              "      <td>147.000000</td>\n",
              "      <td>140.750000</td>\n",
              "    </tr>\n",
              "    <tr>\n",
              "      <th>50%</th>\n",
              "      <td>154.500000</td>\n",
              "      <td>149.500000</td>\n",
              "    </tr>\n",
              "    <tr>\n",
              "      <th>75%</th>\n",
              "      <td>164.000000</td>\n",
              "      <td>161.000000</td>\n",
              "    </tr>\n",
              "    <tr>\n",
              "      <th>max</th>\n",
              "      <td>185.000000</td>\n",
              "      <td>185.000000</td>\n",
              "    </tr>\n",
              "  </tbody>\n",
              "</table>\n",
              "</div>"
            ],
            "text/plain": [
              "        bp_before    bp_after\n",
              "count  120.000000  120.000000\n",
              "mean   156.450000  151.358333\n",
              "std     11.389845   14.177622\n",
              "min    138.000000  125.000000\n",
              "25%    147.000000  140.750000\n",
              "50%    154.500000  149.500000\n",
              "75%    164.000000  161.000000\n",
              "max    185.000000  185.000000"
            ]
          },
          "metadata": {
            "tags": []
          },
          "execution_count": 36
        }
      ]
    },
    {
      "cell_type": "code",
      "metadata": {
        "id": "6KaNBkWECRuz",
        "colab": {
          "base_uri": "https://localhost:8080/",
          "height": 352
        },
        "outputId": "34cb1953-ff7c-4ab4-ad0e-e9885583904e"
      },
      "source": [
        "#check if we have outliers\n",
        "import seaborn as sns\n",
        "sns.boxplot(x='bp_before',data=df,orient='v')\n"
      ],
      "execution_count": null,
      "outputs": [
        {
          "output_type": "stream",
          "text": [
            "/usr/local/lib/python3.7/dist-packages/seaborn/_core.py:1319: UserWarning: Vertical orientation ignored with only `x` specified.\n",
            "  warnings.warn(single_var_warning.format(\"Vertical\", \"x\"))\n"
          ],
          "name": "stderr"
        },
        {
          "output_type": "execute_result",
          "data": {
            "text/plain": [
              "<matplotlib.axes._subplots.AxesSubplot at 0x7f7e9083eb90>"
            ]
          },
          "metadata": {
            "tags": []
          },
          "execution_count": 37
        },
        {
          "output_type": "display_data",
          "data": {
            "image/png": "[encoded data removed]",
            "text/plain": [
              "<Figure size 432x288 with 1 Axes>"
            ]
          },
          "metadata": {
            "tags": [],
            "needs_background": "light"
          }
        }
      ]
    },
    {
      "cell_type": "code",
      "metadata": {
        "id": "O4IFJMHTDABq",
        "colab": {
          "base_uri": "https://localhost:8080/",
          "height": 297
        },
        "outputId": "bdca0688-6bca-4c06-99ab-801493f04b02"
      },
      "source": [
        "sns.boxplot(x='bp_after',data=df,orient='h')\n"
      ],
      "execution_count": null,
      "outputs": [
        {
          "output_type": "execute_result",
          "data": {
            "text/plain": [
              "<matplotlib.axes._subplots.AxesSubplot at 0x7f7e902b2a10>"
            ]
          },
          "metadata": {
            "tags": []
          },
          "execution_count": 38
        },
        {
          "output_type": "display_data",
          "data": {
            "image/png": "[encoded data removed]",
            "text/plain": [
              "<Figure size 432x288 with 1 Axes>"
            ]
          },
          "metadata": {
            "tags": [],
            "needs_background": "light"
          }
        }
      ]
    },
    {
      "cell_type": "code",
      "metadata": {
        "id": "3uB81pcND6Ky"
      },
      "source": [
        "'''\n",
        "we then use  'ttest_rel' function of the scipy.stats package\n",
        "'''\n",
        "from scipy.stats import ttest_rel"
      ],
      "execution_count": null,
      "outputs": []
    },
    {
      "cell_type": "code",
      "metadata": {
        "id": "7mPe7UWPEaKh",
        "colab": {
          "base_uri": "https://localhost:8080/"
        },
        "outputId": "97e3fcf8-5bf5-4944-b44e-95c68cc63728"
      },
      "source": [
        "ttest_rel(df['bp_before'], df['bp_after'])\n"
      ],
      "execution_count": null,
      "outputs": [
        {
          "output_type": "execute_result",
          "data": {
            "text/plain": [
              "Ttest_relResult(statistic=3.3371870510833657, pvalue=0.0011297914644840823)"
            ]
          },
          "metadata": {
            "tags": []
          },
          "execution_count": 40
        }
      ]
    },
    {
      "cell_type": "markdown",
      "metadata": {
        "id": "WukW9Ey1E5vl"
      },
      "source": [
        "# Results And Interpretation\n",
        "The findings are statistically significant! One can reject the null hypothesis in support of the alternative.\n",
        "\n",
        "#Explanation\n",
        "A paired sample t-test was used to analyze the blood pressure before and after the intervention to test if the intervention had a significant affect on the blood pressure. The blood pressure before the intervention was higher (156.45 ± 11.39 units) compared to the blood pressure post intervention (151.36 ± 14.18 units); there was a statistically significant decrease in blood pressure (t(119)=3.34, p= 0.0011)"
      ]
    },
    {
      "cell_type": "code",
      "metadata": {
        "colab": {
          "base_uri": "https://localhost:8080/",
          "height": 399
        },
        "id": "PrgW4HCyEfQW",
        "outputId": "3865b1a9-8861-4d55-9b8d-8f059ff85ccb"
      },
      "source": [
        "'''Did we violate Assumption of normality ?\n",
        "'''\n",
        "import matplotlib.pyplot as plt\n",
        "fig,(ax1,ax2)=plt.subplots(nrows=1,ncols=2,figsize=(15,5))\n",
        "sns.distplot(df['bp_before'],ax=ax1)\n",
        "ax1.set_xlabel('bp_level',fontsize=15)\n",
        "ax1.set_ylabel('Occurrence',fontsize=15)\n",
        "ax1.set_title(\"bp occurrence\")\n",
        "sns.despine(ax=ax1)\n",
        "ax2.tick_params(labelsize=15)\n",
        "\n",
        "\n",
        "sns.distplot(df['bp_after'],ax=ax2)\n",
        "ax2.set_xlabel('bp level',fontsize=15)\n",
        "ax2.set_ylabel('Occurrence',fontsize=15)\n",
        "ax2.set_title(\"bp occurrence\")\n",
        "sns.despine(ax=ax2)\n",
        "ax2.tick_params(labelsize=15)"
      ],
      "execution_count": null,
      "outputs": [
        {
          "output_type": "stream",
          "text": [
            "/usr/local/lib/python3.7/dist-packages/seaborn/distributions.py:2557: FutureWarning: `distplot` is a deprecated function and will be removed in a future version. Please adapt your code to use either `displot` (a figure-level function with similar flexibility) or `histplot` (an axes-level function for histograms).\n",
            "  warnings.warn(msg, FutureWarning)\n",
            "/usr/local/lib/python3.7/dist-packages/seaborn/distributions.py:2557: FutureWarning: `distplot` is a deprecated function and will be removed in a future version. Please adapt your code to use either `displot` (a figure-level function with similar flexibility) or `histplot` (an axes-level function for histograms).\n",
            "  warnings.warn(msg, FutureWarning)\n"
          ],
          "name": "stderr"
        },
        {
          "output_type": "display_data",
          "data": {
            "image/png": "[encoded data removed]",
            "text/plain": [
              "<Figure size 1080x360 with 2 Axes>"
            ]
          },
          "metadata": {
            "tags": [],
            "needs_background": "light"
          }
        }
      ]
    },
    {
      "cell_type": "markdown",
      "metadata": {
        "id": "TbrtrtXoHoMx"
      },
      "source": [
        "#Test for Normality\n",
        "There are two ways one can test for Normality\n",
        "- make a histogram,Q-Q Plot and/or \n",
        "- use a statistical test(Shapiro-Wilk). Let’s do both.(we have plotted histo now lets use statistical test)"
      ]
    },
    {
      "cell_type": "markdown",
      "metadata": {
        "id": "TH0pfzcFIRqz"
      },
      "source": [
        "The histograms of our data does not seem to be normally distributed. There looks to be some skew. Let’s test this statistically to see if the data is normally distributed. To test this, one can use the **Shapiro-Wilk test for normality**. Unfortunately the output is not labeled. The first value is \n",
        "- The W test value, and the second value is \n",
        "- The p-value."
      ]
    },
    {
      "cell_type": "code",
      "metadata": {
        "colab": {
          "base_uri": "https://localhost:8080/"
        },
        "id": "bxlWTnTCGgDh",
        "outputId": "e86ca1b5-76e1-44f5-d1b6-ac93c2a09a62"
      },
      "source": [
        "from scipy.stats import shapiro\n",
        "shapiro(df['bp_before'])"
      ],
      "execution_count": null,
      "outputs": [
        {
          "output_type": "execute_result",
          "data": {
            "text/plain": [
              "(0.9547787308692932, 0.0004928423441015184)"
            ]
          },
          "metadata": {
            "tags": []
          },
          "execution_count": 41
        }
      ]
    },
    {
      "cell_type": "code",
      "metadata": {
        "colab": {
          "base_uri": "https://localhost:8080/"
        },
        "id": "ataTyTGqI6ra",
        "outputId": "1f4a2a73-ca76-4247-a9d3-cff0838f238e"
      },
      "source": [
        "shapiro(df['bp_after'])"
      ],
      "execution_count": null,
      "outputs": [
        {
          "output_type": "execute_result",
          "data": {
            "text/plain": [
              "(0.9740639328956604, 0.020227791741490364)"
            ]
          },
          "metadata": {
            "tags": []
          },
          "execution_count": 42
        }
      ]
    },
    {
      "cell_type": "markdown",
      "metadata": {
        "id": "S1gINjvrKZzJ"
      },
      "source": [
        "Both of the variables violate the assumption of normality by a large amount.Therefore our results may not be valid"
      ]
    },
    {
      "cell_type": "markdown",
      "metadata": {
        "id": "M0qr2QPJLsDL"
      },
      "source": [
        " # Wilcoxon Sign-Ranked Test\n"
      ]
    },
    {
      "cell_type": "markdown",
      "metadata": {
        "id": "c2s-l7uHL7af"
      },
      "source": [
        "This is the recommended test to use when the data violates the assumption of normality. It’s used to test if there is a significant difference on scores when there is a “before” and “after” condition of some treatment or intervention.\n",
        "\n",
        "\n",
        " "
      ]
    },
    {
      "cell_type": "code",
      "metadata": {
        "id": "pMwXB-hYu4g3"
      },
      "source": [
        "import matplotlib.pyplot as plt\n"
      ],
      "execution_count": null,
      "outputs": []
    },
    {
      "cell_type": "code",
      "metadata": {
        "colab": {
          "base_uri": "https://localhost:8080/",
          "height": 313
        },
        "id": "EEGBStUBJ-fv",
        "outputId": "556ca2e0-1d13-427a-d815-8e1488473a65"
      },
      "source": [
        "from scipy.stats import probplot\n",
        "probplot(df['bp_before'], dist=\"norm\", plot=plt)\n",
        "plt.title(\"Blood Pressure Before Q-Q Plot\")\n"
      ],
      "execution_count": null,
      "outputs": [
        {
          "output_type": "execute_result",
          "data": {
            "text/plain": [
              "Text(0.5, 1.0, 'Blood Pressure Before Q-Q Plot')"
            ]
          },
          "metadata": {
            "tags": []
          },
          "execution_count": 45
        },
        {
          "output_type": "display_data",
          "data": {
            "image/png": "[encoded data removed]",
            "text/plain": [
              "<Figure size 432x288 with 1 Axes>"
            ]
          },
          "metadata": {
            "tags": [],
            "needs_background": "light"
          }
        }
      ]
    },
    {
      "cell_type": "code",
      "metadata": {
        "colab": {
          "base_uri": "https://localhost:8080/",
          "height": 313
        },
        "id": "PecYphm9PSx-",
        "outputId": "2041e35f-232f-4c53-ca66-321cc56bf6a4"
      },
      "source": [
        "from scipy.stats import probplot\n",
        "probplot(df['bp_after'], dist=\"norm\", plot=plt)\n",
        "plt.title(\"Blood Pressure Before Q-Q Plot\")\n"
      ],
      "execution_count": null,
      "outputs": [
        {
          "output_type": "execute_result",
          "data": {
            "text/plain": [
              "Text(0.5, 1.0, 'Blood Pressure Before Q-Q Plot')"
            ]
          },
          "metadata": {
            "tags": []
          },
          "execution_count": 46
        },
        {
          "output_type": "display_data",
          "data": {
            "image/png": "[encoded data removed]",
            "text/plain": [
              "<Figure size 432x288 with 1 Axes>"
            ]
          },
          "metadata": {
            "tags": [],
            "needs_background": "light"
          }
        }
      ]
    },
    {
      "cell_type": "markdown",
      "metadata": {
        "id": "ORKZIZEwPrYI"
      },
      "source": [
        "For both of the variables there appears to be some violations from normality particularly at the start and end of the data.(we confirmed this using shapiro wilk)"
      ]
    },
    {
      "cell_type": "code",
      "metadata": {
        "colab": {
          "base_uri": "https://localhost:8080/"
        },
        "id": "1yDUHnMMPh9-",
        "outputId": "7c262d46-ebad-4489-85f4-742ab8dcc492"
      },
      "source": [
        "'''\n",
        "we can now use wilcoxon to analyse our data\n",
        "'''\n",
        "from scipy.stats import wilcoxon\n",
        "wilcoxon(df['bp_before'], df['bp_after'])\n"
      ],
      "execution_count": null,
      "outputs": [
        {
          "output_type": "execute_result",
          "data": {
            "text/plain": [
              "WilcoxonResult(statistic=2234.5, pvalue=0.0014107333565442858)"
            ]
          },
          "metadata": {
            "tags": []
          },
          "execution_count": 47
        }
      ]
    },
    {
      "cell_type": "code",
      "metadata": {
        "colab": {
          "base_uri": "https://localhost:8080/",
          "height": 53
        },
        "id": "M99a_HloQMDw",
        "outputId": "1f5b1a33-daba-4c6b-ce5d-634883122b30"
      },
      "source": [
        "'''\n",
        "The findings are statistically significant!\n",
        " We can reject the null hypothesis in support of the alternative.\n",
        "'''"
      ],
      "execution_count": null,
      "outputs": [
        {
          "output_type": "execute_result",
          "data": {
            "application/vnd.google.colaboratory.intrinsic+json": {
              "type": "string"
            },
            "text/plain": [
              "'\\nThe findings are statistically significant!\\n We can reject the null hypothesis in support of the alternative.\\n'"
            ]
          },
          "metadata": {
            "tags": []
          },
          "execution_count": 48
        }
      ]
    },
    {
      "cell_type": "markdown",
      "metadata": {
        "id": "0JBO4GktQmz2"
      },
      "source": [
        "# CORRELATION\n"
      ]
    },
    {
      "cell_type": "markdown",
      "metadata": {
        "id": "l6jjzaUiRHhc"
      },
      "source": [
        "It is a statistical test of association between variables and is measured on a -1 to 1 scale. The closer the correlation value is to -1 or 1 the stronger the association, the closer to 0, the weaker the association. \n",
        "\n"
      ]
    },
    {
      "cell_type": "markdown",
      "metadata": {
        "id": "wln1Qk7uRelI"
      },
      "source": [
        "common types of tests to measure the level of correlation, \n",
        "- 1.Pearson\n",
        "- 2.Spearman\n",
        "- 3.and Kendall"
      ]
    },
    {
      "cell_type": "code",
      "metadata": {
        "id": "VvpJU7PHQlGi"
      },
      "source": [
        "housing_df=pd.read_csv(\"/content/sample_data/california_housing_test.csv\")"
      ],
      "execution_count": null,
      "outputs": []
    },
    {
      "cell_type": "code",
      "metadata": {
        "colab": {
          "base_uri": "https://localhost:8080/",
          "height": 325
        },
        "id": "Bmoxw5MxSWkl",
        "outputId": "d1b6e3c2-1908-461d-b3fe-fda96164ecf9"
      },
      "source": [
        "housing_df.corr().head().T"
      ],
      "execution_count": null,
      "outputs": [
        {
          "output_type": "execute_result",
          "data": {
            "text/html": [
              "<div>\n",
              "<style scoped>\n",
              "    .dataframe tbody tr th:only-of-type {\n",
              "        vertical-align: middle;\n",
              "    }\n",
              "\n",
              "    .dataframe tbody tr th {\n",
              "        vertical-align: top;\n",
              "    }\n",
              "\n",
              "    .dataframe thead th {\n",
              "        text-align: right;\n",
              "    }\n",
              "</style>\n",
              "<table border=\"1\" class=\"dataframe\">\n",
              "  <thead>\n",
              "    <tr style=\"text-align: right;\">\n",
              "      <th></th>\n",
              "      <th>longitude</th>\n",
              "      <th>latitude</th>\n",
              "      <th>housing_median_age</th>\n",
              "      <th>total_rooms</th>\n",
              "      <th>total_bedrooms</th>\n",
              "    </tr>\n",
              "  </thead>\n",
              "  <tbody>\n",
              "    <tr>\n",
              "      <th>longitude</th>\n",
              "      <td>1.000000</td>\n",
              "      <td>-0.925017</td>\n",
              "      <td>-0.064203</td>\n",
              "      <td>0.049865</td>\n",
              "      <td>0.070869</td>\n",
              "    </tr>\n",
              "    <tr>\n",
              "      <th>latitude</th>\n",
              "      <td>-0.925017</td>\n",
              "      <td>1.000000</td>\n",
              "      <td>-0.025143</td>\n",
              "      <td>-0.039632</td>\n",
              "      <td>-0.068245</td>\n",
              "    </tr>\n",
              "    <tr>\n",
              "      <th>housing_median_age</th>\n",
              "      <td>-0.064203</td>\n",
              "      <td>-0.025143</td>\n",
              "      <td>1.000000</td>\n",
              "      <td>-0.367850</td>\n",
              "      <td>-0.323154</td>\n",
              "    </tr>\n",
              "    <tr>\n",
              "      <th>total_rooms</th>\n",
              "      <td>0.049865</td>\n",
              "      <td>-0.039632</td>\n",
              "      <td>-0.367850</td>\n",
              "      <td>1.000000</td>\n",
              "      <td>0.937749</td>\n",
              "    </tr>\n",
              "    <tr>\n",
              "      <th>total_bedrooms</th>\n",
              "      <td>0.070869</td>\n",
              "      <td>-0.068245</td>\n",
              "      <td>-0.323154</td>\n",
              "      <td>0.937749</td>\n",
              "      <td>1.000000</td>\n",
              "    </tr>\n",
              "    <tr>\n",
              "      <th>population</th>\n",
              "      <td>0.111572</td>\n",
              "      <td>-0.117318</td>\n",
              "      <td>-0.299888</td>\n",
              "      <td>0.838867</td>\n",
              "      <td>0.856387</td>\n",
              "    </tr>\n",
              "    <tr>\n",
              "      <th>households</th>\n",
              "      <td>0.051062</td>\n",
              "      <td>-0.068296</td>\n",
              "      <td>-0.305171</td>\n",
              "      <td>0.914116</td>\n",
              "      <td>0.970758</td>\n",
              "    </tr>\n",
              "    <tr>\n",
              "      <th>median_income</th>\n",
              "      <td>-0.018701</td>\n",
              "      <td>-0.072363</td>\n",
              "      <td>-0.144315</td>\n",
              "      <td>0.221249</td>\n",
              "      <td>0.024025</td>\n",
              "    </tr>\n",
              "    <tr>\n",
              "      <th>median_house_value</th>\n",
              "      <td>-0.050662</td>\n",
              "      <td>-0.138428</td>\n",
              "      <td>0.091409</td>\n",
              "      <td>0.160427</td>\n",
              "      <td>0.082279</td>\n",
              "    </tr>\n",
              "  </tbody>\n",
              "</table>\n",
              "</div>"
            ],
            "text/plain": [
              "                    longitude  latitude  ...  total_rooms  total_bedrooms\n",
              "longitude            1.000000 -0.925017  ...     0.049865        0.070869\n",
              "latitude            -0.925017  1.000000  ...    -0.039632       -0.068245\n",
              "housing_median_age  -0.064203 -0.025143  ...    -0.367850       -0.323154\n",
              "total_rooms          0.049865 -0.039632  ...     1.000000        0.937749\n",
              "total_bedrooms       0.070869 -0.068245  ...     0.937749        1.000000\n",
              "population           0.111572 -0.117318  ...     0.838867        0.856387\n",
              "households           0.051062 -0.068296  ...     0.914116        0.970758\n",
              "median_income       -0.018701 -0.072363  ...     0.221249        0.024025\n",
              "median_house_value  -0.050662 -0.138428  ...     0.160427        0.082279\n",
              "\n",
              "[9 rows x 5 columns]"
            ]
          },
          "metadata": {
            "tags": []
          },
          "execution_count": 50
        }
      ]
    },
    {
      "cell_type": "code",
      "metadata": {
        "colab": {
          "base_uri": "https://localhost:8080/"
        },
        "id": "H_5AqYZTwl3a",
        "outputId": "6ee2785a-d99c-425c-e38e-909c06a74cd5"
      },
      "source": [
        "!pip install ppscore"
      ],
      "execution_count": null,
      "outputs": [
        {
          "output_type": "stream",
          "text": [
            "Collecting ppscore\n",
            "\u001b[?25l  Downloading https://files.pythonhosted.org/packages/f7/25/5d7bc56240da13ef3be08ca4b6c61747d3ca3f8db649e67d97016a0629c8/ppscore-1.2.0.tar.gz (47kB)\n",
            "\r\u001b[K     |███████                         | 10kB 13.9MB/s eta 0:00:01\r\u001b[K     |██████████████                  | 20kB 15.5MB/s eta 0:00:01\r\u001b[K     |█████████████████████           | 30kB 9.9MB/s eta 0:00:01\r\u001b[K     |███████████████████████████▉    | 40kB 9.0MB/s eta 0:00:01\r\u001b[K     |████████████████████████████████| 51kB 3.2MB/s \n",
            "\u001b[?25hRequirement already satisfied: pandas<2.0.0,>=1.0.0 in /usr/local/lib/python3.7/dist-packages (from ppscore) (1.1.5)\n",
            "Requirement already satisfied: scikit-learn<1.0.0,>=0.20.2 in /usr/local/lib/python3.7/dist-packages (from ppscore) (0.22.2.post1)\n",
            "Requirement already satisfied: pytz>=2017.2 in /usr/local/lib/python3.7/dist-packages (from pandas<2.0.0,>=1.0.0->ppscore) (2018.9)\n",
            "Requirement already satisfied: numpy>=1.15.4 in /usr/local/lib/python3.7/dist-packages (from pandas<2.0.0,>=1.0.0->ppscore) (1.19.5)\n",
            "Requirement already satisfied: python-dateutil>=2.7.3 in /usr/local/lib/python3.7/dist-packages (from pandas<2.0.0,>=1.0.0->ppscore) (2.8.1)\n",
            "Requirement already satisfied: scipy>=0.17.0 in /usr/local/lib/python3.7/dist-packages (from scikit-learn<1.0.0,>=0.20.2->ppscore) (1.4.1)\n",
            "Requirement already satisfied: joblib>=0.11 in /usr/local/lib/python3.7/dist-packages (from scikit-learn<1.0.0,>=0.20.2->ppscore) (1.0.1)\n",
            "Requirement already satisfied: six>=1.5 in /usr/local/lib/python3.7/dist-packages (from python-dateutil>=2.7.3->pandas<2.0.0,>=1.0.0->ppscore) (1.15.0)\n",
            "Building wheels for collected packages: ppscore\n",
            "  Building wheel for ppscore (setup.py) ... \u001b[?25l\u001b[?25hdone\n",
            "  Created wheel for ppscore: filename=ppscore-1.2.0-py2.py3-none-any.whl size=13050 sha256=5443a0dcb94193a50a9237d49038eb919bf8c18d02a6910b66d33dfd16cdcb95\n",
            "  Stored in directory: /root/.cache/pip/wheels/50/cc/8f/d0da07e4ec4e7a4c4cf32aee9057e4d1c318de910543b4684e\n",
            "Successfully built ppscore\n",
            "Installing collected packages: ppscore\n",
            "Successfully installed ppscore-1.2.0\n"
          ],
          "name": "stdout"
        }
      ]
    },
    {
      "cell_type": "code",
      "metadata": {
        "id": "I_rFy6agw_e6"
      },
      "source": [
        "pd.options.display.max_columns=None\n",
        "pd.options.display.max_rows=None"
      ],
      "execution_count": null,
      "outputs": []
    },
    {
      "cell_type": "code",
      "metadata": {
        "id": "B1bpc6ZySZiD"
      },
      "source": [
        "import ppscore as pps"
      ],
      "execution_count": null,
      "outputs": []
    },
    {
      "cell_type": "code",
      "metadata": {
        "id": "ye5px-1xTpTh",
        "colab": {
          "base_uri": "https://localhost:8080/",
          "height": 1000
        },
        "outputId": "ac6467a9-1a36-4ed3-9e92-b57cf05e60de"
      },
      "source": [
        "pps.matrix(housing_df)"
      ],
      "execution_count": null,
      "outputs": [
        {
          "output_type": "execute_result",
          "data": {
            "text/html": [
              "<div>\n",
              "<style scoped>\n",
              "    .dataframe tbody tr th:only-of-type {\n",
              "        vertical-align: middle;\n",
              "    }\n",
              "\n",
              "    .dataframe tbody tr th {\n",
              "        vertical-align: top;\n",
              "    }\n",
              "\n",
              "    .dataframe thead th {\n",
              "        text-align: right;\n",
              "    }\n",
              "</style>\n",
              "<table border=\"1\" class=\"dataframe\">\n",
              "  <thead>\n",
              "    <tr style=\"text-align: right;\">\n",
              "      <th></th>\n",
              "      <th>x</th>\n",
              "      <th>y</th>\n",
              "      <th>ppscore</th>\n",
              "      <th>case</th>\n",
              "      <th>is_valid_score</th>\n",
              "      <th>metric</th>\n",
              "      <th>baseline_score</th>\n",
              "      <th>model_score</th>\n",
              "      <th>model</th>\n",
              "    </tr>\n",
              "  </thead>\n",
              "  <tbody>\n",
              "    <tr>\n",
              "      <th>0</th>\n",
              "      <td>longitude</td>\n",
              "      <td>longitude</td>\n",
              "      <td>1.000000</td>\n",
              "      <td>predict_itself</td>\n",
              "      <td>True</td>\n",
              "      <td>None</td>\n",
              "      <td>0.000000</td>\n",
              "      <td>1.000000</td>\n",
              "      <td>None</td>\n",
              "    </tr>\n",
              "    <tr>\n",
              "      <th>1</th>\n",
              "      <td>longitude</td>\n",
              "      <td>latitude</td>\n",
              "      <td>0.770522</td>\n",
              "      <td>regression</td>\n",
              "      <td>True</td>\n",
              "      <td>mean absolute error</td>\n",
              "      <td>1.853283</td>\n",
              "      <td>0.425288</td>\n",
              "      <td>DecisionTreeRegressor(ccp_alpha=0.0, criterion...</td>\n",
              "    </tr>\n",
              "    <tr>\n",
              "      <th>2</th>\n",
              "      <td>longitude</td>\n",
              "      <td>housing_median_age</td>\n",
              "      <td>0.069364</td>\n",
              "      <td>regression</td>\n",
              "      <td>True</td>\n",
              "      <td>mean absolute error</td>\n",
              "      <td>10.518000</td>\n",
              "      <td>9.788424</td>\n",
              "      <td>DecisionTreeRegressor(ccp_alpha=0.0, criterion...</td>\n",
              "    </tr>\n",
              "    <tr>\n",
              "      <th>3</th>\n",
              "      <td>longitude</td>\n",
              "      <td>total_rooms</td>\n",
              "      <td>0.000000</td>\n",
              "      <td>regression</td>\n",
              "      <td>True</td>\n",
              "      <td>mean absolute error</td>\n",
              "      <td>1270.269333</td>\n",
              "      <td>1488.032478</td>\n",
              "      <td>DecisionTreeRegressor(ccp_alpha=0.0, criterion...</td>\n",
              "    </tr>\n",
              "    <tr>\n",
              "      <th>4</th>\n",
              "      <td>longitude</td>\n",
              "      <td>total_bedrooms</td>\n",
              "      <td>0.000000</td>\n",
              "      <td>regression</td>\n",
              "      <td>True</td>\n",
              "      <td>mean absolute error</td>\n",
              "      <td>252.107333</td>\n",
              "      <td>296.872408</td>\n",
              "      <td>DecisionTreeRegressor(ccp_alpha=0.0, criterion...</td>\n",
              "    </tr>\n",
              "    <tr>\n",
              "      <th>5</th>\n",
              "      <td>longitude</td>\n",
              "      <td>population</td>\n",
              "      <td>0.000000</td>\n",
              "      <td>regression</td>\n",
              "      <td>True</td>\n",
              "      <td>mean absolute error</td>\n",
              "      <td>662.914000</td>\n",
              "      <td>772.376280</td>\n",
              "      <td>DecisionTreeRegressor(ccp_alpha=0.0, criterion...</td>\n",
              "    </tr>\n",
              "    <tr>\n",
              "      <th>6</th>\n",
              "      <td>longitude</td>\n",
              "      <td>households</td>\n",
              "      <td>0.000000</td>\n",
              "      <td>regression</td>\n",
              "      <td>True</td>\n",
              "      <td>mean absolute error</td>\n",
              "      <td>228.860000</td>\n",
              "      <td>269.033153</td>\n",
              "      <td>DecisionTreeRegressor(ccp_alpha=0.0, criterion...</td>\n",
              "    </tr>\n",
              "    <tr>\n",
              "      <th>7</th>\n",
              "      <td>longitude</td>\n",
              "      <td>median_income</td>\n",
              "      <td>0.000000</td>\n",
              "      <td>regression</td>\n",
              "      <td>True</td>\n",
              "      <td>mean absolute error</td>\n",
              "      <td>1.338169</td>\n",
              "      <td>1.370494</td>\n",
              "      <td>DecisionTreeRegressor(ccp_alpha=0.0, criterion...</td>\n",
              "    </tr>\n",
              "    <tr>\n",
              "      <th>8</th>\n",
              "      <td>longitude</td>\n",
              "      <td>median_house_value</td>\n",
              "      <td>0.062415</td>\n",
              "      <td>regression</td>\n",
              "      <td>True</td>\n",
              "      <td>mean absolute error</td>\n",
              "      <td>86595.475000</td>\n",
              "      <td>81190.638647</td>\n",
              "      <td>DecisionTreeRegressor(ccp_alpha=0.0, criterion...</td>\n",
              "    </tr>\n",
              "    <tr>\n",
              "      <th>9</th>\n",
              "      <td>latitude</td>\n",
              "      <td>longitude</td>\n",
              "      <td>0.764556</td>\n",
              "      <td>regression</td>\n",
              "      <td>True</td>\n",
              "      <td>mean absolute error</td>\n",
              "      <td>1.750307</td>\n",
              "      <td>0.412100</td>\n",
              "      <td>DecisionTreeRegressor(ccp_alpha=0.0, criterion...</td>\n",
              "    </tr>\n",
              "    <tr>\n",
              "      <th>10</th>\n",
              "      <td>latitude</td>\n",
              "      <td>latitude</td>\n",
              "      <td>1.000000</td>\n",
              "      <td>predict_itself</td>\n",
              "      <td>True</td>\n",
              "      <td>None</td>\n",
              "      <td>0.000000</td>\n",
              "      <td>1.000000</td>\n",
              "      <td>None</td>\n",
              "    </tr>\n",
              "    <tr>\n",
              "      <th>11</th>\n",
              "      <td>latitude</td>\n",
              "      <td>housing_median_age</td>\n",
              "      <td>0.064069</td>\n",
              "      <td>regression</td>\n",
              "      <td>True</td>\n",
              "      <td>mean absolute error</td>\n",
              "      <td>10.518000</td>\n",
              "      <td>9.844119</td>\n",
              "      <td>DecisionTreeRegressor(ccp_alpha=0.0, criterion...</td>\n",
              "    </tr>\n",
              "    <tr>\n",
              "      <th>12</th>\n",
              "      <td>latitude</td>\n",
              "      <td>total_rooms</td>\n",
              "      <td>0.000000</td>\n",
              "      <td>regression</td>\n",
              "      <td>True</td>\n",
              "      <td>mean absolute error</td>\n",
              "      <td>1270.269333</td>\n",
              "      <td>1488.497216</td>\n",
              "      <td>DecisionTreeRegressor(ccp_alpha=0.0, criterion...</td>\n",
              "    </tr>\n",
              "    <tr>\n",
              "      <th>13</th>\n",
              "      <td>latitude</td>\n",
              "      <td>total_bedrooms</td>\n",
              "      <td>0.000000</td>\n",
              "      <td>regression</td>\n",
              "      <td>True</td>\n",
              "      <td>mean absolute error</td>\n",
              "      <td>252.107333</td>\n",
              "      <td>295.461794</td>\n",
              "      <td>DecisionTreeRegressor(ccp_alpha=0.0, criterion...</td>\n",
              "    </tr>\n",
              "    <tr>\n",
              "      <th>14</th>\n",
              "      <td>latitude</td>\n",
              "      <td>population</td>\n",
              "      <td>0.000000</td>\n",
              "      <td>regression</td>\n",
              "      <td>True</td>\n",
              "      <td>mean absolute error</td>\n",
              "      <td>662.914000</td>\n",
              "      <td>770.229364</td>\n",
              "      <td>DecisionTreeRegressor(ccp_alpha=0.0, criterion...</td>\n",
              "    </tr>\n",
              "    <tr>\n",
              "      <th>15</th>\n",
              "      <td>latitude</td>\n",
              "      <td>households</td>\n",
              "      <td>0.000000</td>\n",
              "      <td>regression</td>\n",
              "      <td>True</td>\n",
              "      <td>mean absolute error</td>\n",
              "      <td>228.860000</td>\n",
              "      <td>267.097495</td>\n",
              "      <td>DecisionTreeRegressor(ccp_alpha=0.0, criterion...</td>\n",
              "    </tr>\n",
              "    <tr>\n",
              "      <th>16</th>\n",
              "      <td>latitude</td>\n",
              "      <td>median_income</td>\n",
              "      <td>0.000000</td>\n",
              "      <td>regression</td>\n",
              "      <td>True</td>\n",
              "      <td>mean absolute error</td>\n",
              "      <td>1.338169</td>\n",
              "      <td>1.371761</td>\n",
              "      <td>DecisionTreeRegressor(ccp_alpha=0.0, criterion...</td>\n",
              "    </tr>\n",
              "    <tr>\n",
              "      <th>17</th>\n",
              "      <td>latitude</td>\n",
              "      <td>median_house_value</td>\n",
              "      <td>0.082681</td>\n",
              "      <td>regression</td>\n",
              "      <td>True</td>\n",
              "      <td>mean absolute error</td>\n",
              "      <td>86595.475000</td>\n",
              "      <td>79435.653963</td>\n",
              "      <td>DecisionTreeRegressor(ccp_alpha=0.0, criterion...</td>\n",
              "    </tr>\n",
              "    <tr>\n",
              "      <th>18</th>\n",
              "      <td>housing_median_age</td>\n",
              "      <td>longitude</td>\n",
              "      <td>0.000000</td>\n",
              "      <td>regression</td>\n",
              "      <td>True</td>\n",
              "      <td>mean absolute error</td>\n",
              "      <td>1.750307</td>\n",
              "      <td>1.805057</td>\n",
              "      <td>DecisionTreeRegressor(ccp_alpha=0.0, criterion...</td>\n",
              "    </tr>\n",
              "    <tr>\n",
              "      <th>19</th>\n",
              "      <td>housing_median_age</td>\n",
              "      <td>latitude</td>\n",
              "      <td>0.000000</td>\n",
              "      <td>regression</td>\n",
              "      <td>True</td>\n",
              "      <td>mean absolute error</td>\n",
              "      <td>1.853283</td>\n",
              "      <td>1.929961</td>\n",
              "      <td>DecisionTreeRegressor(ccp_alpha=0.0, criterion...</td>\n",
              "    </tr>\n",
              "    <tr>\n",
              "      <th>20</th>\n",
              "      <td>housing_median_age</td>\n",
              "      <td>housing_median_age</td>\n",
              "      <td>1.000000</td>\n",
              "      <td>predict_itself</td>\n",
              "      <td>True</td>\n",
              "      <td>None</td>\n",
              "      <td>0.000000</td>\n",
              "      <td>1.000000</td>\n",
              "      <td>None</td>\n",
              "    </tr>\n",
              "    <tr>\n",
              "      <th>21</th>\n",
              "      <td>housing_median_age</td>\n",
              "      <td>total_rooms</td>\n",
              "      <td>0.035017</td>\n",
              "      <td>regression</td>\n",
              "      <td>True</td>\n",
              "      <td>mean absolute error</td>\n",
              "      <td>1270.269333</td>\n",
              "      <td>1225.787696</td>\n",
              "      <td>DecisionTreeRegressor(ccp_alpha=0.0, criterion...</td>\n",
              "    </tr>\n",
              "    <tr>\n",
              "      <th>22</th>\n",
              "      <td>housing_median_age</td>\n",
              "      <td>total_bedrooms</td>\n",
              "      <td>0.019957</td>\n",
              "      <td>regression</td>\n",
              "      <td>True</td>\n",
              "      <td>mean absolute error</td>\n",
              "      <td>252.107333</td>\n",
              "      <td>247.076055</td>\n",
              "      <td>DecisionTreeRegressor(ccp_alpha=0.0, criterion...</td>\n",
              "    </tr>\n",
              "    <tr>\n",
              "      <th>23</th>\n",
              "      <td>housing_median_age</td>\n",
              "      <td>population</td>\n",
              "      <td>0.006649</td>\n",
              "      <td>regression</td>\n",
              "      <td>True</td>\n",
              "      <td>mean absolute error</td>\n",
              "      <td>662.914000</td>\n",
              "      <td>658.506339</td>\n",
              "      <td>DecisionTreeRegressor(ccp_alpha=0.0, criterion...</td>\n",
              "    </tr>\n",
              "    <tr>\n",
              "      <th>24</th>\n",
              "      <td>housing_median_age</td>\n",
              "      <td>households</td>\n",
              "      <td>0.017913</td>\n",
              "      <td>regression</td>\n",
              "      <td>True</td>\n",
              "      <td>mean absolute error</td>\n",
              "      <td>228.860000</td>\n",
              "      <td>224.760470</td>\n",
              "      <td>DecisionTreeRegressor(ccp_alpha=0.0, criterion...</td>\n",
              "    </tr>\n",
              "    <tr>\n",
              "      <th>25</th>\n",
              "      <td>housing_median_age</td>\n",
              "      <td>median_income</td>\n",
              "      <td>0.000000</td>\n",
              "      <td>regression</td>\n",
              "      <td>True</td>\n",
              "      <td>mean absolute error</td>\n",
              "      <td>1.338169</td>\n",
              "      <td>1.344244</td>\n",
              "      <td>DecisionTreeRegressor(ccp_alpha=0.0, criterion...</td>\n",
              "    </tr>\n",
              "    <tr>\n",
              "      <th>26</th>\n",
              "      <td>housing_median_age</td>\n",
              "      <td>median_house_value</td>\n",
              "      <td>0.000000</td>\n",
              "      <td>regression</td>\n",
              "      <td>True</td>\n",
              "      <td>mean absolute error</td>\n",
              "      <td>86595.475000</td>\n",
              "      <td>89129.845551</td>\n",
              "      <td>DecisionTreeRegressor(ccp_alpha=0.0, criterion...</td>\n",
              "    </tr>\n",
              "    <tr>\n",
              "      <th>27</th>\n",
              "      <td>total_rooms</td>\n",
              "      <td>longitude</td>\n",
              "      <td>0.000000</td>\n",
              "      <td>regression</td>\n",
              "      <td>True</td>\n",
              "      <td>mean absolute error</td>\n",
              "      <td>1.750307</td>\n",
              "      <td>2.196115</td>\n",
              "      <td>DecisionTreeRegressor(ccp_alpha=0.0, criterion...</td>\n",
              "    </tr>\n",
              "    <tr>\n",
              "      <th>28</th>\n",
              "      <td>total_rooms</td>\n",
              "      <td>latitude</td>\n",
              "      <td>0.000000</td>\n",
              "      <td>regression</td>\n",
              "      <td>True</td>\n",
              "      <td>mean absolute error</td>\n",
              "      <td>1.853283</td>\n",
              "      <td>2.315418</td>\n",
              "      <td>DecisionTreeRegressor(ccp_alpha=0.0, criterion...</td>\n",
              "    </tr>\n",
              "    <tr>\n",
              "      <th>29</th>\n",
              "      <td>total_rooms</td>\n",
              "      <td>housing_median_age</td>\n",
              "      <td>0.000000</td>\n",
              "      <td>regression</td>\n",
              "      <td>True</td>\n",
              "      <td>mean absolute error</td>\n",
              "      <td>10.518000</td>\n",
              "      <td>12.884889</td>\n",
              "      <td>DecisionTreeRegressor(ccp_alpha=0.0, criterion...</td>\n",
              "    </tr>\n",
              "    <tr>\n",
              "      <th>30</th>\n",
              "      <td>total_rooms</td>\n",
              "      <td>total_rooms</td>\n",
              "      <td>1.000000</td>\n",
              "      <td>predict_itself</td>\n",
              "      <td>True</td>\n",
              "      <td>None</td>\n",
              "      <td>0.000000</td>\n",
              "      <td>1.000000</td>\n",
              "      <td>None</td>\n",
              "    </tr>\n",
              "    <tr>\n",
              "      <th>31</th>\n",
              "      <td>total_rooms</td>\n",
              "      <td>total_bedrooms</td>\n",
              "      <td>0.482040</td>\n",
              "      <td>regression</td>\n",
              "      <td>True</td>\n",
              "      <td>mean absolute error</td>\n",
              "      <td>252.107333</td>\n",
              "      <td>130.581444</td>\n",
              "      <td>DecisionTreeRegressor(ccp_alpha=0.0, criterion...</td>\n",
              "    </tr>\n",
              "    <tr>\n",
              "      <th>32</th>\n",
              "      <td>total_rooms</td>\n",
              "      <td>population</td>\n",
              "      <td>0.269466</td>\n",
              "      <td>regression</td>\n",
              "      <td>True</td>\n",
              "      <td>mean absolute error</td>\n",
              "      <td>662.914000</td>\n",
              "      <td>484.281361</td>\n",
              "      <td>DecisionTreeRegressor(ccp_alpha=0.0, criterion...</td>\n",
              "    </tr>\n",
              "    <tr>\n",
              "      <th>33</th>\n",
              "      <td>total_rooms</td>\n",
              "      <td>households</td>\n",
              "      <td>0.443984</td>\n",
              "      <td>regression</td>\n",
              "      <td>True</td>\n",
              "      <td>mean absolute error</td>\n",
              "      <td>228.860000</td>\n",
              "      <td>127.249889</td>\n",
              "      <td>DecisionTreeRegressor(ccp_alpha=0.0, criterion...</td>\n",
              "    </tr>\n",
              "    <tr>\n",
              "      <th>34</th>\n",
              "      <td>total_rooms</td>\n",
              "      <td>median_income</td>\n",
              "      <td>0.000000</td>\n",
              "      <td>regression</td>\n",
              "      <td>True</td>\n",
              "      <td>mean absolute error</td>\n",
              "      <td>1.338169</td>\n",
              "      <td>1.787451</td>\n",
              "      <td>DecisionTreeRegressor(ccp_alpha=0.0, criterion...</td>\n",
              "    </tr>\n",
              "    <tr>\n",
              "      <th>35</th>\n",
              "      <td>total_rooms</td>\n",
              "      <td>median_house_value</td>\n",
              "      <td>0.000000</td>\n",
              "      <td>regression</td>\n",
              "      <td>True</td>\n",
              "      <td>mean absolute error</td>\n",
              "      <td>86595.475000</td>\n",
              "      <td>119154.905250</td>\n",
              "      <td>DecisionTreeRegressor(ccp_alpha=0.0, criterion...</td>\n",
              "    </tr>\n",
              "    <tr>\n",
              "      <th>36</th>\n",
              "      <td>total_bedrooms</td>\n",
              "      <td>longitude</td>\n",
              "      <td>0.000000</td>\n",
              "      <td>regression</td>\n",
              "      <td>True</td>\n",
              "      <td>mean absolute error</td>\n",
              "      <td>1.750307</td>\n",
              "      <td>2.036017</td>\n",
              "      <td>DecisionTreeRegressor(ccp_alpha=0.0, criterion...</td>\n",
              "    </tr>\n",
              "    <tr>\n",
              "      <th>37</th>\n",
              "      <td>total_bedrooms</td>\n",
              "      <td>latitude</td>\n",
              "      <td>0.000000</td>\n",
              "      <td>regression</td>\n",
              "      <td>True</td>\n",
              "      <td>mean absolute error</td>\n",
              "      <td>1.853283</td>\n",
              "      <td>2.160773</td>\n",
              "      <td>DecisionTreeRegressor(ccp_alpha=0.0, criterion...</td>\n",
              "    </tr>\n",
              "    <tr>\n",
              "      <th>38</th>\n",
              "      <td>total_bedrooms</td>\n",
              "      <td>housing_median_age</td>\n",
              "      <td>0.000000</td>\n",
              "      <td>regression</td>\n",
              "      <td>True</td>\n",
              "      <td>mean absolute error</td>\n",
              "      <td>10.518000</td>\n",
              "      <td>11.456379</td>\n",
              "      <td>DecisionTreeRegressor(ccp_alpha=0.0, criterion...</td>\n",
              "    </tr>\n",
              "    <tr>\n",
              "      <th>39</th>\n",
              "      <td>total_bedrooms</td>\n",
              "      <td>total_rooms</td>\n",
              "      <td>0.529899</td>\n",
              "      <td>regression</td>\n",
              "      <td>True</td>\n",
              "      <td>mean absolute error</td>\n",
              "      <td>1270.269333</td>\n",
              "      <td>597.154542</td>\n",
              "      <td>DecisionTreeRegressor(ccp_alpha=0.0, criterion...</td>\n",
              "    </tr>\n",
              "    <tr>\n",
              "      <th>40</th>\n",
              "      <td>total_bedrooms</td>\n",
              "      <td>total_bedrooms</td>\n",
              "      <td>1.000000</td>\n",
              "      <td>predict_itself</td>\n",
              "      <td>True</td>\n",
              "      <td>None</td>\n",
              "      <td>0.000000</td>\n",
              "      <td>1.000000</td>\n",
              "      <td>None</td>\n",
              "    </tr>\n",
              "    <tr>\n",
              "      <th>41</th>\n",
              "      <td>total_bedrooms</td>\n",
              "      <td>population</td>\n",
              "      <td>0.413911</td>\n",
              "      <td>regression</td>\n",
              "      <td>True</td>\n",
              "      <td>mean absolute error</td>\n",
              "      <td>662.914000</td>\n",
              "      <td>388.526660</td>\n",
              "      <td>DecisionTreeRegressor(ccp_alpha=0.0, criterion...</td>\n",
              "    </tr>\n",
              "    <tr>\n",
              "      <th>42</th>\n",
              "      <td>total_bedrooms</td>\n",
              "      <td>households</td>\n",
              "      <td>0.789978</td>\n",
              "      <td>regression</td>\n",
              "      <td>True</td>\n",
              "      <td>mean absolute error</td>\n",
              "      <td>228.860000</td>\n",
              "      <td>48.065712</td>\n",
              "      <td>DecisionTreeRegressor(ccp_alpha=0.0, criterion...</td>\n",
              "    </tr>\n",
              "    <tr>\n",
              "      <th>43</th>\n",
              "      <td>total_bedrooms</td>\n",
              "      <td>median_income</td>\n",
              "      <td>0.000000</td>\n",
              "      <td>regression</td>\n",
              "      <td>True</td>\n",
              "      <td>mean absolute error</td>\n",
              "      <td>1.338169</td>\n",
              "      <td>1.683565</td>\n",
              "      <td>DecisionTreeRegressor(ccp_alpha=0.0, criterion...</td>\n",
              "    </tr>\n",
              "    <tr>\n",
              "      <th>44</th>\n",
              "      <td>total_bedrooms</td>\n",
              "      <td>median_house_value</td>\n",
              "      <td>0.000000</td>\n",
              "      <td>regression</td>\n",
              "      <td>True</td>\n",
              "      <td>mean absolute error</td>\n",
              "      <td>86595.475000</td>\n",
              "      <td>107993.432122</td>\n",
              "      <td>DecisionTreeRegressor(ccp_alpha=0.0, criterion...</td>\n",
              "    </tr>\n",
              "    <tr>\n",
              "      <th>45</th>\n",
              "      <td>population</td>\n",
              "      <td>longitude</td>\n",
              "      <td>0.000000</td>\n",
              "      <td>regression</td>\n",
              "      <td>True</td>\n",
              "      <td>mean absolute error</td>\n",
              "      <td>1.750307</td>\n",
              "      <td>2.084748</td>\n",
              "      <td>DecisionTreeRegressor(ccp_alpha=0.0, criterion...</td>\n",
              "    </tr>\n",
              "    <tr>\n",
              "      <th>46</th>\n",
              "      <td>population</td>\n",
              "      <td>latitude</td>\n",
              "      <td>0.000000</td>\n",
              "      <td>regression</td>\n",
              "      <td>True</td>\n",
              "      <td>mean absolute error</td>\n",
              "      <td>1.853283</td>\n",
              "      <td>2.191645</td>\n",
              "      <td>DecisionTreeRegressor(ccp_alpha=0.0, criterion...</td>\n",
              "    </tr>\n",
              "    <tr>\n",
              "      <th>47</th>\n",
              "      <td>population</td>\n",
              "      <td>housing_median_age</td>\n",
              "      <td>0.000000</td>\n",
              "      <td>regression</td>\n",
              "      <td>True</td>\n",
              "      <td>mean absolute error</td>\n",
              "      <td>10.518000</td>\n",
              "      <td>12.855661</td>\n",
              "      <td>DecisionTreeRegressor(ccp_alpha=0.0, criterion...</td>\n",
              "    </tr>\n",
              "    <tr>\n",
              "      <th>48</th>\n",
              "      <td>population</td>\n",
              "      <td>total_rooms</td>\n",
              "      <td>0.259930</td>\n",
              "      <td>regression</td>\n",
              "      <td>True</td>\n",
              "      <td>mean absolute error</td>\n",
              "      <td>1270.269333</td>\n",
              "      <td>940.088844</td>\n",
              "      <td>DecisionTreeRegressor(ccp_alpha=0.0, criterion...</td>\n",
              "    </tr>\n",
              "    <tr>\n",
              "      <th>49</th>\n",
              "      <td>population</td>\n",
              "      <td>total_bedrooms</td>\n",
              "      <td>0.327805</td>\n",
              "      <td>regression</td>\n",
              "      <td>True</td>\n",
              "      <td>mean absolute error</td>\n",
              "      <td>252.107333</td>\n",
              "      <td>169.465250</td>\n",
              "      <td>DecisionTreeRegressor(ccp_alpha=0.0, criterion...</td>\n",
              "    </tr>\n",
              "    <tr>\n",
              "      <th>50</th>\n",
              "      <td>population</td>\n",
              "      <td>population</td>\n",
              "      <td>1.000000</td>\n",
              "      <td>predict_itself</td>\n",
              "      <td>True</td>\n",
              "      <td>None</td>\n",
              "      <td>0.000000</td>\n",
              "      <td>1.000000</td>\n",
              "      <td>None</td>\n",
              "    </tr>\n",
              "    <tr>\n",
              "      <th>51</th>\n",
              "      <td>population</td>\n",
              "      <td>households</td>\n",
              "      <td>0.426405</td>\n",
              "      <td>regression</td>\n",
              "      <td>True</td>\n",
              "      <td>mean absolute error</td>\n",
              "      <td>228.860000</td>\n",
              "      <td>131.272906</td>\n",
              "      <td>DecisionTreeRegressor(ccp_alpha=0.0, criterion...</td>\n",
              "    </tr>\n",
              "    <tr>\n",
              "      <th>52</th>\n",
              "      <td>population</td>\n",
              "      <td>median_income</td>\n",
              "      <td>0.000000</td>\n",
              "      <td>regression</td>\n",
              "      <td>True</td>\n",
              "      <td>mean absolute error</td>\n",
              "      <td>1.338169</td>\n",
              "      <td>1.812580</td>\n",
              "      <td>DecisionTreeRegressor(ccp_alpha=0.0, criterion...</td>\n",
              "    </tr>\n",
              "    <tr>\n",
              "      <th>53</th>\n",
              "      <td>population</td>\n",
              "      <td>median_house_value</td>\n",
              "      <td>0.000000</td>\n",
              "      <td>regression</td>\n",
              "      <td>True</td>\n",
              "      <td>mean absolute error</td>\n",
              "      <td>86595.475000</td>\n",
              "      <td>115944.327911</td>\n",
              "      <td>DecisionTreeRegressor(ccp_alpha=0.0, criterion...</td>\n",
              "    </tr>\n",
              "    <tr>\n",
              "      <th>54</th>\n",
              "      <td>households</td>\n",
              "      <td>longitude</td>\n",
              "      <td>0.000000</td>\n",
              "      <td>regression</td>\n",
              "      <td>True</td>\n",
              "      <td>mean absolute error</td>\n",
              "      <td>1.750307</td>\n",
              "      <td>2.056179</td>\n",
              "      <td>DecisionTreeRegressor(ccp_alpha=0.0, criterion...</td>\n",
              "    </tr>\n",
              "    <tr>\n",
              "      <th>55</th>\n",
              "      <td>households</td>\n",
              "      <td>latitude</td>\n",
              "      <td>0.000000</td>\n",
              "      <td>regression</td>\n",
              "      <td>True</td>\n",
              "      <td>mean absolute error</td>\n",
              "      <td>1.853283</td>\n",
              "      <td>2.201716</td>\n",
              "      <td>DecisionTreeRegressor(ccp_alpha=0.0, criterion...</td>\n",
              "    </tr>\n",
              "    <tr>\n",
              "      <th>56</th>\n",
              "      <td>households</td>\n",
              "      <td>housing_median_age</td>\n",
              "      <td>0.000000</td>\n",
              "      <td>regression</td>\n",
              "      <td>True</td>\n",
              "      <td>mean absolute error</td>\n",
              "      <td>10.518000</td>\n",
              "      <td>11.427329</td>\n",
              "      <td>DecisionTreeRegressor(ccp_alpha=0.0, criterion...</td>\n",
              "    </tr>\n",
              "    <tr>\n",
              "      <th>57</th>\n",
              "      <td>households</td>\n",
              "      <td>total_rooms</td>\n",
              "      <td>0.498999</td>\n",
              "      <td>regression</td>\n",
              "      <td>True</td>\n",
              "      <td>mean absolute error</td>\n",
              "      <td>1270.269333</td>\n",
              "      <td>636.406728</td>\n",
              "      <td>DecisionTreeRegressor(ccp_alpha=0.0, criterion...</td>\n",
              "    </tr>\n",
              "    <tr>\n",
              "      <th>58</th>\n",
              "      <td>households</td>\n",
              "      <td>total_bedrooms</td>\n",
              "      <td>0.785581</td>\n",
              "      <td>regression</td>\n",
              "      <td>True</td>\n",
              "      <td>mean absolute error</td>\n",
              "      <td>252.107333</td>\n",
              "      <td>54.056663</td>\n",
              "      <td>DecisionTreeRegressor(ccp_alpha=0.0, criterion...</td>\n",
              "    </tr>\n",
              "    <tr>\n",
              "      <th>59</th>\n",
              "      <td>households</td>\n",
              "      <td>population</td>\n",
              "      <td>0.472470</td>\n",
              "      <td>regression</td>\n",
              "      <td>True</td>\n",
              "      <td>mean absolute error</td>\n",
              "      <td>662.914000</td>\n",
              "      <td>349.707347</td>\n",
              "      <td>DecisionTreeRegressor(ccp_alpha=0.0, criterion...</td>\n",
              "    </tr>\n",
              "    <tr>\n",
              "      <th>60</th>\n",
              "      <td>households</td>\n",
              "      <td>households</td>\n",
              "      <td>1.000000</td>\n",
              "      <td>predict_itself</td>\n",
              "      <td>True</td>\n",
              "      <td>None</td>\n",
              "      <td>0.000000</td>\n",
              "      <td>1.000000</td>\n",
              "      <td>None</td>\n",
              "    </tr>\n",
              "    <tr>\n",
              "      <th>61</th>\n",
              "      <td>households</td>\n",
              "      <td>median_income</td>\n",
              "      <td>0.000000</td>\n",
              "      <td>regression</td>\n",
              "      <td>True</td>\n",
              "      <td>mean absolute error</td>\n",
              "      <td>1.338169</td>\n",
              "      <td>1.653249</td>\n",
              "      <td>DecisionTreeRegressor(ccp_alpha=0.0, criterion...</td>\n",
              "    </tr>\n",
              "    <tr>\n",
              "      <th>62</th>\n",
              "      <td>households</td>\n",
              "      <td>median_house_value</td>\n",
              "      <td>0.000000</td>\n",
              "      <td>regression</td>\n",
              "      <td>True</td>\n",
              "      <td>mean absolute error</td>\n",
              "      <td>86595.475000</td>\n",
              "      <td>109821.190038</td>\n",
              "      <td>DecisionTreeRegressor(ccp_alpha=0.0, criterion...</td>\n",
              "    </tr>\n",
              "    <tr>\n",
              "      <th>63</th>\n",
              "      <td>median_income</td>\n",
              "      <td>longitude</td>\n",
              "      <td>0.000000</td>\n",
              "      <td>regression</td>\n",
              "      <td>True</td>\n",
              "      <td>mean absolute error</td>\n",
              "      <td>1.750307</td>\n",
              "      <td>2.146191</td>\n",
              "      <td>DecisionTreeRegressor(ccp_alpha=0.0, criterion...</td>\n",
              "    </tr>\n",
              "    <tr>\n",
              "      <th>64</th>\n",
              "      <td>median_income</td>\n",
              "      <td>latitude</td>\n",
              "      <td>0.000000</td>\n",
              "      <td>regression</td>\n",
              "      <td>True</td>\n",
              "      <td>mean absolute error</td>\n",
              "      <td>1.853283</td>\n",
              "      <td>2.283231</td>\n",
              "      <td>DecisionTreeRegressor(ccp_alpha=0.0, criterion...</td>\n",
              "    </tr>\n",
              "    <tr>\n",
              "      <th>65</th>\n",
              "      <td>median_income</td>\n",
              "      <td>housing_median_age</td>\n",
              "      <td>0.000000</td>\n",
              "      <td>regression</td>\n",
              "      <td>True</td>\n",
              "      <td>mean absolute error</td>\n",
              "      <td>10.518000</td>\n",
              "      <td>13.765343</td>\n",
              "      <td>DecisionTreeRegressor(ccp_alpha=0.0, criterion...</td>\n",
              "    </tr>\n",
              "    <tr>\n",
              "      <th>66</th>\n",
              "      <td>median_income</td>\n",
              "      <td>total_rooms</td>\n",
              "      <td>0.000000</td>\n",
              "      <td>regression</td>\n",
              "      <td>True</td>\n",
              "      <td>mean absolute error</td>\n",
              "      <td>1270.269333</td>\n",
              "      <td>1798.433227</td>\n",
              "      <td>DecisionTreeRegressor(ccp_alpha=0.0, criterion...</td>\n",
              "    </tr>\n",
              "    <tr>\n",
              "      <th>67</th>\n",
              "      <td>median_income</td>\n",
              "      <td>total_bedrooms</td>\n",
              "      <td>0.000000</td>\n",
              "      <td>regression</td>\n",
              "      <td>True</td>\n",
              "      <td>mean absolute error</td>\n",
              "      <td>252.107333</td>\n",
              "      <td>368.186405</td>\n",
              "      <td>DecisionTreeRegressor(ccp_alpha=0.0, criterion...</td>\n",
              "    </tr>\n",
              "    <tr>\n",
              "      <th>68</th>\n",
              "      <td>median_income</td>\n",
              "      <td>population</td>\n",
              "      <td>0.000000</td>\n",
              "      <td>regression</td>\n",
              "      <td>True</td>\n",
              "      <td>mean absolute error</td>\n",
              "      <td>662.914000</td>\n",
              "      <td>965.680048</td>\n",
              "      <td>DecisionTreeRegressor(ccp_alpha=0.0, criterion...</td>\n",
              "    </tr>\n",
              "    <tr>\n",
              "      <th>69</th>\n",
              "      <td>median_income</td>\n",
              "      <td>households</td>\n",
              "      <td>0.000000</td>\n",
              "      <td>regression</td>\n",
              "      <td>True</td>\n",
              "      <td>mean absolute error</td>\n",
              "      <td>228.860000</td>\n",
              "      <td>331.342960</td>\n",
              "      <td>DecisionTreeRegressor(ccp_alpha=0.0, criterion...</td>\n",
              "    </tr>\n",
              "    <tr>\n",
              "      <th>70</th>\n",
              "      <td>median_income</td>\n",
              "      <td>median_income</td>\n",
              "      <td>1.000000</td>\n",
              "      <td>predict_itself</td>\n",
              "      <td>True</td>\n",
              "      <td>None</td>\n",
              "      <td>0.000000</td>\n",
              "      <td>1.000000</td>\n",
              "      <td>None</td>\n",
              "    </tr>\n",
              "    <tr>\n",
              "      <th>71</th>\n",
              "      <td>median_income</td>\n",
              "      <td>median_house_value</td>\n",
              "      <td>0.037187</td>\n",
              "      <td>regression</td>\n",
              "      <td>True</td>\n",
              "      <td>mean absolute error</td>\n",
              "      <td>86595.475000</td>\n",
              "      <td>83375.218554</td>\n",
              "      <td>DecisionTreeRegressor(ccp_alpha=0.0, criterion...</td>\n",
              "    </tr>\n",
              "    <tr>\n",
              "      <th>72</th>\n",
              "      <td>median_house_value</td>\n",
              "      <td>longitude</td>\n",
              "      <td>0.000000</td>\n",
              "      <td>regression</td>\n",
              "      <td>True</td>\n",
              "      <td>mean absolute error</td>\n",
              "      <td>1.750307</td>\n",
              "      <td>2.050367</td>\n",
              "      <td>DecisionTreeRegressor(ccp_alpha=0.0, criterion...</td>\n",
              "    </tr>\n",
              "    <tr>\n",
              "      <th>73</th>\n",
              "      <td>median_house_value</td>\n",
              "      <td>latitude</td>\n",
              "      <td>0.000000</td>\n",
              "      <td>regression</td>\n",
              "      <td>True</td>\n",
              "      <td>mean absolute error</td>\n",
              "      <td>1.853283</td>\n",
              "      <td>2.116134</td>\n",
              "      <td>DecisionTreeRegressor(ccp_alpha=0.0, criterion...</td>\n",
              "    </tr>\n",
              "    <tr>\n",
              "      <th>74</th>\n",
              "      <td>median_house_value</td>\n",
              "      <td>housing_median_age</td>\n",
              "      <td>0.000000</td>\n",
              "      <td>regression</td>\n",
              "      <td>True</td>\n",
              "      <td>mean absolute error</td>\n",
              "      <td>10.518000</td>\n",
              "      <td>13.375145</td>\n",
              "      <td>DecisionTreeRegressor(ccp_alpha=0.0, criterion...</td>\n",
              "    </tr>\n",
              "    <tr>\n",
              "      <th>75</th>\n",
              "      <td>median_house_value</td>\n",
              "      <td>total_rooms</td>\n",
              "      <td>0.000000</td>\n",
              "      <td>regression</td>\n",
              "      <td>True</td>\n",
              "      <td>mean absolute error</td>\n",
              "      <td>1270.269333</td>\n",
              "      <td>1710.036046</td>\n",
              "      <td>DecisionTreeRegressor(ccp_alpha=0.0, criterion...</td>\n",
              "    </tr>\n",
              "    <tr>\n",
              "      <th>76</th>\n",
              "      <td>median_house_value</td>\n",
              "      <td>total_bedrooms</td>\n",
              "      <td>0.000000</td>\n",
              "      <td>regression</td>\n",
              "      <td>True</td>\n",
              "      <td>mean absolute error</td>\n",
              "      <td>252.107333</td>\n",
              "      <td>345.769179</td>\n",
              "      <td>DecisionTreeRegressor(ccp_alpha=0.0, criterion...</td>\n",
              "    </tr>\n",
              "    <tr>\n",
              "      <th>77</th>\n",
              "      <td>median_house_value</td>\n",
              "      <td>population</td>\n",
              "      <td>0.000000</td>\n",
              "      <td>regression</td>\n",
              "      <td>True</td>\n",
              "      <td>mean absolute error</td>\n",
              "      <td>662.914000</td>\n",
              "      <td>896.097292</td>\n",
              "      <td>DecisionTreeRegressor(ccp_alpha=0.0, criterion...</td>\n",
              "    </tr>\n",
              "    <tr>\n",
              "      <th>78</th>\n",
              "      <td>median_house_value</td>\n",
              "      <td>households</td>\n",
              "      <td>0.000000</td>\n",
              "      <td>regression</td>\n",
              "      <td>True</td>\n",
              "      <td>mean absolute error</td>\n",
              "      <td>228.860000</td>\n",
              "      <td>309.398421</td>\n",
              "      <td>DecisionTreeRegressor(ccp_alpha=0.0, criterion...</td>\n",
              "    </tr>\n",
              "    <tr>\n",
              "      <th>79</th>\n",
              "      <td>median_house_value</td>\n",
              "      <td>median_income</td>\n",
              "      <td>0.064533</td>\n",
              "      <td>regression</td>\n",
              "      <td>True</td>\n",
              "      <td>mean absolute error</td>\n",
              "      <td>1.338169</td>\n",
              "      <td>1.251813</td>\n",
              "      <td>DecisionTreeRegressor(ccp_alpha=0.0, criterion...</td>\n",
              "    </tr>\n",
              "    <tr>\n",
              "      <th>80</th>\n",
              "      <td>median_house_value</td>\n",
              "      <td>median_house_value</td>\n",
              "      <td>1.000000</td>\n",
              "      <td>predict_itself</td>\n",
              "      <td>True</td>\n",
              "      <td>None</td>\n",
              "      <td>0.000000</td>\n",
              "      <td>1.000000</td>\n",
              "      <td>None</td>\n",
              "    </tr>\n",
              "  </tbody>\n",
              "</table>\n",
              "</div>"
            ],
            "text/plain": [
              "                     x                   y   ppscore            case  \\\n",
              "0            longitude           longitude  1.000000  predict_itself   \n",
              "1            longitude            latitude  0.770522      regression   \n",
              "2            longitude  housing_median_age  0.069364      regression   \n",
              "3            longitude         total_rooms  0.000000      regression   \n",
              "4            longitude      total_bedrooms  0.000000      regression   \n",
              "5            longitude          population  0.000000      regression   \n",
              "6            longitude          households  0.000000      regression   \n",
              "7            longitude       median_income  0.000000      regression   \n",
              "8            longitude  median_house_value  0.062415      regression   \n",
              "9             latitude           longitude  0.764556      regression   \n",
              "10            latitude            latitude  1.000000  predict_itself   \n",
              "11            latitude  housing_median_age  0.064069      regression   \n",
              "12            latitude         total_rooms  0.000000      regression   \n",
              "13            latitude      total_bedrooms  0.000000      regression   \n",
              "14            latitude          population  0.000000      regression   \n",
              "15            latitude          households  0.000000      regression   \n",
              "16            latitude       median_income  0.000000      regression   \n",
              "17            latitude  median_house_value  0.082681      regression   \n",
              "18  housing_median_age           longitude  0.000000      regression   \n",
              "19  housing_median_age            latitude  0.000000      regression   \n",
              "20  housing_median_age  housing_median_age  1.000000  predict_itself   \n",
              "21  housing_median_age         total_rooms  0.035017      regression   \n",
              "22  housing_median_age      total_bedrooms  0.019957      regression   \n",
              "23  housing_median_age          population  0.006649      regression   \n",
              "24  housing_median_age          households  0.017913      regression   \n",
              "25  housing_median_age       median_income  0.000000      regression   \n",
              "26  housing_median_age  median_house_value  0.000000      regression   \n",
              "27         total_rooms           longitude  0.000000      regression   \n",
              "28         total_rooms            latitude  0.000000      regression   \n",
              "29         total_rooms  housing_median_age  0.000000      regression   \n",
              "30         total_rooms         total_rooms  1.000000  predict_itself   \n",
              "31         total_rooms      total_bedrooms  0.482040      regression   \n",
              "32         total_rooms          population  0.269466      regression   \n",
              "33         total_rooms          households  0.443984      regression   \n",
              "34         total_rooms       median_income  0.000000      regression   \n",
              "35         total_rooms  median_house_value  0.000000      regression   \n",
              "36      total_bedrooms           longitude  0.000000      regression   \n",
              "37      total_bedrooms            latitude  0.000000      regression   \n",
              "38      total_bedrooms  housing_median_age  0.000000      regression   \n",
              "39      total_bedrooms         total_rooms  0.529899      regression   \n",
              "40      total_bedrooms      total_bedrooms  1.000000  predict_itself   \n",
              "41      total_bedrooms          population  0.413911      regression   \n",
              "42      total_bedrooms          households  0.789978      regression   \n",
              "43      total_bedrooms       median_income  0.000000      regression   \n",
              "44      total_bedrooms  median_house_value  0.000000      regression   \n",
              "45          population           longitude  0.000000      regression   \n",
              "46          population            latitude  0.000000      regression   \n",
              "47          population  housing_median_age  0.000000      regression   \n",
              "48          population         total_rooms  0.259930      regression   \n",
              "49          population      total_bedrooms  0.327805      regression   \n",
              "50          population          population  1.000000  predict_itself   \n",
              "51          population          households  0.426405      regression   \n",
              "52          population       median_income  0.000000      regression   \n",
              "53          population  median_house_value  0.000000      regression   \n",
              "54          households           longitude  0.000000      regression   \n",
              "55          households            latitude  0.000000      regression   \n",
              "56          households  housing_median_age  0.000000      regression   \n",
              "57          households         total_rooms  0.498999      regression   \n",
              "58          households      total_bedrooms  0.785581      regression   \n",
              "59          households          population  0.472470      regression   \n",
              "60          households          households  1.000000  predict_itself   \n",
              "61          households       median_income  0.000000      regression   \n",
              "62          households  median_house_value  0.000000      regression   \n",
              "63       median_income           longitude  0.000000      regression   \n",
              "64       median_income            latitude  0.000000      regression   \n",
              "65       median_income  housing_median_age  0.000000      regression   \n",
              "66       median_income         total_rooms  0.000000      regression   \n",
              "67       median_income      total_bedrooms  0.000000      regression   \n",
              "68       median_income          population  0.000000      regression   \n",
              "69       median_income          households  0.000000      regression   \n",
              "70       median_income       median_income  1.000000  predict_itself   \n",
              "71       median_income  median_house_value  0.037187      regression   \n",
              "72  median_house_value           longitude  0.000000      regression   \n",
              "73  median_house_value            latitude  0.000000      regression   \n",
              "74  median_house_value  housing_median_age  0.000000      regression   \n",
              "75  median_house_value         total_rooms  0.000000      regression   \n",
              "76  median_house_value      total_bedrooms  0.000000      regression   \n",
              "77  median_house_value          population  0.000000      regression   \n",
              "78  median_house_value          households  0.000000      regression   \n",
              "79  median_house_value       median_income  0.064533      regression   \n",
              "80  median_house_value  median_house_value  1.000000  predict_itself   \n",
              "\n",
              "    is_valid_score               metric  baseline_score    model_score  \\\n",
              "0             True                 None        0.000000       1.000000   \n",
              "1             True  mean absolute error        1.853283       0.425288   \n",
              "2             True  mean absolute error       10.518000       9.788424   \n",
              "3             True  mean absolute error     1270.269333    1488.032478   \n",
              "4             True  mean absolute error      252.107333     296.872408   \n",
              "5             True  mean absolute error      662.914000     772.376280   \n",
              "6             True  mean absolute error      228.860000     269.033153   \n",
              "7             True  mean absolute error        1.338169       1.370494   \n",
              "8             True  mean absolute error    86595.475000   81190.638647   \n",
              "9             True  mean absolute error        1.750307       0.412100   \n",
              "10            True                 None        0.000000       1.000000   \n",
              "11            True  mean absolute error       10.518000       9.844119   \n",
              "12            True  mean absolute error     1270.269333    1488.497216   \n",
              "13            True  mean absolute error      252.107333     295.461794   \n",
              "14            True  mean absolute error      662.914000     770.229364   \n",
              "15            True  mean absolute error      228.860000     267.097495   \n",
              "16            True  mean absolute error        1.338169       1.371761   \n",
              "17            True  mean absolute error    86595.475000   79435.653963   \n",
              "18            True  mean absolute error        1.750307       1.805057   \n",
              "19            True  mean absolute error        1.853283       1.929961   \n",
              "20            True                 None        0.000000       1.000000   \n",
              "21            True  mean absolute error     1270.269333    1225.787696   \n",
              "22            True  mean absolute error      252.107333     247.076055   \n",
              "23            True  mean absolute error      662.914000     658.506339   \n",
              "24            True  mean absolute error      228.860000     224.760470   \n",
              "25            True  mean absolute error        1.338169       1.344244   \n",
              "26            True  mean absolute error    86595.475000   89129.845551   \n",
              "27            True  mean absolute error        1.750307       2.196115   \n",
              "28            True  mean absolute error        1.853283       2.315418   \n",
              "29            True  mean absolute error       10.518000      12.884889   \n",
              "30            True                 None        0.000000       1.000000   \n",
              "31            True  mean absolute error      252.107333     130.581444   \n",
              "32            True  mean absolute error      662.914000     484.281361   \n",
              "33            True  mean absolute error      228.860000     127.249889   \n",
              "34            True  mean absolute error        1.338169       1.787451   \n",
              "35            True  mean absolute error    86595.475000  119154.905250   \n",
              "36            True  mean absolute error        1.750307       2.036017   \n",
              "37            True  mean absolute error        1.853283       2.160773   \n",
              "38            True  mean absolute error       10.518000      11.456379   \n",
              "39            True  mean absolute error     1270.269333     597.154542   \n",
              "40            True                 None        0.000000       1.000000   \n",
              "41            True  mean absolute error      662.914000     388.526660   \n",
              "42            True  mean absolute error      228.860000      48.065712   \n",
              "43            True  mean absolute error        1.338169       1.683565   \n",
              "44            True  mean absolute error    86595.475000  107993.432122   \n",
              "45            True  mean absolute error        1.750307       2.084748   \n",
              "46            True  mean absolute error        1.853283       2.191645   \n",
              "47            True  mean absolute error       10.518000      12.855661   \n",
              "48            True  mean absolute error     1270.269333     940.088844   \n",
              "49            True  mean absolute error      252.107333     169.465250   \n",
              "50            True                 None        0.000000       1.000000   \n",
              "51            True  mean absolute error      228.860000     131.272906   \n",
              "52            True  mean absolute error        1.338169       1.812580   \n",
              "53            True  mean absolute error    86595.475000  115944.327911   \n",
              "54            True  mean absolute error        1.750307       2.056179   \n",
              "55            True  mean absolute error        1.853283       2.201716   \n",
              "56            True  mean absolute error       10.518000      11.427329   \n",
              "57            True  mean absolute error     1270.269333     636.406728   \n",
              "58            True  mean absolute error      252.107333      54.056663   \n",
              "59            True  mean absolute error      662.914000     349.707347   \n",
              "60            True                 None        0.000000       1.000000   \n",
              "61            True  mean absolute error        1.338169       1.653249   \n",
              "62            True  mean absolute error    86595.475000  109821.190038   \n",
              "63            True  mean absolute error        1.750307       2.146191   \n",
              "64            True  mean absolute error        1.853283       2.283231   \n",
              "65            True  mean absolute error       10.518000      13.765343   \n",
              "66            True  mean absolute error     1270.269333    1798.433227   \n",
              "67            True  mean absolute error      252.107333     368.186405   \n",
              "68            True  mean absolute error      662.914000     965.680048   \n",
              "69            True  mean absolute error      228.860000     331.342960   \n",
              "70            True                 None        0.000000       1.000000   \n",
              "71            True  mean absolute error    86595.475000   83375.218554   \n",
              "72            True  mean absolute error        1.750307       2.050367   \n",
              "73            True  mean absolute error        1.853283       2.116134   \n",
              "74            True  mean absolute error       10.518000      13.375145   \n",
              "75            True  mean absolute error     1270.269333    1710.036046   \n",
              "76            True  mean absolute error      252.107333     345.769179   \n",
              "77            True  mean absolute error      662.914000     896.097292   \n",
              "78            True  mean absolute error      228.860000     309.398421   \n",
              "79            True  mean absolute error        1.338169       1.251813   \n",
              "80            True                 None        0.000000       1.000000   \n",
              "\n",
              "                                                model  \n",
              "0                                                None  \n",
              "1   DecisionTreeRegressor(ccp_alpha=0.0, criterion...  \n",
              "2   DecisionTreeRegressor(ccp_alpha=0.0, criterion...  \n",
              "3   DecisionTreeRegressor(ccp_alpha=0.0, criterion...  \n",
              "4   DecisionTreeRegressor(ccp_alpha=0.0, criterion...  \n",
              "5   DecisionTreeRegressor(ccp_alpha=0.0, criterion...  \n",
              "6   DecisionTreeRegressor(ccp_alpha=0.0, criterion...  \n",
              "7   DecisionTreeRegressor(ccp_alpha=0.0, criterion...  \n",
              "8   DecisionTreeRegressor(ccp_alpha=0.0, criterion...  \n",
              "9   DecisionTreeRegressor(ccp_alpha=0.0, criterion...  \n",
              "10                                               None  \n",
              "11  DecisionTreeRegressor(ccp_alpha=0.0, criterion...  \n",
              "12  DecisionTreeRegressor(ccp_alpha=0.0, criterion...  \n",
              "13  DecisionTreeRegressor(ccp_alpha=0.0, criterion...  \n",
              "14  DecisionTreeRegressor(ccp_alpha=0.0, criterion...  \n",
              "15  DecisionTreeRegressor(ccp_alpha=0.0, criterion...  \n",
              "16  DecisionTreeRegressor(ccp_alpha=0.0, criterion...  \n",
              "17  DecisionTreeRegressor(ccp_alpha=0.0, criterion...  \n",
              "18  DecisionTreeRegressor(ccp_alpha=0.0, criterion...  \n",
              "19  DecisionTreeRegressor(ccp_alpha=0.0, criterion...  \n",
              "20                                               None  \n",
              "21  DecisionTreeRegressor(ccp_alpha=0.0, criterion...  \n",
              "22  DecisionTreeRegressor(ccp_alpha=0.0, criterion...  \n",
              "23  DecisionTreeRegressor(ccp_alpha=0.0, criterion...  \n",
              "24  DecisionTreeRegressor(ccp_alpha=0.0, criterion...  \n",
              "25  DecisionTreeRegressor(ccp_alpha=0.0, criterion...  \n",
              "26  DecisionTreeRegressor(ccp_alpha=0.0, criterion...  \n",
              "27  DecisionTreeRegressor(ccp_alpha=0.0, criterion...  \n",
              "28  DecisionTreeRegressor(ccp_alpha=0.0, criterion...  \n",
              "29  DecisionTreeRegressor(ccp_alpha=0.0, criterion...  \n",
              "30                                               None  \n",
              "31  DecisionTreeRegressor(ccp_alpha=0.0, criterion...  \n",
              "32  DecisionTreeRegressor(ccp_alpha=0.0, criterion...  \n",
              "33  DecisionTreeRegressor(ccp_alpha=0.0, criterion...  \n",
              "34  DecisionTreeRegressor(ccp_alpha=0.0, criterion...  \n",
              "35  DecisionTreeRegressor(ccp_alpha=0.0, criterion...  \n",
              "36  DecisionTreeRegressor(ccp_alpha=0.0, criterion...  \n",
              "37  DecisionTreeRegressor(ccp_alpha=0.0, criterion...  \n",
              "38  DecisionTreeRegressor(ccp_alpha=0.0, criterion...  \n",
              "39  DecisionTreeRegressor(ccp_alpha=0.0, criterion...  \n",
              "40                                               None  \n",
              "41  DecisionTreeRegressor(ccp_alpha=0.0, criterion...  \n",
              "42  DecisionTreeRegressor(ccp_alpha=0.0, criterion...  \n",
              "43  DecisionTreeRegressor(ccp_alpha=0.0, criterion...  \n",
              "44  DecisionTreeRegressor(ccp_alpha=0.0, criterion...  \n",
              "45  DecisionTreeRegressor(ccp_alpha=0.0, criterion...  \n",
              "46  DecisionTreeRegressor(ccp_alpha=0.0, criterion...  \n",
              "47  DecisionTreeRegressor(ccp_alpha=0.0, criterion...  \n",
              "48  DecisionTreeRegressor(ccp_alpha=0.0, criterion...  \n",
              "49  DecisionTreeRegressor(ccp_alpha=0.0, criterion...  \n",
              "50                                               None  \n",
              "51  DecisionTreeRegressor(ccp_alpha=0.0, criterion...  \n",
              "52  DecisionTreeRegressor(ccp_alpha=0.0, criterion...  \n",
              "53  DecisionTreeRegressor(ccp_alpha=0.0, criterion...  \n",
              "54  DecisionTreeRegressor(ccp_alpha=0.0, criterion...  \n",
              "55  DecisionTreeRegressor(ccp_alpha=0.0, criterion...  \n",
              "56  DecisionTreeRegressor(ccp_alpha=0.0, criterion...  \n",
              "57  DecisionTreeRegressor(ccp_alpha=0.0, criterion...  \n",
              "58  DecisionTreeRegressor(ccp_alpha=0.0, criterion...  \n",
              "59  DecisionTreeRegressor(ccp_alpha=0.0, criterion...  \n",
              "60                                               None  \n",
              "61  DecisionTreeRegressor(ccp_alpha=0.0, criterion...  \n",
              "62  DecisionTreeRegressor(ccp_alpha=0.0, criterion...  \n",
              "63  DecisionTreeRegressor(ccp_alpha=0.0, criterion...  \n",
              "64  DecisionTreeRegressor(ccp_alpha=0.0, criterion...  \n",
              "65  DecisionTreeRegressor(ccp_alpha=0.0, criterion...  \n",
              "66  DecisionTreeRegressor(ccp_alpha=0.0, criterion...  \n",
              "67  DecisionTreeRegressor(ccp_alpha=0.0, criterion...  \n",
              "68  DecisionTreeRegressor(ccp_alpha=0.0, criterion...  \n",
              "69  DecisionTreeRegressor(ccp_alpha=0.0, criterion...  \n",
              "70                                               None  \n",
              "71  DecisionTreeRegressor(ccp_alpha=0.0, criterion...  \n",
              "72  DecisionTreeRegressor(ccp_alpha=0.0, criterion...  \n",
              "73  DecisionTreeRegressor(ccp_alpha=0.0, criterion...  \n",
              "74  DecisionTreeRegressor(ccp_alpha=0.0, criterion...  \n",
              "75  DecisionTreeRegressor(ccp_alpha=0.0, criterion...  \n",
              "76  DecisionTreeRegressor(ccp_alpha=0.0, criterion...  \n",
              "77  DecisionTreeRegressor(ccp_alpha=0.0, criterion...  \n",
              "78  DecisionTreeRegressor(ccp_alpha=0.0, criterion...  \n",
              "79  DecisionTreeRegressor(ccp_alpha=0.0, criterion...  \n",
              "80                                               None  "
            ]
          },
          "metadata": {
            "tags": []
          },
          "execution_count": 56
        }
      ]
    },
    {
      "cell_type": "code",
      "metadata": {
        "id": "hQgPR_0Xw4NY"
      },
      "source": [
        ""
      ],
      "execution_count": null,
      "outputs": []
    }
  ]
}