{
  "nbformat": 4,
  "nbformat_minor": 0,
  "metadata": {
    "colab": {
      "name": "Noel Oyungrwoth FINAL PROJECT ",
      "provenance": [],
      "collapsed_sections": [],
      "toc_visible": true,
      "include_colab_link": true
    },
    "kernelspec": {
      "display_name": "Python 3",
      "name": "python3"
    },
    "language_info": {
      "name": "python"
    }
  },
  "cells": [
    {
      "cell_type": "markdown",
      "metadata": {
        "id": "view-in-github",
        "colab_type": "text"
      },
      "source": [
        "<a href=\"https://colab.research.google.com/github/noel-90/ClassW/blob/main/Noel_Oyungrwoth_FINAL_PROJECT.ipynb\" target=\"_parent\"><img src=\"https://colab.research.google.com/assets/colab-badge.svg\" alt=\"Open In Colab\"/></a>"
      ]
    },
    {
      "cell_type": "code",
      "metadata": {
        "colab": {
          "base_uri": "https://localhost:8080/"
        },
        "id": "zrjrh8jiZ1Ke",
        "outputId": "5d9592b7-d097-4a9a-b460-edd93719d0d8"
      },
      "source": [
        "print('HELLO WORLD')"
      ],
      "execution_count": 4,
      "outputs": [
        {
          "output_type": "stream",
          "text": [
            "HELLO WORLD\n"
          ],
          "name": "stdout"
        }
      ]
    },
    {
      "cell_type": "code",
      "metadata": {
        "id": "Zo5zuJ7DYHuT",
        "colab": {
          "base_uri": "https://localhost:8080/"
        },
        "outputId": "b1970f6e-f6e8-449f-9da0-39ca972692d3"
      },
      "source": [
        "print('NOEL OYUNRWOTH')"
      ],
      "execution_count": 5,
      "outputs": [
        {
          "output_type": "stream",
          "text": [
            "NOEL OYUNRWOTH\n"
          ],
          "name": "stdout"
        }
      ]
    },
    {
      "cell_type": "code",
      "metadata": {
        "colab": {
          "base_uri": "https://localhost:8080/"
        },
        "id": "s6ASHxwmRIuT",
        "outputId": "3c5942cc-9873-43ce-9f5c-b3ae4d763438"
      },
      "source": [
        "print('MY FIRST DATA SCIENCE PROJECT')"
      ],
      "execution_count": 6,
      "outputs": [
        {
          "output_type": "stream",
          "text": [
            "MY FIRST DATA SCIENCE PROJECT\n"
          ],
          "name": "stdout"
        }
      ]
    },
    {
      "cell_type": "markdown",
      "metadata": {
        "id": "1Puur40cJ8Ju"
      },
      "source": [
        "**TOPIC:  CATEGORIES OF HUMAN RIGHTS VIOLATIONS REPORTED AT UHRC**"
      ]
    },
    {
      "cell_type": "markdown",
      "metadata": {
        "id": "UutsW9H7KFLz"
      },
      "source": [
        "Human rights violations in Uganda includes reports of unlawful or arbitrary killings; forced disappearance; torture; arbitrary detention; child maintenance; political prisoners; violence and intimidation against journalists, censorship, criminalization of libel, and restricted access to the internet among others \n"
      ]
    },
    {
      "cell_type": "markdown",
      "metadata": {
        "id": "VhWYpkc9KcHM"
      },
      "source": [
        "**Purpose: To understand the nature of violations reported at UHRC**"
      ]
    },
    {
      "cell_type": "markdown",
      "metadata": {
        "id": "30GpcS0iKmEr"
      },
      "source": [
        "**Objectives:**\n",
        "1.   To determine the nature of violation registered\n",
        "2.   Find out the mojor violators of Human Rights\n",
        "3.   Understanding the relationship between violations and respondents\n",
        "4.   To explore more analysis using Google colab \n",
        "\n",
        "\n"
      ]
    },
    {
      "cell_type": "markdown",
      "metadata": {
        "id": "9xMu8qHaPHqX"
      },
      "source": [
        "**1. Importing the required libraries**"
      ]
    },
    {
      "cell_type": "markdown",
      "metadata": {
        "id": "aJNxOI96PSk9"
      },
      "source": [
        "Below are the libraries that are used in order to perform"
      ]
    },
    {
      "cell_type": "code",
      "metadata": {
        "id": "0BHIGUceUvYQ"
      },
      "source": [
        "import pandas as pd\n",
        "import numpy as np\n",
        "import matplotlib.pyplot as plt\n",
        "import numpy as np\n",
        "import seaborn as sns                       #visualisation\n",
        "import matplotlib.pyplot as plt             #visualisation\n",
        "%matplotlib inline     \n",
        "sns.set(color_codes=True)"
      ],
      "execution_count": 7,
      "outputs": []
    },
    {
      "cell_type": "markdown",
      "metadata": {
        "id": "ZKU4VBnSflBT"
      },
      "source": [
        "**Uploading data set**"
      ]
    },
    {
      "cell_type": "markdown",
      "metadata": {
        "id": "9AeU8f2KP5c0"
      },
      "source": [
        "Loading the data into the pandas data frame is certainly one of the most important steps in data analysis s we can see that the value from the data set is comma-separated. So all we have to do is to just read the CSV into a data frame and pandas data frame does the job for us."
      ]
    },
    {
      "cell_type": "code",
      "metadata": {
        "colab": {
          "resources": {
            "http://localhost:8080/nbextensions/google.colab/files.js": {
              "data": "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",
              "ok": true,
              "headers": [
                [
                  "content-type",
                  "application/javascript"
                ]
              ],
              "status": 200,
              "status_text": "OK"
            }
          },
          "base_uri": "https://localhost:8080/",
          "height": 77
        },
        "id": "mK2QCCSqdsYB",
        "outputId": "dfd9ab1a-00fb-4c7b-c62b-fd049bad3216"
      },
      "source": [
        "from google.colab import files\n",
        "\n",
        "uploaded = files.upload()"
      ],
      "execution_count": 8,
      "outputs": [
        {
          "output_type": "display_data",
          "data": {
            "text/html": [
              "\n",
              "     <input type=\"file\" id=\"files-3bac0a1a-249b-417c-b250-a5a1e0d2b75e\" name=\"files[]\" multiple disabled\n",
              "        style=\"border:none\" />\n",
              "     <output id=\"result-3bac0a1a-249b-417c-b250-a5a1e0d2b75e\">\n",
              "      Upload widget is only available when the cell has been executed in the\n",
              "      current browser session. Please rerun this cell to enable.\n",
              "      </output>\n",
              "      <script src=\"/nbextensions/google.colab/files.js\"></script> "
            ],
            "text/plain": [
              "<IPython.core.display.HTML object>"
            ]
          },
          "metadata": {
            "tags": []
          }
        },
        {
          "output_type": "stream",
          "text": [
            "Saving resp.csv to resp.csv\n"
          ],
          "name": "stdout"
        }
      ]
    },
    {
      "cell_type": "code",
      "metadata": {
        "colab": {
          "base_uri": "https://localhost:8080/"
        },
        "id": "SW9co-WLdrcT",
        "outputId": "c02f5c4e-7bb3-4b9e-c374-ce0f988d556a"
      },
      "source": [
        "print(uploaded)"
      ],
      "execution_count": 9,
      "outputs": [
        {
          "output_type": "stream",
          "text": [
            "{'resp.csv': b\"Respondents,2018,2019,2020\\r\\nUganda Police Force,540,870,1320\\r\\nUganda People's Defence Forces,450,476,560\\r\\nUganda Prisons Service,380,431,501\\r\\nPrivate Individuals,400,611,1222\\r\\nPrivate business companies,321,201,184\\r\\nLocal Governments,195,255,375\\r\\nMinistry of Public Service,170,95,121\\r\\nEducational Institutions,55,79,76\\r\\nCultural Institutions,14,36,50\\r\\nUganda Wildlife Authority,114,112,226\\r\\nKampala Capital City Authority,48,67,82\\r\\nPrivate security companies,66,64,113\\r\\nNational Forestry Authority,162,201,226\\r\\nInternal Security Organisation,162,189,150\\r\\nLocal Defence Unit,136,146,115\\r\\nHospital,96,192,98\\r\\nCrime preventers,54,36,70\\r\\nNon Governmental Organisations,123,66,75\\r\\n\"}\n"
          ],
          "name": "stdout"
        }
      ]
    },
    {
      "cell_type": "code",
      "metadata": {
        "id": "w9oPI5y2jqa0"
      },
      "source": [
        "import io\n",
        "import pandas as pd\n"
      ],
      "execution_count": 10,
      "outputs": []
    },
    {
      "cell_type": "code",
      "metadata": {
        "colab": {
          "resources": {
            "http://localhost:8080/nbextensions/google.colab/files.js": {
              "data": "Ly8gQ29weXJpZ2h0IDIwMTcgR29vZ2xlIExMQwovLwovLyBMaWNlbnNlZCB1bmRlciB0aGUgQXBhY2hlIExpY2Vuc2UsIFZlcnNpb24gMi4wICh0aGUgIkxpY2Vuc2UiKTsKLy8geW91IG1heSBub3QgdXNlIHRoaXMgZmlsZSBleGNlcHQgaW4gY29tcGxpYW5jZSB3aXRoIHRoZSBMaWNlbnNlLgovLyBZb3UgbWF5IG9idGFpbiBhIGNvcHkgb2YgdGhlIExpY2Vuc2UgYXQKLy8KLy8gICAgICBodHRwOi8vd3d3LmFwYWNoZS5vcmcvbGljZW5zZXMvTElDRU5TRS0yLjAKLy8KLy8gVW5sZXNzIHJlcXVpcmVkIGJ5IGFwcGxpY2FibGUgbGF3IG9yIGFncmVlZCB0byBpbiB3cml0aW5nLCBzb2Z0d2FyZQovLyBkaXN0cmlidXRlZCB1bmRlciB0aGUgTGljZW5zZSBpcyBkaXN0cmlidXRlZCBvbiBhbiAiQVMgSVMiIEJBU0lTLAovLyBXSVRIT1VUIFdBUlJBTlRJRVMgT1IgQ09ORElUSU9OUyBPRiBBTlkgS0lORCwgZWl0aGVyIGV4cHJlc3Mgb3IgaW1wbGllZC4KLy8gU2VlIHRoZSBMaWNlbnNlIGZvciB0aGUgc3BlY2lmaWMgbGFuZ3VhZ2UgZ292ZXJuaW5nIHBlcm1pc3Npb25zIGFuZAovLyBsaW1pdGF0aW9ucyB1bmRlciB0aGUgTGljZW5zZS4KCi8qKgogKiBAZmlsZW92ZXJ2aWV3IEhlbHBlcnMgZm9yIGdvb2dsZS5jb2xhYiBQeXRob24gbW9kdWxlLgogKi8KKGZ1bmN0aW9uKHNjb3BlKSB7CmZ1bmN0aW9uIHNwYW4odGV4dCwgc3R5bGVBdHRyaWJ1dGVzID0ge30pIHsKICBjb25zdCBlbGVtZW50ID0gZG9jdW1lbnQuY3JlYXRlRWxlbWVudCgnc3BhbicpOwogIGVsZW1lbnQudGV4dENvbnRlbnQgPSB0ZXh0OwogIGZvciAoY29uc3Qga2V5IG9mIE9iamVjdC5rZXlzKHN0eWxlQXR0cmlidXRlcykpIHsKICAgIGVsZW1lbnQuc3R5bGVba2V5XSA9IHN0eWxlQXR0cmlidXRlc1trZXldOwogIH0KICByZXR1cm4gZWxlbWVudDsKfQoKLy8gTWF4IG51bWJlciBvZiBieXRlcyB3aGljaCB3aWxsIGJlIHVwbG9hZGVkIGF0IGEgdGltZS4KY29uc3QgTUFYX1BBWUxPQURfU0laRSA9IDEwMCAqIDEwMjQ7CgpmdW5jdGlvbiBfdXBsb2FkRmlsZXMoaW5wdXRJZCwgb3V0cHV0SWQpIHsKICBjb25zdCBzdGVwcyA9IHVwbG9hZEZpbGVzU3RlcChpbnB1dElkLCBvdXRwdXRJZCk7CiAgY29uc3Qgb3V0cHV0RWxlbWVudCA9IGRvY3VtZW50LmdldEVsZW1lbnRCeUlkKG91dHB1dElkKTsKICAvLyBDYWNoZSBzdGVwcyBvbiB0aGUgb3V0cHV0RWxlbWVudCB0byBtYWtlIGl0IGF2YWlsYWJsZSBmb3IgdGhlIG5leHQgY2FsbAogIC8vIHRvIHVwbG9hZEZpbGVzQ29udGludWUgZnJvbSBQeXRob24uCiAgb3V0cHV0RWxlbWVudC5zdGVwcyA9IHN0ZXBzOwoKICByZXR1cm4gX3VwbG9hZEZpbGVzQ29udGludWUob3V0cHV0SWQpOwp9CgovLyBUaGlzIGlzIHJvdWdobHkgYW4gYXN5bmMgZ2VuZXJhdG9yIChub3Qgc3VwcG9ydGVkIGluIHRoZSBicm93c2VyIHlldCksCi8vIHdoZXJlIHRoZXJlIGFyZSBtdWx0aXBsZSBhc3luY2hyb25vdXMgc3RlcHMgYW5kIHRoZSBQeXRob24gc2lkZSBpcyBnb2luZwovLyB0byBwb2xsIGZvciBjb21wbGV0aW9uIG9mIGVhY2ggc3RlcC4KLy8gVGhpcyB1c2VzIGEgUHJvbWlzZSB0byBibG9jayB0aGUgcHl0aG9uIHNpZGUgb24gY29tcGxldGlvbiBvZiBlYWNoIHN0ZXAsCi8vIHRoZW4gcGFzc2VzIHRoZSByZXN1bHQgb2YgdGhlIHByZXZpb3VzIHN0ZXAgYXMgdGhlIGlucHV0IHRvIHRoZSBuZXh0IHN0ZXAuCmZ1bmN0aW9uIF91cGxvYWRGaWxlc0NvbnRpbnVlKG91dHB1dElkKSB7CiAgY29uc3Qgb3V0cHV0RWxlbWVudCA9IGRvY3VtZW50LmdldEVsZW1lbnRCeUlkKG91dHB1dElkKTsKICBjb25zdCBzdGVwcyA9IG91dHB1dEVsZW1lbnQuc3RlcHM7CgogIGNvbnN0IG5leHQgPSBzdGVwcy5uZXh0KG91dHB1dEVsZW1lbnQubGFzdFByb21pc2VWYWx1ZSk7CiAgcmV0dXJuIFByb21pc2UucmVzb2x2ZShuZXh0LnZhbHVlLnByb21pc2UpLnRoZW4oKHZhbHVlKSA9PiB7CiAgICAvLyBDYWNoZSB0aGUgbGFzdCBwcm9taXNlIHZhbHVlIHRvIG1ha2UgaXQgYXZhaWxhYmxlIHRvIHRoZSBuZXh0CiAgICAvLyBzdGVwIG9mIHRoZSBnZW5lcmF0b3IuCiAgICBvdXRwdXRFbGVtZW50Lmxhc3RQcm9taXNlVmFsdWUgPSB2YWx1ZTsKICAgIHJldHVybiBuZXh0LnZhbHVlLnJlc3BvbnNlOwogIH0pOwp9CgovKioKICogR2VuZXJhdG9yIGZ1bmN0aW9uIHdoaWNoIGlzIGNhbGxlZCBiZXR3ZWVuIGVhY2ggYXN5bmMgc3RlcCBvZiB0aGUgdXBsb2FkCiAqIHByb2Nlc3MuCiAqIEBwYXJhbSB7c3RyaW5nfSBpbnB1dElkIEVsZW1lbnQgSUQgb2YgdGhlIGlucHV0IGZpbGUgcGlja2VyIGVsZW1lbnQuCiAqIEBwYXJhbSB7c3RyaW5nfSBvdXRwdXRJZCBFbGVtZW50IElEIG9mIHRoZSBvdXRwdXQgZGlzcGxheS4KICogQHJldHVybiB7IUl0ZXJhYmxlPCFPYmplY3Q+fSBJdGVyYWJsZSBvZiBuZXh0IHN0ZXBzLgogKi8KZnVuY3Rpb24qIHVwbG9hZEZpbGVzU3RlcChpbnB1dElkLCBvdXRwdXRJZCkgewogIGNvbnN0IGlucHV0RWxlbWVudCA9IGRvY3VtZW50LmdldEVsZW1lbnRCeUlkKGlucHV0SWQpOwogIGlucHV0RWxlbWVudC5kaXNhYmxlZCA9IGZhbHNlOwoKICBjb25zdCBvdXRwdXRFbGVtZW50ID0gZG9jdW1lbnQuZ2V0RWxlbWVudEJ5SWQob3V0cHV0SWQpOwogIG91dHB1dEVsZW1lbnQuaW5uZXJIVE1MID0gJyc7CgogIGNvbnN0IHBpY2tlZFByb21pc2UgPSBuZXcgUHJvbWlzZSgocmVzb2x2ZSkgPT4gewogICAgaW5wdXRFbGVtZW50LmFkZEV2ZW50TGlzdGVuZXIoJ2NoYW5nZScsIChlKSA9PiB7CiAgICAgIHJlc29sdmUoZS50YXJnZXQuZmlsZXMpOwogICAgfSk7CiAgfSk7CgogIGNvbnN0IGNhbmNlbCA9IGRvY3VtZW50LmNyZWF0ZUVsZW1lbnQoJ2J1dHRvbicpOwogIGlucHV0RWxlbWVudC5wYXJlbnRFbGVtZW50LmFwcGVuZENoaWxkKGNhbmNlbCk7CiAgY2FuY2VsLnRleHRDb250ZW50ID0gJ0NhbmNlbCB1cGxvYWQnOwogIGNvbnN0IGNhbmNlbFByb21pc2UgPSBuZXcgUHJvbWlzZSgocmVzb2x2ZSkgPT4gewogICAgY2FuY2VsLm9uY2xpY2sgPSAoKSA9PiB7CiAgICAgIHJlc29sdmUobnVsbCk7CiAgICB9OwogIH0pOwoKICAvLyBXYWl0IGZvciB0aGUgdXNlciB0byBwaWNrIHRoZSBmaWxlcy4KICBjb25zdCBmaWxlcyA9IHlpZWxkIHsKICAgIHByb21pc2U6IFByb21pc2UucmFjZShbcGlja2VkUHJvbWlzZSwgY2FuY2VsUHJvbWlzZV0pLAogICAgcmVzcG9uc2U6IHsKICAgICAgYWN0aW9uOiAnc3RhcnRpbmcnLAogICAgfQogIH07CgogIGNhbmNlbC5yZW1vdmUoKTsKCiAgLy8gRGlzYWJsZSB0aGUgaW5wdXQgZWxlbWVudCBzaW5jZSBmdXJ0aGVyIHBpY2tzIGFyZSBub3QgYWxsb3dlZC4KICBpbnB1dEVsZW1lbnQuZGlzYWJsZWQgPSB0cnVlOwoKICBpZiAoIWZpbGVzKSB7CiAgICByZXR1cm4gewogICAgICByZXNwb25zZTogewogICAgICAgIGFjdGlvbjogJ2NvbXBsZXRlJywKICAgICAgfQogICAgfTsKICB9CgogIGZvciAoY29uc3QgZmlsZSBvZiBmaWxlcykgewogICAgY29uc3QgbGkgPSBkb2N1bWVudC5jcmVhdGVFbGVtZW50KCdsaScpOwogICAgbGkuYXBwZW5kKHNwYW4oZmlsZS5uYW1lLCB7Zm9udFdlaWdodDogJ2JvbGQnfSkpOwogICAgbGkuYXBwZW5kKHNwYW4oCiAgICAgICAgYCgke2ZpbGUudHlwZSB8fCAnbi9hJ30pIC0gJHtmaWxlLnNpemV9IGJ5dGVzLCBgICsKICAgICAgICBgbGFzdCBtb2RpZmllZDogJHsKICAgICAgICAgICAgZmlsZS5sYXN0TW9kaWZpZWREYXRlID8gZmlsZS5sYXN0TW9kaWZpZWREYXRlLnRvTG9jYWxlRGF0ZVN0cmluZygpIDoKICAgICAgICAgICAgICAgICAgICAgICAgICAgICAgICAgICAgJ24vYSd9IC0gYCkpOwogICAgY29uc3QgcGVyY2VudCA9IHNwYW4oJzAlIGRvbmUnKTsKICAgIGxpLmFwcGVuZENoaWxkKHBlcmNlbnQpOwoKICAgIG91dHB1dEVsZW1lbnQuYXBwZW5kQ2hpbGQobGkpOwoKICAgIGNvbnN0IGZpbGVEYXRhUHJvbWlzZSA9IG5ldyBQcm9taXNlKChyZXNvbHZlKSA9PiB7CiAgICAgIGNvbnN0IHJlYWRlciA9IG5ldyBGaWxlUmVhZGVyKCk7CiAgICAgIHJlYWRlci5vbmxvYWQgPSAoZSkgPT4gewogICAgICAgIHJlc29sdmUoZS50YXJnZXQucmVzdWx0KTsKICAgICAgfTsKICAgICAgcmVhZGVyLnJlYWRBc0FycmF5QnVmZmVyKGZpbGUpOwogICAgfSk7CiAgICAvLyBXYWl0IGZvciB0aGUgZGF0YSB0byBiZSByZWFkeS4KICAgIGxldCBmaWxlRGF0YSA9IHlpZWxkIHsKICAgICAgcHJvbWlzZTogZmlsZURhdGFQcm9taXNlLAogICAgICByZXNwb25zZTogewogICAgICAgIGFjdGlvbjogJ2NvbnRpbnVlJywKICAgICAgfQogICAgfTsKCiAgICAvLyBVc2UgYSBjaHVua2VkIHNlbmRpbmcgdG8gYXZvaWQgbWVzc2FnZSBzaXplIGxpbWl0cy4gU2VlIGIvNjIxMTU2NjAuCiAgICBsZXQgcG9zaXRpb24gPSAwOwogICAgd2hpbGUgKHBvc2l0aW9uIDwgZmlsZURhdGEuYnl0ZUxlbmd0aCkgewogICAgICBjb25zdCBsZW5ndGggPSBNYXRoLm1pbihmaWxlRGF0YS5ieXRlTGVuZ3RoIC0gcG9zaXRpb24sIE1BWF9QQVlMT0FEX1NJWkUpOwogICAgICBjb25zdCBjaHVuayA9IG5ldyBVaW50OEFycmF5KGZpbGVEYXRhLCBwb3NpdGlvbiwgbGVuZ3RoKTsKICAgICAgcG9zaXRpb24gKz0gbGVuZ3RoOwoKICAgICAgY29uc3QgYmFzZTY0ID0gYnRvYShTdHJpbmcuZnJvbUNoYXJDb2RlLmFwcGx5KG51bGwsIGNodW5rKSk7CiAgICAgIHlpZWxkIHsKICAgICAgICByZXNwb25zZTogewogICAgICAgICAgYWN0aW9uOiAnYXBwZW5kJywKICAgICAgICAgIGZpbGU6IGZpbGUubmFtZSwKICAgICAgICAgIGRhdGE6IGJhc2U2NCwKICAgICAgICB9LAogICAgICB9OwogICAgICBwZXJjZW50LnRleHRDb250ZW50ID0KICAgICAgICAgIGAke01hdGgucm91bmQoKHBvc2l0aW9uIC8gZmlsZURhdGEuYnl0ZUxlbmd0aCkgKiAxMDApfSUgZG9uZWA7CiAgICB9CiAgfQoKICAvLyBBbGwgZG9uZS4KICB5aWVsZCB7CiAgICByZXNwb25zZTogewogICAgICBhY3Rpb246ICdjb21wbGV0ZScsCiAgICB9CiAgfTsKfQoKc2NvcGUuZ29vZ2xlID0gc2NvcGUuZ29vZ2xlIHx8IHt9OwpzY29wZS5nb29nbGUuY29sYWIgPSBzY29wZS5nb29nbGUuY29sYWIgfHwge307CnNjb3BlLmdvb2dsZS5jb2xhYi5fZmlsZXMgPSB7CiAgX3VwbG9hZEZpbGVzLAogIF91cGxvYWRGaWxlc0NvbnRpbnVlLAp9Owp9KShzZWxmKTsK",
              "ok": true,
              "headers": [
                [
                  "content-type",
                  "application/javascript"
                ]
              ],
              "status": 200,
              "status_text": "OK"
            }
          },
          "base_uri": "https://localhost:8080/",
          "height": 77
        },
        "id": "VxW0RAzioQQi",
        "outputId": "50e61516-ec3d-4a0a-f75c-cf1c813515e8"
      },
      "source": [
        "from google.colab import files\n",
        "\n",
        "uploaded = files.upload()"
      ],
      "execution_count": 11,
      "outputs": [
        {
          "output_type": "display_data",
          "data": {
            "text/html": [
              "\n",
              "     <input type=\"file\" id=\"files-41d3d29b-90f2-4fe8-a335-ce86fe08093c\" name=\"files[]\" multiple disabled\n",
              "        style=\"border:none\" />\n",
              "     <output id=\"result-41d3d29b-90f2-4fe8-a335-ce86fe08093c\">\n",
              "      Upload widget is only available when the cell has been executed in the\n",
              "      current browser session. Please rerun this cell to enable.\n",
              "      </output>\n",
              "      <script src=\"/nbextensions/google.colab/files.js\"></script> "
            ],
            "text/plain": [
              "<IPython.core.display.HTML object>"
            ]
          },
          "metadata": {
            "tags": []
          }
        },
        {
          "output_type": "stream",
          "text": [
            "Saving comp.csv to comp.csv\n"
          ],
          "name": "stdout"
        }
      ]
    },
    {
      "cell_type": "code",
      "metadata": {
        "colab": {
          "base_uri": "https://localhost:8080/"
        },
        "id": "xXUj80PQoYPP",
        "outputId": "d3192402-b037-4048-c62b-189b95e93075"
      },
      "source": [
        "print(uploaded)"
      ],
      "execution_count": 12,
      "outputs": [
        {
          "output_type": "stream",
          "text": [
            "{'comp.csv': b\"Respondents ,Torture,Life ,Personal liberty, Child Maintenance ,Right to Education,Deprivation to Property ,Remuneration,Un fair hearing,Neglect of PWDs,Delayed investigations,Assault,Domestic violence,Access to child,Press freedom,Right to health\\r\\nUganda Police Force,751,25,482,5,9,419,29,322,2,275,57,47,1,230,76\\r\\nUganda People's Defence Forces,416,215,301,17,14,210,51,36,5,28,25,8,2,104,54\\r\\nUganda Prisons Service,231,31,22,2,80,44,63,369,1,329,12,40,1,65,24\\r\\nPrivate Individuals,515,56,0,281,520,25,78,191,2,9,3,415,1,49,88\\r\\nPrivate business companies,24,5,0,421,65,15,94,27,1,8,1,19,,11,15\\r\\nLocal Governments,382,3,1,115,55,11,45,85,2,61,1,24,1,3,36\\r\\nMinistry of Public Service,12,0,0,0,0,7,315,23,1,15,4,8,0,0,1\\r\\nEducational Institutions,7,7,0,24,2,6,130,14,1,12,1,2,0,4,0\\r\\nCultural Institutions,5,1,0,2,15,4,64,1,1,1,3,0,1,1,1\\r\\nUganda Wildlife Authority,287,32,15,3,14,3,36,3,1,3,,0,1,22,32\\r\\nKampala Capital City Authority,88,2,66,8,1,3,5,1,5,1,1,0,0,4,12\\r\\nPrivate security companies,158,14,12,23,6,2,4,3,6,2,1,1,0,1,10\\r\\nNational Forestry Authority,315,61,71,1,3,71,5,5,25,2,1,3,1,1,24\\r\\nInternal Security Organisation,145,22,265,0,11,28,6,2,10,,15,2,2,0,1\\r\\nLocal Defence Unit,203,87,41,0,3,3,25,5,9,2,11,3,1,2,2\\r\\nHospital,2,5,0,0,2,1,10,3,1,1,0,2,1,2,356\\r\\nCrime preventers,97,35,8,0,1,3,0,1,2,1,0,0,,0,12\\r\\nNon Governmental organisations,23,0,0,2,3,2,34,1,5,1,1,0,1,0,191\\r\\n\"}\n"
          ],
          "name": "stdout"
        }
      ]
    },
    {
      "cell_type": "code",
      "metadata": {
        "colab": {
          "base_uri": "https://localhost:8080/",
          "height": 614
        },
        "id": "wP5XDcRGocIP",
        "outputId": "2a0d28db-fb56-4247-96f2-2babe3bad4cb"
      },
      "source": [
        "df = pd.read_csv(\"resp.csv\")\n",
        "# To display \n",
        "df.head(20) "
      ],
      "execution_count": 13,
      "outputs": [
        {
          "output_type": "execute_result",
          "data": {
            "text/html": [
              "<div>\n",
              "<style scoped>\n",
              "    .dataframe tbody tr th:only-of-type {\n",
              "        vertical-align: middle;\n",
              "    }\n",
              "\n",
              "    .dataframe tbody tr th {\n",
              "        vertical-align: top;\n",
              "    }\n",
              "\n",
              "    .dataframe thead th {\n",
              "        text-align: right;\n",
              "    }\n",
              "</style>\n",
              "<table border=\"1\" class=\"dataframe\">\n",
              "  <thead>\n",
              "    <tr style=\"text-align: right;\">\n",
              "      <th></th>\n",
              "      <th>Respondents</th>\n",
              "      <th>2018</th>\n",
              "      <th>2019</th>\n",
              "      <th>2020</th>\n",
              "    </tr>\n",
              "  </thead>\n",
              "  <tbody>\n",
              "    <tr>\n",
              "      <th>0</th>\n",
              "      <td>Uganda Police Force</td>\n",
              "      <td>540</td>\n",
              "      <td>870</td>\n",
              "      <td>1320</td>\n",
              "    </tr>\n",
              "    <tr>\n",
              "      <th>1</th>\n",
              "      <td>Uganda People's Defence Forces</td>\n",
              "      <td>450</td>\n",
              "      <td>476</td>\n",
              "      <td>560</td>\n",
              "    </tr>\n",
              "    <tr>\n",
              "      <th>2</th>\n",
              "      <td>Uganda Prisons Service</td>\n",
              "      <td>380</td>\n",
              "      <td>431</td>\n",
              "      <td>501</td>\n",
              "    </tr>\n",
              "    <tr>\n",
              "      <th>3</th>\n",
              "      <td>Private Individuals</td>\n",
              "      <td>400</td>\n",
              "      <td>611</td>\n",
              "      <td>1222</td>\n",
              "    </tr>\n",
              "    <tr>\n",
              "      <th>4</th>\n",
              "      <td>Private business companies</td>\n",
              "      <td>321</td>\n",
              "      <td>201</td>\n",
              "      <td>184</td>\n",
              "    </tr>\n",
              "    <tr>\n",
              "      <th>5</th>\n",
              "      <td>Local Governments</td>\n",
              "      <td>195</td>\n",
              "      <td>255</td>\n",
              "      <td>375</td>\n",
              "    </tr>\n",
              "    <tr>\n",
              "      <th>6</th>\n",
              "      <td>Ministry of Public Service</td>\n",
              "      <td>170</td>\n",
              "      <td>95</td>\n",
              "      <td>121</td>\n",
              "    </tr>\n",
              "    <tr>\n",
              "      <th>7</th>\n",
              "      <td>Educational Institutions</td>\n",
              "      <td>55</td>\n",
              "      <td>79</td>\n",
              "      <td>76</td>\n",
              "    </tr>\n",
              "    <tr>\n",
              "      <th>8</th>\n",
              "      <td>Cultural Institutions</td>\n",
              "      <td>14</td>\n",
              "      <td>36</td>\n",
              "      <td>50</td>\n",
              "    </tr>\n",
              "    <tr>\n",
              "      <th>9</th>\n",
              "      <td>Uganda Wildlife Authority</td>\n",
              "      <td>114</td>\n",
              "      <td>112</td>\n",
              "      <td>226</td>\n",
              "    </tr>\n",
              "    <tr>\n",
              "      <th>10</th>\n",
              "      <td>Kampala Capital City Authority</td>\n",
              "      <td>48</td>\n",
              "      <td>67</td>\n",
              "      <td>82</td>\n",
              "    </tr>\n",
              "    <tr>\n",
              "      <th>11</th>\n",
              "      <td>Private security companies</td>\n",
              "      <td>66</td>\n",
              "      <td>64</td>\n",
              "      <td>113</td>\n",
              "    </tr>\n",
              "    <tr>\n",
              "      <th>12</th>\n",
              "      <td>National Forestry Authority</td>\n",
              "      <td>162</td>\n",
              "      <td>201</td>\n",
              "      <td>226</td>\n",
              "    </tr>\n",
              "    <tr>\n",
              "      <th>13</th>\n",
              "      <td>Internal Security Organisation</td>\n",
              "      <td>162</td>\n",
              "      <td>189</td>\n",
              "      <td>150</td>\n",
              "    </tr>\n",
              "    <tr>\n",
              "      <th>14</th>\n",
              "      <td>Local Defence Unit</td>\n",
              "      <td>136</td>\n",
              "      <td>146</td>\n",
              "      <td>115</td>\n",
              "    </tr>\n",
              "    <tr>\n",
              "      <th>15</th>\n",
              "      <td>Hospital</td>\n",
              "      <td>96</td>\n",
              "      <td>192</td>\n",
              "      <td>98</td>\n",
              "    </tr>\n",
              "    <tr>\n",
              "      <th>16</th>\n",
              "      <td>Crime preventers</td>\n",
              "      <td>54</td>\n",
              "      <td>36</td>\n",
              "      <td>70</td>\n",
              "    </tr>\n",
              "    <tr>\n",
              "      <th>17</th>\n",
              "      <td>Non Governmental Organisations</td>\n",
              "      <td>123</td>\n",
              "      <td>66</td>\n",
              "      <td>75</td>\n",
              "    </tr>\n",
              "  </tbody>\n",
              "</table>\n",
              "</div>"
            ],
            "text/plain": [
              "                       Respondents  2018  2019  2020\n",
              "0              Uganda Police Force   540   870  1320\n",
              "1   Uganda People's Defence Forces   450   476   560\n",
              "2           Uganda Prisons Service   380   431   501\n",
              "3              Private Individuals   400   611  1222\n",
              "4       Private business companies   321   201   184\n",
              "5                Local Governments   195   255   375\n",
              "6       Ministry of Public Service   170    95   121\n",
              "7         Educational Institutions    55    79    76\n",
              "8            Cultural Institutions    14    36    50\n",
              "9        Uganda Wildlife Authority   114   112   226\n",
              "10  Kampala Capital City Authority    48    67    82\n",
              "11      Private security companies    66    64   113\n",
              "12     National Forestry Authority   162   201   226\n",
              "13  Internal Security Organisation   162   189   150\n",
              "14              Local Defence Unit   136   146   115\n",
              "15                        Hospital    96   192    98\n",
              "16                Crime preventers    54    36    70\n",
              "17  Non Governmental Organisations   123    66    75"
            ]
          },
          "metadata": {
            "tags": []
          },
          "execution_count": 13
        }
      ]
    },
    {
      "cell_type": "code",
      "metadata": {
        "colab": {
          "base_uri": "https://localhost:8080/",
          "height": 206
        },
        "id": "aShdVCFlqPEy",
        "outputId": "e0df598b-4fed-4736-a9a6-874cc927cb79"
      },
      "source": [
        "df.tail(5) #To desplay the bottom 5 rows"
      ],
      "execution_count": 14,
      "outputs": [
        {
          "output_type": "execute_result",
          "data": {
            "text/html": [
              "<div>\n",
              "<style scoped>\n",
              "    .dataframe tbody tr th:only-of-type {\n",
              "        vertical-align: middle;\n",
              "    }\n",
              "\n",
              "    .dataframe tbody tr th {\n",
              "        vertical-align: top;\n",
              "    }\n",
              "\n",
              "    .dataframe thead th {\n",
              "        text-align: right;\n",
              "    }\n",
              "</style>\n",
              "<table border=\"1\" class=\"dataframe\">\n",
              "  <thead>\n",
              "    <tr style=\"text-align: right;\">\n",
              "      <th></th>\n",
              "      <th>Respondents</th>\n",
              "      <th>2018</th>\n",
              "      <th>2019</th>\n",
              "      <th>2020</th>\n",
              "    </tr>\n",
              "  </thead>\n",
              "  <tbody>\n",
              "    <tr>\n",
              "      <th>13</th>\n",
              "      <td>Internal Security Organisation</td>\n",
              "      <td>162</td>\n",
              "      <td>189</td>\n",
              "      <td>150</td>\n",
              "    </tr>\n",
              "    <tr>\n",
              "      <th>14</th>\n",
              "      <td>Local Defence Unit</td>\n",
              "      <td>136</td>\n",
              "      <td>146</td>\n",
              "      <td>115</td>\n",
              "    </tr>\n",
              "    <tr>\n",
              "      <th>15</th>\n",
              "      <td>Hospital</td>\n",
              "      <td>96</td>\n",
              "      <td>192</td>\n",
              "      <td>98</td>\n",
              "    </tr>\n",
              "    <tr>\n",
              "      <th>16</th>\n",
              "      <td>Crime preventers</td>\n",
              "      <td>54</td>\n",
              "      <td>36</td>\n",
              "      <td>70</td>\n",
              "    </tr>\n",
              "    <tr>\n",
              "      <th>17</th>\n",
              "      <td>Non Governmental Organisations</td>\n",
              "      <td>123</td>\n",
              "      <td>66</td>\n",
              "      <td>75</td>\n",
              "    </tr>\n",
              "  </tbody>\n",
              "</table>\n",
              "</div>"
            ],
            "text/plain": [
              "                       Respondents  2018  2019  2020\n",
              "13  Internal Security Organisation   162   189   150\n",
              "14              Local Defence Unit   136   146   115\n",
              "15                        Hospital    96   192    98\n",
              "16                Crime preventers    54    36    70\n",
              "17  Non Governmental Organisations   123    66    75"
            ]
          },
          "metadata": {
            "tags": []
          },
          "execution_count": 14
        }
      ]
    },
    {
      "cell_type": "markdown",
      "metadata": {
        "id": "hlRhxb1EWXbu"
      },
      "source": [
        "**3. Checking the types of data**"
      ]
    },
    {
      "cell_type": "markdown",
      "metadata": {
        "id": "U5H1zJPeqqJZ"
      },
      "source": [
        "Here we check for the datatypes because sometimes the respondents are stored as a string, if in that case, we have to convert that string to the integer data only then we can plot the data via a graph. Here, in this case, the data is already in integer format so nothing to worry."
      ]
    },
    {
      "cell_type": "code",
      "metadata": {
        "colab": {
          "base_uri": "https://localhost:8080/"
        },
        "id": "EsrAQ1_8qnn2",
        "outputId": "cab20c7c-ae7a-4fa5-d524-af475b65bb36"
      },
      "source": [
        "df.dtypes"
      ],
      "execution_count": 15,
      "outputs": [
        {
          "output_type": "execute_result",
          "data": {
            "text/plain": [
              "Respondents    object\n",
              "2018            int64\n",
              "2019            int64\n",
              "2020            int64\n",
              "dtype: object"
            ]
          },
          "metadata": {
            "tags": []
          },
          "execution_count": 15
        }
      ]
    },
    {
      "cell_type": "markdown",
      "metadata": {
        "id": "-vIg44hxrbO3"
      },
      "source": [
        "**4. Renaming the columns**"
      ]
    },
    {
      "cell_type": "markdown",
      "metadata": {
        "id": "EOv-rtHArnuX"
      },
      "source": [
        "In this case i would like to name one column that was not named and rename the respondent colum."
      ]
    },
    {
      "cell_type": "code",
      "metadata": {
        "colab": {
          "base_uri": "https://localhost:8080/",
          "height": 614
        },
        "id": "mlcs3eHlsAKn",
        "outputId": "c8e0008d-29ca-4f8d-b2ad-ed8bcf59a41d"
      },
      "source": [
        "df = df.rename(columns={\"Respondents\": \"violators\", \"2018\": \"Year 2018\", \"2019\": \"Year 2019\",\"2020\":\"Year 2020\"})\n",
        "df.head(20)"
      ],
      "execution_count": 16,
      "outputs": [
        {
          "output_type": "execute_result",
          "data": {
            "text/html": [
              "<div>\n",
              "<style scoped>\n",
              "    .dataframe tbody tr th:only-of-type {\n",
              "        vertical-align: middle;\n",
              "    }\n",
              "\n",
              "    .dataframe tbody tr th {\n",
              "        vertical-align: top;\n",
              "    }\n",
              "\n",
              "    .dataframe thead th {\n",
              "        text-align: right;\n",
              "    }\n",
              "</style>\n",
              "<table border=\"1\" class=\"dataframe\">\n",
              "  <thead>\n",
              "    <tr style=\"text-align: right;\">\n",
              "      <th></th>\n",
              "      <th>violators</th>\n",
              "      <th>Year 2018</th>\n",
              "      <th>Year 2019</th>\n",
              "      <th>Year 2020</th>\n",
              "    </tr>\n",
              "  </thead>\n",
              "  <tbody>\n",
              "    <tr>\n",
              "      <th>0</th>\n",
              "      <td>Uganda Police Force</td>\n",
              "      <td>540</td>\n",
              "      <td>870</td>\n",
              "      <td>1320</td>\n",
              "    </tr>\n",
              "    <tr>\n",
              "      <th>1</th>\n",
              "      <td>Uganda People's Defence Forces</td>\n",
              "      <td>450</td>\n",
              "      <td>476</td>\n",
              "      <td>560</td>\n",
              "    </tr>\n",
              "    <tr>\n",
              "      <th>2</th>\n",
              "      <td>Uganda Prisons Service</td>\n",
              "      <td>380</td>\n",
              "      <td>431</td>\n",
              "      <td>501</td>\n",
              "    </tr>\n",
              "    <tr>\n",
              "      <th>3</th>\n",
              "      <td>Private Individuals</td>\n",
              "      <td>400</td>\n",
              "      <td>611</td>\n",
              "      <td>1222</td>\n",
              "    </tr>\n",
              "    <tr>\n",
              "      <th>4</th>\n",
              "      <td>Private business companies</td>\n",
              "      <td>321</td>\n",
              "      <td>201</td>\n",
              "      <td>184</td>\n",
              "    </tr>\n",
              "    <tr>\n",
              "      <th>5</th>\n",
              "      <td>Local Governments</td>\n",
              "      <td>195</td>\n",
              "      <td>255</td>\n",
              "      <td>375</td>\n",
              "    </tr>\n",
              "    <tr>\n",
              "      <th>6</th>\n",
              "      <td>Ministry of Public Service</td>\n",
              "      <td>170</td>\n",
              "      <td>95</td>\n",
              "      <td>121</td>\n",
              "    </tr>\n",
              "    <tr>\n",
              "      <th>7</th>\n",
              "      <td>Educational Institutions</td>\n",
              "      <td>55</td>\n",
              "      <td>79</td>\n",
              "      <td>76</td>\n",
              "    </tr>\n",
              "    <tr>\n",
              "      <th>8</th>\n",
              "      <td>Cultural Institutions</td>\n",
              "      <td>14</td>\n",
              "      <td>36</td>\n",
              "      <td>50</td>\n",
              "    </tr>\n",
              "    <tr>\n",
              "      <th>9</th>\n",
              "      <td>Uganda Wildlife Authority</td>\n",
              "      <td>114</td>\n",
              "      <td>112</td>\n",
              "      <td>226</td>\n",
              "    </tr>\n",
              "    <tr>\n",
              "      <th>10</th>\n",
              "      <td>Kampala Capital City Authority</td>\n",
              "      <td>48</td>\n",
              "      <td>67</td>\n",
              "      <td>82</td>\n",
              "    </tr>\n",
              "    <tr>\n",
              "      <th>11</th>\n",
              "      <td>Private security companies</td>\n",
              "      <td>66</td>\n",
              "      <td>64</td>\n",
              "      <td>113</td>\n",
              "    </tr>\n",
              "    <tr>\n",
              "      <th>12</th>\n",
              "      <td>National Forestry Authority</td>\n",
              "      <td>162</td>\n",
              "      <td>201</td>\n",
              "      <td>226</td>\n",
              "    </tr>\n",
              "    <tr>\n",
              "      <th>13</th>\n",
              "      <td>Internal Security Organisation</td>\n",
              "      <td>162</td>\n",
              "      <td>189</td>\n",
              "      <td>150</td>\n",
              "    </tr>\n",
              "    <tr>\n",
              "      <th>14</th>\n",
              "      <td>Local Defence Unit</td>\n",
              "      <td>136</td>\n",
              "      <td>146</td>\n",
              "      <td>115</td>\n",
              "    </tr>\n",
              "    <tr>\n",
              "      <th>15</th>\n",
              "      <td>Hospital</td>\n",
              "      <td>96</td>\n",
              "      <td>192</td>\n",
              "      <td>98</td>\n",
              "    </tr>\n",
              "    <tr>\n",
              "      <th>16</th>\n",
              "      <td>Crime preventers</td>\n",
              "      <td>54</td>\n",
              "      <td>36</td>\n",
              "      <td>70</td>\n",
              "    </tr>\n",
              "    <tr>\n",
              "      <th>17</th>\n",
              "      <td>Non Governmental Organisations</td>\n",
              "      <td>123</td>\n",
              "      <td>66</td>\n",
              "      <td>75</td>\n",
              "    </tr>\n",
              "  </tbody>\n",
              "</table>\n",
              "</div>"
            ],
            "text/plain": [
              "                         violators  Year 2018  Year 2019  Year 2020\n",
              "0              Uganda Police Force        540        870       1320\n",
              "1   Uganda People's Defence Forces        450        476        560\n",
              "2           Uganda Prisons Service        380        431        501\n",
              "3              Private Individuals        400        611       1222\n",
              "4       Private business companies        321        201        184\n",
              "5                Local Governments        195        255        375\n",
              "6       Ministry of Public Service        170         95        121\n",
              "7         Educational Institutions         55         79         76\n",
              "8            Cultural Institutions         14         36         50\n",
              "9        Uganda Wildlife Authority        114        112        226\n",
              "10  Kampala Capital City Authority         48         67         82\n",
              "11      Private security companies         66         64        113\n",
              "12     National Forestry Authority        162        201        226\n",
              "13  Internal Security Organisation        162        189        150\n",
              "14              Local Defence Unit        136        146        115\n",
              "15                        Hospital         96        192         98\n",
              "16                Crime preventers         54         36         70\n",
              "17  Non Governmental Organisations        123         66         75"
            ]
          },
          "metadata": {
            "tags": []
          },
          "execution_count": 16
        }
      ]
    },
    {
      "cell_type": "markdown",
      "metadata": {
        "id": "bawbXbWvtSKt"
      },
      "source": [
        "**5. Looking for the duplicate rows**"
      ]
    },
    {
      "cell_type": "markdown",
      "metadata": {
        "id": "1bebmRbLtc-m"
      },
      "source": [
        ""
      ]
    },
    {
      "cell_type": "code",
      "metadata": {
        "colab": {
          "base_uri": "https://localhost:8080/"
        },
        "id": "kyG1VZrwtddG",
        "outputId": "38090956-2ec0-4321-c767-c92b5a96ac9f"
      },
      "source": [
        "df.shape"
      ],
      "execution_count": 17,
      "outputs": [
        {
          "output_type": "execute_result",
          "data": {
            "text/plain": [
              "(18, 4)"
            ]
          },
          "metadata": {
            "tags": []
          },
          "execution_count": 17
        }
      ]
    },
    {
      "cell_type": "code",
      "metadata": {
        "colab": {
          "base_uri": "https://localhost:8080/"
        },
        "id": "wxrQk3ymtmLf",
        "outputId": "1421cff2-363d-4c08-b6bb-01f9a3d0d268"
      },
      "source": [
        "duplicate_rows_df = df[df.duplicated()]\n",
        "print(\"number of duplicate rows: \", duplicate_rows_df.shape)"
      ],
      "execution_count": 18,
      "outputs": [
        {
          "output_type": "stream",
          "text": [
            "number of duplicate rows:  (0, 4)\n"
          ],
          "name": "stdout"
        }
      ]
    },
    {
      "cell_type": "markdown",
      "metadata": {
        "id": "aLY5V-eut2g9"
      },
      "source": [
        "let me sort out the duplicate data"
      ]
    },
    {
      "cell_type": "code",
      "metadata": {
        "colab": {
          "base_uri": "https://localhost:8080/"
        },
        "id": "vxlZahGet134",
        "outputId": "ddf9d9a8-0cae-4802-9024-8b77c00da8df"
      },
      "source": [
        "df.count()      # Used to count the number of rows"
      ],
      "execution_count": 19,
      "outputs": [
        {
          "output_type": "execute_result",
          "data": {
            "text/plain": [
              "violators    18\n",
              "Year 2018    18\n",
              "Year 2019    18\n",
              "Year 2020    18\n",
              "dtype: int64"
            ]
          },
          "metadata": {
            "tags": []
          },
          "execution_count": 19
        }
      ]
    },
    {
      "cell_type": "code",
      "metadata": {
        "colab": {
          "base_uri": "https://localhost:8080/",
          "height": 614
        },
        "id": "OdgLTXiXuSom",
        "outputId": "7ede2646-964b-41b7-a600-11a3ff99d8f4"
      },
      "source": [
        "df = df.drop_duplicates()\n",
        "df.head(20)"
      ],
      "execution_count": 20,
      "outputs": [
        {
          "output_type": "execute_result",
          "data": {
            "text/html": [
              "<div>\n",
              "<style scoped>\n",
              "    .dataframe tbody tr th:only-of-type {\n",
              "        vertical-align: middle;\n",
              "    }\n",
              "\n",
              "    .dataframe tbody tr th {\n",
              "        vertical-align: top;\n",
              "    }\n",
              "\n",
              "    .dataframe thead th {\n",
              "        text-align: right;\n",
              "    }\n",
              "</style>\n",
              "<table border=\"1\" class=\"dataframe\">\n",
              "  <thead>\n",
              "    <tr style=\"text-align: right;\">\n",
              "      <th></th>\n",
              "      <th>violators</th>\n",
              "      <th>Year 2018</th>\n",
              "      <th>Year 2019</th>\n",
              "      <th>Year 2020</th>\n",
              "    </tr>\n",
              "  </thead>\n",
              "  <tbody>\n",
              "    <tr>\n",
              "      <th>0</th>\n",
              "      <td>Uganda Police Force</td>\n",
              "      <td>540</td>\n",
              "      <td>870</td>\n",
              "      <td>1320</td>\n",
              "    </tr>\n",
              "    <tr>\n",
              "      <th>1</th>\n",
              "      <td>Uganda People's Defence Forces</td>\n",
              "      <td>450</td>\n",
              "      <td>476</td>\n",
              "      <td>560</td>\n",
              "    </tr>\n",
              "    <tr>\n",
              "      <th>2</th>\n",
              "      <td>Uganda Prisons Service</td>\n",
              "      <td>380</td>\n",
              "      <td>431</td>\n",
              "      <td>501</td>\n",
              "    </tr>\n",
              "    <tr>\n",
              "      <th>3</th>\n",
              "      <td>Private Individuals</td>\n",
              "      <td>400</td>\n",
              "      <td>611</td>\n",
              "      <td>1222</td>\n",
              "    </tr>\n",
              "    <tr>\n",
              "      <th>4</th>\n",
              "      <td>Private business companies</td>\n",
              "      <td>321</td>\n",
              "      <td>201</td>\n",
              "      <td>184</td>\n",
              "    </tr>\n",
              "    <tr>\n",
              "      <th>5</th>\n",
              "      <td>Local Governments</td>\n",
              "      <td>195</td>\n",
              "      <td>255</td>\n",
              "      <td>375</td>\n",
              "    </tr>\n",
              "    <tr>\n",
              "      <th>6</th>\n",
              "      <td>Ministry of Public Service</td>\n",
              "      <td>170</td>\n",
              "      <td>95</td>\n",
              "      <td>121</td>\n",
              "    </tr>\n",
              "    <tr>\n",
              "      <th>7</th>\n",
              "      <td>Educational Institutions</td>\n",
              "      <td>55</td>\n",
              "      <td>79</td>\n",
              "      <td>76</td>\n",
              "    </tr>\n",
              "    <tr>\n",
              "      <th>8</th>\n",
              "      <td>Cultural Institutions</td>\n",
              "      <td>14</td>\n",
              "      <td>36</td>\n",
              "      <td>50</td>\n",
              "    </tr>\n",
              "    <tr>\n",
              "      <th>9</th>\n",
              "      <td>Uganda Wildlife Authority</td>\n",
              "      <td>114</td>\n",
              "      <td>112</td>\n",
              "      <td>226</td>\n",
              "    </tr>\n",
              "    <tr>\n",
              "      <th>10</th>\n",
              "      <td>Kampala Capital City Authority</td>\n",
              "      <td>48</td>\n",
              "      <td>67</td>\n",
              "      <td>82</td>\n",
              "    </tr>\n",
              "    <tr>\n",
              "      <th>11</th>\n",
              "      <td>Private security companies</td>\n",
              "      <td>66</td>\n",
              "      <td>64</td>\n",
              "      <td>113</td>\n",
              "    </tr>\n",
              "    <tr>\n",
              "      <th>12</th>\n",
              "      <td>National Forestry Authority</td>\n",
              "      <td>162</td>\n",
              "      <td>201</td>\n",
              "      <td>226</td>\n",
              "    </tr>\n",
              "    <tr>\n",
              "      <th>13</th>\n",
              "      <td>Internal Security Organisation</td>\n",
              "      <td>162</td>\n",
              "      <td>189</td>\n",
              "      <td>150</td>\n",
              "    </tr>\n",
              "    <tr>\n",
              "      <th>14</th>\n",
              "      <td>Local Defence Unit</td>\n",
              "      <td>136</td>\n",
              "      <td>146</td>\n",
              "      <td>115</td>\n",
              "    </tr>\n",
              "    <tr>\n",
              "      <th>15</th>\n",
              "      <td>Hospital</td>\n",
              "      <td>96</td>\n",
              "      <td>192</td>\n",
              "      <td>98</td>\n",
              "    </tr>\n",
              "    <tr>\n",
              "      <th>16</th>\n",
              "      <td>Crime preventers</td>\n",
              "      <td>54</td>\n",
              "      <td>36</td>\n",
              "      <td>70</td>\n",
              "    </tr>\n",
              "    <tr>\n",
              "      <th>17</th>\n",
              "      <td>Non Governmental Organisations</td>\n",
              "      <td>123</td>\n",
              "      <td>66</td>\n",
              "      <td>75</td>\n",
              "    </tr>\n",
              "  </tbody>\n",
              "</table>\n",
              "</div>"
            ],
            "text/plain": [
              "                         violators  Year 2018  Year 2019  Year 2020\n",
              "0              Uganda Police Force        540        870       1320\n",
              "1   Uganda People's Defence Forces        450        476        560\n",
              "2           Uganda Prisons Service        380        431        501\n",
              "3              Private Individuals        400        611       1222\n",
              "4       Private business companies        321        201        184\n",
              "5                Local Governments        195        255        375\n",
              "6       Ministry of Public Service        170         95        121\n",
              "7         Educational Institutions         55         79         76\n",
              "8            Cultural Institutions         14         36         50\n",
              "9        Uganda Wildlife Authority        114        112        226\n",
              "10  Kampala Capital City Authority         48         67         82\n",
              "11      Private security companies         66         64        113\n",
              "12     National Forestry Authority        162        201        226\n",
              "13  Internal Security Organisation        162        189        150\n",
              "14              Local Defence Unit        136        146        115\n",
              "15                        Hospital         96        192         98\n",
              "16                Crime preventers         54         36         70\n",
              "17  Non Governmental Organisations        123         66         75"
            ]
          },
          "metadata": {
            "tags": []
          },
          "execution_count": 20
        }
      ]
    },
    {
      "cell_type": "code",
      "metadata": {
        "colab": {
          "base_uri": "https://localhost:8080/"
        },
        "id": "ZzqDkxG7ue6e",
        "outputId": "7834cc10-e633-4bca-8a83-c08197ca4e8d"
      },
      "source": [
        "df.count()"
      ],
      "execution_count": 21,
      "outputs": [
        {
          "output_type": "execute_result",
          "data": {
            "text/plain": [
              "violators    18\n",
              "Year 2018    18\n",
              "Year 2019    18\n",
              "Year 2020    18\n",
              "dtype: int64"
            ]
          },
          "metadata": {
            "tags": []
          },
          "execution_count": 21
        }
      ]
    },
    {
      "cell_type": "markdown",
      "metadata": {
        "id": "tTSXajTZupBu"
      },
      "source": [
        "**6. Detecting Outliers**"
      ]
    },
    {
      "cell_type": "markdown",
      "metadata": {
        "id": "hLvox9ulu9q-"
      },
      "source": [
        "An outlier is a point or set of points that are different from other points. Sometimes they can be very high or very low. It's often a good idea to detect and remove the outliers. Because outliers are one of the primary reasons for resulting in a less accurate model. Hence it's a good idea to remove them. The outlier detection and removing that I am going to perform is called IQR score technique. Often outliers can be seen with visualizations using a box plot"
      ]
    },
    {
      "cell_type": "code",
      "metadata": {
        "colab": {
          "base_uri": "https://localhost:8080/",
          "height": 303
        },
        "id": "VQbCXAe_vGCQ",
        "outputId": "61127485-8153-4ac7-adbf-17ccf8b3253f"
      },
      "source": [
        "sns.boxplot(x=df['Year 2018'])"
      ],
      "execution_count": 22,
      "outputs": [
        {
          "output_type": "execute_result",
          "data": {
            "text/plain": [
              "<matplotlib.axes._subplots.AxesSubplot at 0x7f6280542f90>"
            ]
          },
          "metadata": {
            "tags": []
          },
          "execution_count": 22
        },
        {
          "output_type": "display_data",
          "data": {
            "image/png": "[encoded data removed]",
            "text/plain": [
              "<Figure size 432x288 with 1 Axes>"
            ]
          },
          "metadata": {
            "tags": []
          }
        }
      ]
    },
    {
      "cell_type": "code",
      "metadata": {
        "colab": {
          "base_uri": "https://localhost:8080/",
          "height": 303
        },
        "id": "B45YWD2pv8ql",
        "outputId": "3fc60376-e981-455d-db42-4f2fb18564a1"
      },
      "source": [
        "sns.boxplot(x=df['Year 2019'])"
      ],
      "execution_count": 23,
      "outputs": [
        {
          "output_type": "execute_result",
          "data": {
            "text/plain": [
              "<matplotlib.axes._subplots.AxesSubplot at 0x7f627211ae50>"
            ]
          },
          "metadata": {
            "tags": []
          },
          "execution_count": 23
        },
        {
          "output_type": "display_data",
          "data": {
            "image/png": "[encoded data removed]",
            "text/plain": [
              "<Figure size 432x288 with 1 Axes>"
            ]
          },
          "metadata": {
            "tags": []
          }
        }
      ]
    },
    {
      "cell_type": "code",
      "metadata": {
        "colab": {
          "base_uri": "https://localhost:8080/",
          "height": 303
        },
        "id": "BIeT-4v7wCBO",
        "outputId": "fd5ff8c6-e51d-4981-93c9-5a33a2e32d7d"
      },
      "source": [
        "sns.boxplot(x=df['Year 2020'])"
      ],
      "execution_count": 24,
      "outputs": [
        {
          "output_type": "execute_result",
          "data": {
            "text/plain": [
              "<matplotlib.axes._subplots.AxesSubplot at 0x7f6271c48350>"
            ]
          },
          "metadata": {
            "tags": []
          },
          "execution_count": 24
        },
        {
          "output_type": "display_data",
          "data": {
            "image/png": "[encoded data removed]",
            "text/plain": [
              "<Figure size 432x288 with 1 Axes>"
            ]
          },
          "metadata": {
            "tags": []
          }
        }
      ]
    },
    {
      "cell_type": "markdown",
      "metadata": {
        "id": "UbXqr8-1wTbF"
      },
      "source": [
        "**7. Plot different features against one another (scatter), against frequency (histogram)**"
      ]
    },
    {
      "cell_type": "markdown",
      "metadata": {
        "id": "E4nPPaLtwX4_"
      },
      "source": [
        "**Histogram**"
      ]
    },
    {
      "cell_type": "markdown",
      "metadata": {
        "id": "XJZNAaAjwgk1"
      },
      "source": [
        "Histogram refers to the frequency of occurrence of variables in an interval in this case we are looking at Human Rights Violators within three Years "
      ]
    },
    {
      "cell_type": "code",
      "metadata": {
        "id": "pxbgDpX2PY7w"
      },
      "source": [
        "import matplotlib.pyplot as plt\n",
        "import numpy as np\n"
      ],
      "execution_count": 25,
      "outputs": []
    },
    {
      "cell_type": "code",
      "metadata": {
        "id": "XxQ0p4e1p0MD"
      },
      "source": [
        "plt.style.use('classic')"
      ],
      "execution_count": 26,
      "outputs": []
    },
    {
      "cell_type": "code",
      "metadata": {
        "id": "VPj7Ka3tiUkI"
      },
      "source": [
        "%matplotlib inline"
      ],
      "execution_count": 27,
      "outputs": []
    },
    {
      "cell_type": "code",
      "metadata": {
        "id": "asmBZx6On9yP"
      },
      "source": [
        "import matplotlib_venn\n",
        "import matplotlib.pyplot as plt"
      ],
      "execution_count": 28,
      "outputs": []
    },
    {
      "cell_type": "code",
      "metadata": {
        "id": "lF9KmHiislrc"
      },
      "source": [
        "from matplotlib import pyplot as plt"
      ],
      "execution_count": 29,
      "outputs": []
    },
    {
      "cell_type": "code",
      "metadata": {
        "colab": {
          "base_uri": "https://localhost:8080/",
          "height": 1000
        },
        "id": "iIHrFCOMqorN",
        "outputId": "cc4303ba-4f30-4558-d624-c7e7444d3b8e"
      },
      "source": [
        "df_comp = pd.read_csv('/content/comp.csv', encoding=\"ISO-8859-1\") \n",
        "df_comp.head(22)"
      ],
      "execution_count": 30,
      "outputs": [
        {
          "output_type": "execute_result",
          "data": {
            "text/html": [
              "<div>\n",
              "<style scoped>\n",
              "    .dataframe tbody tr th:only-of-type {\n",
              "        vertical-align: middle;\n",
              "    }\n",
              "\n",
              "    .dataframe tbody tr th {\n",
              "        vertical-align: top;\n",
              "    }\n",
              "\n",
              "    .dataframe thead th {\n",
              "        text-align: right;\n",
              "    }\n",
              "</style>\n",
              "<table border=\"1\" class=\"dataframe\">\n",
              "  <thead>\n",
              "    <tr style=\"text-align: right;\">\n",
              "      <th></th>\n",
              "      <th>Respondents</th>\n",
              "      <th>Torture</th>\n",
              "      <th>Life</th>\n",
              "      <th>Personal liberty</th>\n",
              "      <th>Child Maintenance</th>\n",
              "      <th>Right to Education</th>\n",
              "      <th>Deprivation to Property</th>\n",
              "      <th>Remuneration</th>\n",
              "      <th>Un fair hearing</th>\n",
              "      <th>Neglect of PWDs</th>\n",
              "      <th>Delayed investigations</th>\n",
              "      <th>Assault</th>\n",
              "      <th>Domestic violence</th>\n",
              "      <th>Access to child</th>\n",
              "      <th>Press freedom</th>\n",
              "      <th>Right to health</th>\n",
              "    </tr>\n",
              "  </thead>\n",
              "  <tbody>\n",
              "    <tr>\n",
              "      <th>0</th>\n",
              "      <td>Uganda Police Force</td>\n",
              "      <td>751</td>\n",
              "      <td>25</td>\n",
              "      <td>482</td>\n",
              "      <td>5</td>\n",
              "      <td>9</td>\n",
              "      <td>419</td>\n",
              "      <td>29</td>\n",
              "      <td>322</td>\n",
              "      <td>2</td>\n",
              "      <td>275.0</td>\n",
              "      <td>57.0</td>\n",
              "      <td>47</td>\n",
              "      <td>1.0</td>\n",
              "      <td>230</td>\n",
              "      <td>76</td>\n",
              "    </tr>\n",
              "    <tr>\n",
              "      <th>1</th>\n",
              "      <td>Uganda People's Defence Forces</td>\n",
              "      <td>416</td>\n",
              "      <td>215</td>\n",
              "      <td>301</td>\n",
              "      <td>17</td>\n",
              "      <td>14</td>\n",
              "      <td>210</td>\n",
              "      <td>51</td>\n",
              "      <td>36</td>\n",
              "      <td>5</td>\n",
              "      <td>28.0</td>\n",
              "      <td>25.0</td>\n",
              "      <td>8</td>\n",
              "      <td>2.0</td>\n",
              "      <td>104</td>\n",
              "      <td>54</td>\n",
              "    </tr>\n",
              "    <tr>\n",
              "      <th>2</th>\n",
              "      <td>Uganda Prisons Service</td>\n",
              "      <td>231</td>\n",
              "      <td>31</td>\n",
              "      <td>22</td>\n",
              "      <td>2</td>\n",
              "      <td>80</td>\n",
              "      <td>44</td>\n",
              "      <td>63</td>\n",
              "      <td>369</td>\n",
              "      <td>1</td>\n",
              "      <td>329.0</td>\n",
              "      <td>12.0</td>\n",
              "      <td>40</td>\n",
              "      <td>1.0</td>\n",
              "      <td>65</td>\n",
              "      <td>24</td>\n",
              "    </tr>\n",
              "    <tr>\n",
              "      <th>3</th>\n",
              "      <td>Private Individuals</td>\n",
              "      <td>515</td>\n",
              "      <td>56</td>\n",
              "      <td>0</td>\n",
              "      <td>281</td>\n",
              "      <td>520</td>\n",
              "      <td>25</td>\n",
              "      <td>78</td>\n",
              "      <td>191</td>\n",
              "      <td>2</td>\n",
              "      <td>9.0</td>\n",
              "      <td>3.0</td>\n",
              "      <td>415</td>\n",
              "      <td>1.0</td>\n",
              "      <td>49</td>\n",
              "      <td>88</td>\n",
              "    </tr>\n",
              "    <tr>\n",
              "      <th>4</th>\n",
              "      <td>Private business companies</td>\n",
              "      <td>24</td>\n",
              "      <td>5</td>\n",
              "      <td>0</td>\n",
              "      <td>421</td>\n",
              "      <td>65</td>\n",
              "      <td>15</td>\n",
              "      <td>94</td>\n",
              "      <td>27</td>\n",
              "      <td>1</td>\n",
              "      <td>8.0</td>\n",
              "      <td>1.0</td>\n",
              "      <td>19</td>\n",
              "      <td>NaN</td>\n",
              "      <td>11</td>\n",
              "      <td>15</td>\n",
              "    </tr>\n",
              "    <tr>\n",
              "      <th>5</th>\n",
              "      <td>Local Governments</td>\n",
              "      <td>382</td>\n",
              "      <td>3</td>\n",
              "      <td>1</td>\n",
              "      <td>115</td>\n",
              "      <td>55</td>\n",
              "      <td>11</td>\n",
              "      <td>45</td>\n",
              "      <td>85</td>\n",
              "      <td>2</td>\n",
              "      <td>61.0</td>\n",
              "      <td>1.0</td>\n",
              "      <td>24</td>\n",
              "      <td>1.0</td>\n",
              "      <td>3</td>\n",
              "      <td>36</td>\n",
              "    </tr>\n",
              "    <tr>\n",
              "      <th>6</th>\n",
              "      <td>Ministry of Public Service</td>\n",
              "      <td>12</td>\n",
              "      <td>0</td>\n",
              "      <td>0</td>\n",
              "      <td>0</td>\n",
              "      <td>0</td>\n",
              "      <td>7</td>\n",
              "      <td>315</td>\n",
              "      <td>23</td>\n",
              "      <td>1</td>\n",
              "      <td>15.0</td>\n",
              "      <td>4.0</td>\n",
              "      <td>8</td>\n",
              "      <td>0.0</td>\n",
              "      <td>0</td>\n",
              "      <td>1</td>\n",
              "    </tr>\n",
              "    <tr>\n",
              "      <th>7</th>\n",
              "      <td>Educational Institutions</td>\n",
              "      <td>7</td>\n",
              "      <td>7</td>\n",
              "      <td>0</td>\n",
              "      <td>24</td>\n",
              "      <td>2</td>\n",
              "      <td>6</td>\n",
              "      <td>130</td>\n",
              "      <td>14</td>\n",
              "      <td>1</td>\n",
              "      <td>12.0</td>\n",
              "      <td>1.0</td>\n",
              "      <td>2</td>\n",
              "      <td>0.0</td>\n",
              "      <td>4</td>\n",
              "      <td>0</td>\n",
              "    </tr>\n",
              "    <tr>\n",
              "      <th>8</th>\n",
              "      <td>Cultural Institutions</td>\n",
              "      <td>5</td>\n",
              "      <td>1</td>\n",
              "      <td>0</td>\n",
              "      <td>2</td>\n",
              "      <td>15</td>\n",
              "      <td>4</td>\n",
              "      <td>64</td>\n",
              "      <td>1</td>\n",
              "      <td>1</td>\n",
              "      <td>1.0</td>\n",
              "      <td>3.0</td>\n",
              "      <td>0</td>\n",
              "      <td>1.0</td>\n",
              "      <td>1</td>\n",
              "      <td>1</td>\n",
              "    </tr>\n",
              "    <tr>\n",
              "      <th>9</th>\n",
              "      <td>Uganda Wildlife Authority</td>\n",
              "      <td>287</td>\n",
              "      <td>32</td>\n",
              "      <td>15</td>\n",
              "      <td>3</td>\n",
              "      <td>14</td>\n",
              "      <td>3</td>\n",
              "      <td>36</td>\n",
              "      <td>3</td>\n",
              "      <td>1</td>\n",
              "      <td>3.0</td>\n",
              "      <td>NaN</td>\n",
              "      <td>0</td>\n",
              "      <td>1.0</td>\n",
              "      <td>22</td>\n",
              "      <td>32</td>\n",
              "    </tr>\n",
              "    <tr>\n",
              "      <th>10</th>\n",
              "      <td>Kampala Capital City Authority</td>\n",
              "      <td>88</td>\n",
              "      <td>2</td>\n",
              "      <td>66</td>\n",
              "      <td>8</td>\n",
              "      <td>1</td>\n",
              "      <td>3</td>\n",
              "      <td>5</td>\n",
              "      <td>1</td>\n",
              "      <td>5</td>\n",
              "      <td>1.0</td>\n",
              "      <td>1.0</td>\n",
              "      <td>0</td>\n",
              "      <td>0.0</td>\n",
              "      <td>4</td>\n",
              "      <td>12</td>\n",
              "    </tr>\n",
              "    <tr>\n",
              "      <th>11</th>\n",
              "      <td>Private security companies</td>\n",
              "      <td>158</td>\n",
              "      <td>14</td>\n",
              "      <td>12</td>\n",
              "      <td>23</td>\n",
              "      <td>6</td>\n",
              "      <td>2</td>\n",
              "      <td>4</td>\n",
              "      <td>3</td>\n",
              "      <td>6</td>\n",
              "      <td>2.0</td>\n",
              "      <td>1.0</td>\n",
              "      <td>1</td>\n",
              "      <td>0.0</td>\n",
              "      <td>1</td>\n",
              "      <td>10</td>\n",
              "    </tr>\n",
              "    <tr>\n",
              "      <th>12</th>\n",
              "      <td>National Forestry Authority</td>\n",
              "      <td>315</td>\n",
              "      <td>61</td>\n",
              "      <td>71</td>\n",
              "      <td>1</td>\n",
              "      <td>3</td>\n",
              "      <td>71</td>\n",
              "      <td>5</td>\n",
              "      <td>5</td>\n",
              "      <td>25</td>\n",
              "      <td>2.0</td>\n",
              "      <td>1.0</td>\n",
              "      <td>3</td>\n",
              "      <td>1.0</td>\n",
              "      <td>1</td>\n",
              "      <td>24</td>\n",
              "    </tr>\n",
              "    <tr>\n",
              "      <th>13</th>\n",
              "      <td>Internal Security Organisation</td>\n",
              "      <td>145</td>\n",
              "      <td>22</td>\n",
              "      <td>265</td>\n",
              "      <td>0</td>\n",
              "      <td>11</td>\n",
              "      <td>28</td>\n",
              "      <td>6</td>\n",
              "      <td>2</td>\n",
              "      <td>10</td>\n",
              "      <td>NaN</td>\n",
              "      <td>15.0</td>\n",
              "      <td>2</td>\n",
              "      <td>2.0</td>\n",
              "      <td>0</td>\n",
              "      <td>1</td>\n",
              "    </tr>\n",
              "    <tr>\n",
              "      <th>14</th>\n",
              "      <td>Local Defence Unit</td>\n",
              "      <td>203</td>\n",
              "      <td>87</td>\n",
              "      <td>41</td>\n",
              "      <td>0</td>\n",
              "      <td>3</td>\n",
              "      <td>3</td>\n",
              "      <td>25</td>\n",
              "      <td>5</td>\n",
              "      <td>9</td>\n",
              "      <td>2.0</td>\n",
              "      <td>11.0</td>\n",
              "      <td>3</td>\n",
              "      <td>1.0</td>\n",
              "      <td>2</td>\n",
              "      <td>2</td>\n",
              "    </tr>\n",
              "    <tr>\n",
              "      <th>15</th>\n",
              "      <td>Hospital</td>\n",
              "      <td>2</td>\n",
              "      <td>5</td>\n",
              "      <td>0</td>\n",
              "      <td>0</td>\n",
              "      <td>2</td>\n",
              "      <td>1</td>\n",
              "      <td>10</td>\n",
              "      <td>3</td>\n",
              "      <td>1</td>\n",
              "      <td>1.0</td>\n",
              "      <td>0.0</td>\n",
              "      <td>2</td>\n",
              "      <td>1.0</td>\n",
              "      <td>2</td>\n",
              "      <td>356</td>\n",
              "    </tr>\n",
              "    <tr>\n",
              "      <th>16</th>\n",
              "      <td>Crime preventers</td>\n",
              "      <td>97</td>\n",
              "      <td>35</td>\n",
              "      <td>8</td>\n",
              "      <td>0</td>\n",
              "      <td>1</td>\n",
              "      <td>3</td>\n",
              "      <td>0</td>\n",
              "      <td>1</td>\n",
              "      <td>2</td>\n",
              "      <td>1.0</td>\n",
              "      <td>0.0</td>\n",
              "      <td>0</td>\n",
              "      <td>NaN</td>\n",
              "      <td>0</td>\n",
              "      <td>12</td>\n",
              "    </tr>\n",
              "    <tr>\n",
              "      <th>17</th>\n",
              "      <td>Non Governmental organisations</td>\n",
              "      <td>23</td>\n",
              "      <td>0</td>\n",
              "      <td>0</td>\n",
              "      <td>2</td>\n",
              "      <td>3</td>\n",
              "      <td>2</td>\n",
              "      <td>34</td>\n",
              "      <td>1</td>\n",
              "      <td>5</td>\n",
              "      <td>1.0</td>\n",
              "      <td>1.0</td>\n",
              "      <td>0</td>\n",
              "      <td>1.0</td>\n",
              "      <td>0</td>\n",
              "      <td>191</td>\n",
              "    </tr>\n",
              "  </tbody>\n",
              "</table>\n",
              "</div>"
            ],
            "text/plain": [
              "                      Respondents   Torture  ...  Press freedom  Right to health\n",
              "0              Uganda Police Force      751  ...            230               76\n",
              "1   Uganda People's Defence Forces      416  ...            104               54\n",
              "2           Uganda Prisons Service      231  ...             65               24\n",
              "3              Private Individuals      515  ...             49               88\n",
              "4       Private business companies       24  ...             11               15\n",
              "5                Local Governments      382  ...              3               36\n",
              "6       Ministry of Public Service       12  ...              0                1\n",
              "7         Educational Institutions        7  ...              4                0\n",
              "8            Cultural Institutions        5  ...              1                1\n",
              "9        Uganda Wildlife Authority      287  ...             22               32\n",
              "10  Kampala Capital City Authority       88  ...              4               12\n",
              "11      Private security companies      158  ...              1               10\n",
              "12     National Forestry Authority      315  ...              1               24\n",
              "13  Internal Security Organisation      145  ...              0                1\n",
              "14              Local Defence Unit      203  ...              2                2\n",
              "15                        Hospital        2  ...              2              356\n",
              "16                Crime preventers       97  ...              0               12\n",
              "17  Non Governmental organisations       23  ...              0              191\n",
              "\n",
              "[18 rows x 16 columns]"
            ]
          },
          "metadata": {
            "tags": []
          },
          "execution_count": 30
        }
      ]
    },
    {
      "cell_type": "code",
      "metadata": {
        "colab": {
          "base_uri": "https://localhost:8080/"
        },
        "id": "8yKhNaX3G1Zl",
        "outputId": "9e7b2ded-f77f-47f3-dd81-fe1c0cf14358"
      },
      "source": [
        "df_comp.dtypes"
      ],
      "execution_count": 31,
      "outputs": [
        {
          "output_type": "execute_result",
          "data": {
            "text/plain": [
              "Respondents                  object\n",
              "Torture                       int64\n",
              "Life                          int64\n",
              "Personal liberty              int64\n",
              " Child Maintenance            int64\n",
              "Right to Education            int64\n",
              "Deprivation to Property       int64\n",
              "Remuneration                  int64\n",
              "Un fair hearing               int64\n",
              "Neglect of PWDs               int64\n",
              "Delayed investigations      float64\n",
              "Assault                     float64\n",
              "Domestic violence             int64\n",
              "Access to child             float64\n",
              "Press freedom                 int64\n",
              "Right to health               int64\n",
              "dtype: object"
            ]
          },
          "metadata": {
            "tags": []
          },
          "execution_count": 31
        }
      ]
    },
    {
      "cell_type": "code",
      "metadata": {
        "colab": {
          "base_uri": "https://localhost:8080/"
        },
        "id": "1zLNr0P0A06x",
        "outputId": "606418b7-76d8-4660-f03d-be560bef7fa2"
      },
      "source": [
        "df_comp.count() "
      ],
      "execution_count": 32,
      "outputs": [
        {
          "output_type": "execute_result",
          "data": {
            "text/plain": [
              "Respondents                 18\n",
              "Torture                     18\n",
              "Life                        18\n",
              "Personal liberty            18\n",
              " Child Maintenance          18\n",
              "Right to Education          18\n",
              "Deprivation to Property     18\n",
              "Remuneration                18\n",
              "Un fair hearing             18\n",
              "Neglect of PWDs             18\n",
              "Delayed investigations      17\n",
              "Assault                     17\n",
              "Domestic violence           18\n",
              "Access to child             16\n",
              "Press freedom               18\n",
              "Right to health             18\n",
              "dtype: int64"
            ]
          },
          "metadata": {
            "tags": []
          },
          "execution_count": 32
        }
      ]
    },
    {
      "cell_type": "code",
      "metadata": {
        "colab": {
          "base_uri": "https://localhost:8080/"
        },
        "id": "64Egf11AA6I6",
        "outputId": "d6d20e93-fd1d-465e-f910-0767f6ba7c61"
      },
      "source": [
        "df_comp.dtypes"
      ],
      "execution_count": 33,
      "outputs": [
        {
          "output_type": "execute_result",
          "data": {
            "text/plain": [
              "Respondents                  object\n",
              "Torture                       int64\n",
              "Life                          int64\n",
              "Personal liberty              int64\n",
              " Child Maintenance            int64\n",
              "Right to Education            int64\n",
              "Deprivation to Property       int64\n",
              "Remuneration                  int64\n",
              "Un fair hearing               int64\n",
              "Neglect of PWDs               int64\n",
              "Delayed investigations      float64\n",
              "Assault                     float64\n",
              "Domestic violence             int64\n",
              "Access to child             float64\n",
              "Press freedom                 int64\n",
              "Right to health               int64\n",
              "dtype: object"
            ]
          },
          "metadata": {
            "tags": []
          },
          "execution_count": 33
        }
      ]
    },
    {
      "cell_type": "code",
      "metadata": {
        "colab": {
          "base_uri": "https://localhost:8080/"
        },
        "id": "NnnhHweUBMu-",
        "outputId": "f8ad46d8-9790-4985-9519-ee74a5aa2ad5"
      },
      "source": [
        "df_comp.shape"
      ],
      "execution_count": 34,
      "outputs": [
        {
          "output_type": "execute_result",
          "data": {
            "text/plain": [
              "(18, 16)"
            ]
          },
          "metadata": {
            "tags": []
          },
          "execution_count": 34
        }
      ]
    },
    {
      "cell_type": "code",
      "metadata": {
        "id": "i6T0BjkFBWRH"
      },
      "source": [
        "df_comp = df_comp.drop_duplicates()"
      ],
      "execution_count": 35,
      "outputs": []
    },
    {
      "cell_type": "code",
      "metadata": {
        "colab": {
          "base_uri": "https://localhost:8080/"
        },
        "id": "RlC1Tjh7Bmag",
        "outputId": "5679db1d-6de8-4d48-b59b-24fd3e9ec477"
      },
      "source": [
        "df_comp.columns"
      ],
      "execution_count": 36,
      "outputs": [
        {
          "output_type": "execute_result",
          "data": {
            "text/plain": [
              "Index(['Respondents ', 'Torture', 'Life ', 'Personal liberty',\n",
              "       ' Child Maintenance ', 'Right to Education', 'Deprivation to Property ',\n",
              "       'Remuneration', 'Un fair hearing', 'Neglect of PWDs',\n",
              "       'Delayed investigations', 'Assault', 'Domestic violence',\n",
              "       'Access to child', 'Press freedom', 'Right to health'],\n",
              "      dtype='object')"
            ]
          },
          "metadata": {
            "tags": []
          },
          "execution_count": 36
        }
      ]
    },
    {
      "cell_type": "code",
      "metadata": {
        "id": "7qgLUKUtLnka"
      },
      "source": [
        "#Rename Respondents to violators\n",
        "df_comp.columns = ['violators', 'Torture', 'Life ', 'Personal liberty',\n",
        "       ' Child Maintenance ', 'Right to Education', 'Deprivation to Property ',\n",
        "       'Remuneration', 'Un fair hearing', 'Neglect of PWDs',\n",
        "       'Delayed investigations', 'Assault', 'Domestic violence',\n",
        "       'Access to child', 'Press freedom', 'Right to health']"
      ],
      "execution_count": 37,
      "outputs": []
    },
    {
      "cell_type": "code",
      "metadata": {
        "id": "8sWRLRbSExP2"
      },
      "source": [
        "import numpy as np\n",
        "import matplotlib.pyplot as plt"
      ],
      "execution_count": 38,
      "outputs": []
    },
    {
      "cell_type": "markdown",
      "metadata": {
        "id": "P7cg6QHUFh3L"
      },
      "source": [
        "**8.Summaries of the 2 datasets**"
      ]
    },
    {
      "cell_type": "markdown",
      "metadata": {
        "id": "aWErKLh5FpDC"
      },
      "source": [
        "## Total Responsed vs Total Violations by Organizations \n",
        "We will summarize the response & violation datasets by organizations\n"
      ]
    },
    {
      "cell_type": "code",
      "metadata": {
        "colab": {
          "base_uri": "https://localhost:8080/"
        },
        "id": "LbMJWSLAFoKi",
        "outputId": "871030e8-ed07-4eb8-f72a-a2aeb328023b"
      },
      "source": [
        "print(df.shape)\n",
        "print(df_comp.shape)"
      ],
      "execution_count": 39,
      "outputs": [
        {
          "output_type": "stream",
          "text": [
            "(18, 4)\n",
            "(18, 16)\n"
          ],
          "name": "stdout"
        }
      ]
    },
    {
      "cell_type": "markdown",
      "metadata": {
        "id": "hbkTWVaULIgT"
      },
      "source": [
        "### Respondents Summary/Violators "
      ]
    },
    {
      "cell_type": "code",
      "metadata": {
        "colab": {
          "base_uri": "https://localhost:8080/",
          "height": 614
        },
        "id": "LZOnAZY_IFy9",
        "outputId": "2a3d31ae-3a95-4b1f-c643-fb28067d3c72"
      },
      "source": [
        "resp = df.copy()\n",
        "column_list = list(resp)\n",
        "column_list.remove('violators')\n",
        "resp['Total_Responses'] =  resp[column_list].sum(axis=1)\n",
        "resp = resp[['violators','Total_Responses']]\n",
        "resp =resp.sort_values(by=['Total_Responses'], ascending=False)\n",
        "resp"
      ],
      "execution_count": 40,
      "outputs": [
        {
          "output_type": "execute_result",
          "data": {
            "text/html": [
              "<div>\n",
              "<style scoped>\n",
              "    .dataframe tbody tr th:only-of-type {\n",
              "        vertical-align: middle;\n",
              "    }\n",
              "\n",
              "    .dataframe tbody tr th {\n",
              "        vertical-align: top;\n",
              "    }\n",
              "\n",
              "    .dataframe thead th {\n",
              "        text-align: right;\n",
              "    }\n",
              "</style>\n",
              "<table border=\"1\" class=\"dataframe\">\n",
              "  <thead>\n",
              "    <tr style=\"text-align: right;\">\n",
              "      <th></th>\n",
              "      <th>violators</th>\n",
              "      <th>Total_Responses</th>\n",
              "    </tr>\n",
              "  </thead>\n",
              "  <tbody>\n",
              "    <tr>\n",
              "      <th>0</th>\n",
              "      <td>Uganda Police Force</td>\n",
              "      <td>2730</td>\n",
              "    </tr>\n",
              "    <tr>\n",
              "      <th>3</th>\n",
              "      <td>Private Individuals</td>\n",
              "      <td>2233</td>\n",
              "    </tr>\n",
              "    <tr>\n",
              "      <th>1</th>\n",
              "      <td>Uganda People's Defence Forces</td>\n",
              "      <td>1486</td>\n",
              "    </tr>\n",
              "    <tr>\n",
              "      <th>2</th>\n",
              "      <td>Uganda Prisons Service</td>\n",
              "      <td>1312</td>\n",
              "    </tr>\n",
              "    <tr>\n",
              "      <th>5</th>\n",
              "      <td>Local Governments</td>\n",
              "      <td>825</td>\n",
              "    </tr>\n",
              "    <tr>\n",
              "      <th>4</th>\n",
              "      <td>Private business companies</td>\n",
              "      <td>706</td>\n",
              "    </tr>\n",
              "    <tr>\n",
              "      <th>12</th>\n",
              "      <td>National Forestry Authority</td>\n",
              "      <td>589</td>\n",
              "    </tr>\n",
              "    <tr>\n",
              "      <th>13</th>\n",
              "      <td>Internal Security Organisation</td>\n",
              "      <td>501</td>\n",
              "    </tr>\n",
              "    <tr>\n",
              "      <th>9</th>\n",
              "      <td>Uganda Wildlife Authority</td>\n",
              "      <td>452</td>\n",
              "    </tr>\n",
              "    <tr>\n",
              "      <th>14</th>\n",
              "      <td>Local Defence Unit</td>\n",
              "      <td>397</td>\n",
              "    </tr>\n",
              "    <tr>\n",
              "      <th>6</th>\n",
              "      <td>Ministry of Public Service</td>\n",
              "      <td>386</td>\n",
              "    </tr>\n",
              "    <tr>\n",
              "      <th>15</th>\n",
              "      <td>Hospital</td>\n",
              "      <td>386</td>\n",
              "    </tr>\n",
              "    <tr>\n",
              "      <th>17</th>\n",
              "      <td>Non Governmental Organisations</td>\n",
              "      <td>264</td>\n",
              "    </tr>\n",
              "    <tr>\n",
              "      <th>11</th>\n",
              "      <td>Private security companies</td>\n",
              "      <td>243</td>\n",
              "    </tr>\n",
              "    <tr>\n",
              "      <th>7</th>\n",
              "      <td>Educational Institutions</td>\n",
              "      <td>210</td>\n",
              "    </tr>\n",
              "    <tr>\n",
              "      <th>10</th>\n",
              "      <td>Kampala Capital City Authority</td>\n",
              "      <td>197</td>\n",
              "    </tr>\n",
              "    <tr>\n",
              "      <th>16</th>\n",
              "      <td>Crime preventers</td>\n",
              "      <td>160</td>\n",
              "    </tr>\n",
              "    <tr>\n",
              "      <th>8</th>\n",
              "      <td>Cultural Institutions</td>\n",
              "      <td>100</td>\n",
              "    </tr>\n",
              "  </tbody>\n",
              "</table>\n",
              "</div>"
            ],
            "text/plain": [
              "                         violators  Total_Responses\n",
              "0              Uganda Police Force             2730\n",
              "3              Private Individuals             2233\n",
              "1   Uganda People's Defence Forces             1486\n",
              "2           Uganda Prisons Service             1312\n",
              "5                Local Governments              825\n",
              "4       Private business companies              706\n",
              "12     National Forestry Authority              589\n",
              "13  Internal Security Organisation              501\n",
              "9        Uganda Wildlife Authority              452\n",
              "14              Local Defence Unit              397\n",
              "6       Ministry of Public Service              386\n",
              "15                        Hospital              386\n",
              "17  Non Governmental Organisations              264\n",
              "11      Private security companies              243\n",
              "7         Educational Institutions              210\n",
              "10  Kampala Capital City Authority              197\n",
              "16                Crime preventers              160\n",
              "8            Cultural Institutions              100"
            ]
          },
          "metadata": {
            "tags": []
          },
          "execution_count": 40
        }
      ]
    },
    {
      "cell_type": "markdown",
      "metadata": {
        "id": "DF3l63g3MANc"
      },
      "source": [
        "### Complaints summary"
      ]
    },
    {
      "cell_type": "code",
      "metadata": {
        "colab": {
          "base_uri": "https://localhost:8080/",
          "height": 614
        },
        "id": "ztH_zhpWMCgy",
        "outputId": "234adf40-7c7b-4e1d-c017-635054f65621"
      },
      "source": [
        "comp = df_comp.copy()\n",
        "\n",
        "column_list = list(comp)\n",
        "column_list.remove('violators')\n",
        "comp['Total_complaints'] =  comp[column_list].sum(axis=1)\n",
        "comp = comp[['violators','Total_complaints']]\n",
        "comp =comp.sort_values(by=['Total_complaints'], ascending=False)\n",
        "comp = comp.astype({'Total_complaints': 'int64'})\n",
        "comp"
      ],
      "execution_count": 41,
      "outputs": [
        {
          "output_type": "execute_result",
          "data": {
            "text/html": [
              "<div>\n",
              "<style scoped>\n",
              "    .dataframe tbody tr th:only-of-type {\n",
              "        vertical-align: middle;\n",
              "    }\n",
              "\n",
              "    .dataframe tbody tr th {\n",
              "        vertical-align: top;\n",
              "    }\n",
              "\n",
              "    .dataframe thead th {\n",
              "        text-align: right;\n",
              "    }\n",
              "</style>\n",
              "<table border=\"1\" class=\"dataframe\">\n",
              "  <thead>\n",
              "    <tr style=\"text-align: right;\">\n",
              "      <th></th>\n",
              "      <th>violators</th>\n",
              "      <th>Total_complaints</th>\n",
              "    </tr>\n",
              "  </thead>\n",
              "  <tbody>\n",
              "    <tr>\n",
              "      <th>0</th>\n",
              "      <td>Uganda Police Force</td>\n",
              "      <td>2730</td>\n",
              "    </tr>\n",
              "    <tr>\n",
              "      <th>3</th>\n",
              "      <td>Private Individuals</td>\n",
              "      <td>2233</td>\n",
              "    </tr>\n",
              "    <tr>\n",
              "      <th>1</th>\n",
              "      <td>Uganda People's Defence Forces</td>\n",
              "      <td>1486</td>\n",
              "    </tr>\n",
              "    <tr>\n",
              "      <th>2</th>\n",
              "      <td>Uganda Prisons Service</td>\n",
              "      <td>1314</td>\n",
              "    </tr>\n",
              "    <tr>\n",
              "      <th>5</th>\n",
              "      <td>Local Governments</td>\n",
              "      <td>825</td>\n",
              "    </tr>\n",
              "    <tr>\n",
              "      <th>4</th>\n",
              "      <td>Private business companies</td>\n",
              "      <td>706</td>\n",
              "    </tr>\n",
              "    <tr>\n",
              "      <th>12</th>\n",
              "      <td>National Forestry Authority</td>\n",
              "      <td>589</td>\n",
              "    </tr>\n",
              "    <tr>\n",
              "      <th>13</th>\n",
              "      <td>Internal Security Organisation</td>\n",
              "      <td>509</td>\n",
              "    </tr>\n",
              "    <tr>\n",
              "      <th>9</th>\n",
              "      <td>Uganda Wildlife Authority</td>\n",
              "      <td>452</td>\n",
              "    </tr>\n",
              "    <tr>\n",
              "      <th>14</th>\n",
              "      <td>Local Defence Unit</td>\n",
              "      <td>397</td>\n",
              "    </tr>\n",
              "    <tr>\n",
              "      <th>6</th>\n",
              "      <td>Ministry of Public Service</td>\n",
              "      <td>386</td>\n",
              "    </tr>\n",
              "    <tr>\n",
              "      <th>15</th>\n",
              "      <td>Hospital</td>\n",
              "      <td>386</td>\n",
              "    </tr>\n",
              "    <tr>\n",
              "      <th>17</th>\n",
              "      <td>Non Governmental organisations</td>\n",
              "      <td>264</td>\n",
              "    </tr>\n",
              "    <tr>\n",
              "      <th>11</th>\n",
              "      <td>Private security companies</td>\n",
              "      <td>243</td>\n",
              "    </tr>\n",
              "    <tr>\n",
              "      <th>7</th>\n",
              "      <td>Educational Institutions</td>\n",
              "      <td>210</td>\n",
              "    </tr>\n",
              "    <tr>\n",
              "      <th>10</th>\n",
              "      <td>Kampala Capital City Authority</td>\n",
              "      <td>197</td>\n",
              "    </tr>\n",
              "    <tr>\n",
              "      <th>16</th>\n",
              "      <td>Crime preventers</td>\n",
              "      <td>160</td>\n",
              "    </tr>\n",
              "    <tr>\n",
              "      <th>8</th>\n",
              "      <td>Cultural Institutions</td>\n",
              "      <td>100</td>\n",
              "    </tr>\n",
              "  </tbody>\n",
              "</table>\n",
              "</div>"
            ],
            "text/plain": [
              "                         violators  Total_complaints\n",
              "0              Uganda Police Force              2730\n",
              "3              Private Individuals              2233\n",
              "1   Uganda People's Defence Forces              1486\n",
              "2           Uganda Prisons Service              1314\n",
              "5                Local Governments               825\n",
              "4       Private business companies               706\n",
              "12     National Forestry Authority               589\n",
              "13  Internal Security Organisation               509\n",
              "9        Uganda Wildlife Authority               452\n",
              "14              Local Defence Unit               397\n",
              "6       Ministry of Public Service               386\n",
              "15                        Hospital               386\n",
              "17  Non Governmental organisations               264\n",
              "11      Private security companies               243\n",
              "7         Educational Institutions               210\n",
              "10  Kampala Capital City Authority               197\n",
              "16                Crime preventers               160\n",
              "8            Cultural Institutions               100"
            ]
          },
          "metadata": {
            "tags": []
          },
          "execution_count": 41
        }
      ]
    },
    {
      "cell_type": "markdown",
      "metadata": {
        "id": "zmfI9YBLUFVm"
      },
      "source": [
        "**Comparison or relationship between the two datasets**"
      ]
    },
    {
      "cell_type": "markdown",
      "metadata": {
        "id": "_1eZQl8JJTUW"
      },
      "source": [
        "Merge the two results"
      ]
    },
    {
      "cell_type": "code",
      "metadata": {
        "colab": {
          "base_uri": "https://localhost:8080/",
          "height": 583
        },
        "id": "BeeJmfaHJSiU",
        "outputId": "e8b3226a-5855-4025-c25d-a50597cb808b"
      },
      "source": [
        "comp_vs_resp = pd.merge(comp, resp, on=\"violators\")\n",
        "comp_vs_resp.head(18)"
      ],
      "execution_count": 42,
      "outputs": [
        {
          "output_type": "execute_result",
          "data": {
            "text/html": [
              "<div>\n",
              "<style scoped>\n",
              "    .dataframe tbody tr th:only-of-type {\n",
              "        vertical-align: middle;\n",
              "    }\n",
              "\n",
              "    .dataframe tbody tr th {\n",
              "        vertical-align: top;\n",
              "    }\n",
              "\n",
              "    .dataframe thead th {\n",
              "        text-align: right;\n",
              "    }\n",
              "</style>\n",
              "<table border=\"1\" class=\"dataframe\">\n",
              "  <thead>\n",
              "    <tr style=\"text-align: right;\">\n",
              "      <th></th>\n",
              "      <th>violators</th>\n",
              "      <th>Total_complaints</th>\n",
              "      <th>Total_Responses</th>\n",
              "    </tr>\n",
              "  </thead>\n",
              "  <tbody>\n",
              "    <tr>\n",
              "      <th>0</th>\n",
              "      <td>Uganda Police Force</td>\n",
              "      <td>2730</td>\n",
              "      <td>2730</td>\n",
              "    </tr>\n",
              "    <tr>\n",
              "      <th>1</th>\n",
              "      <td>Private Individuals</td>\n",
              "      <td>2233</td>\n",
              "      <td>2233</td>\n",
              "    </tr>\n",
              "    <tr>\n",
              "      <th>2</th>\n",
              "      <td>Uganda People's Defence Forces</td>\n",
              "      <td>1486</td>\n",
              "      <td>1486</td>\n",
              "    </tr>\n",
              "    <tr>\n",
              "      <th>3</th>\n",
              "      <td>Uganda Prisons Service</td>\n",
              "      <td>1314</td>\n",
              "      <td>1312</td>\n",
              "    </tr>\n",
              "    <tr>\n",
              "      <th>4</th>\n",
              "      <td>Local Governments</td>\n",
              "      <td>825</td>\n",
              "      <td>825</td>\n",
              "    </tr>\n",
              "    <tr>\n",
              "      <th>5</th>\n",
              "      <td>Private business companies</td>\n",
              "      <td>706</td>\n",
              "      <td>706</td>\n",
              "    </tr>\n",
              "    <tr>\n",
              "      <th>6</th>\n",
              "      <td>National Forestry Authority</td>\n",
              "      <td>589</td>\n",
              "      <td>589</td>\n",
              "    </tr>\n",
              "    <tr>\n",
              "      <th>7</th>\n",
              "      <td>Internal Security Organisation</td>\n",
              "      <td>509</td>\n",
              "      <td>501</td>\n",
              "    </tr>\n",
              "    <tr>\n",
              "      <th>8</th>\n",
              "      <td>Uganda Wildlife Authority</td>\n",
              "      <td>452</td>\n",
              "      <td>452</td>\n",
              "    </tr>\n",
              "    <tr>\n",
              "      <th>9</th>\n",
              "      <td>Local Defence Unit</td>\n",
              "      <td>397</td>\n",
              "      <td>397</td>\n",
              "    </tr>\n",
              "    <tr>\n",
              "      <th>10</th>\n",
              "      <td>Ministry of Public Service</td>\n",
              "      <td>386</td>\n",
              "      <td>386</td>\n",
              "    </tr>\n",
              "    <tr>\n",
              "      <th>11</th>\n",
              "      <td>Hospital</td>\n",
              "      <td>386</td>\n",
              "      <td>386</td>\n",
              "    </tr>\n",
              "    <tr>\n",
              "      <th>12</th>\n",
              "      <td>Private security companies</td>\n",
              "      <td>243</td>\n",
              "      <td>243</td>\n",
              "    </tr>\n",
              "    <tr>\n",
              "      <th>13</th>\n",
              "      <td>Educational Institutions</td>\n",
              "      <td>210</td>\n",
              "      <td>210</td>\n",
              "    </tr>\n",
              "    <tr>\n",
              "      <th>14</th>\n",
              "      <td>Kampala Capital City Authority</td>\n",
              "      <td>197</td>\n",
              "      <td>197</td>\n",
              "    </tr>\n",
              "    <tr>\n",
              "      <th>15</th>\n",
              "      <td>Crime preventers</td>\n",
              "      <td>160</td>\n",
              "      <td>160</td>\n",
              "    </tr>\n",
              "    <tr>\n",
              "      <th>16</th>\n",
              "      <td>Cultural Institutions</td>\n",
              "      <td>100</td>\n",
              "      <td>100</td>\n",
              "    </tr>\n",
              "  </tbody>\n",
              "</table>\n",
              "</div>"
            ],
            "text/plain": [
              "                         violators  Total_complaints  Total_Responses\n",
              "0              Uganda Police Force              2730             2730\n",
              "1              Private Individuals              2233             2233\n",
              "2   Uganda People's Defence Forces              1486             1486\n",
              "3           Uganda Prisons Service              1314             1312\n",
              "4                Local Governments               825              825\n",
              "5       Private business companies               706              706\n",
              "6      National Forestry Authority               589              589\n",
              "7   Internal Security Organisation               509              501\n",
              "8        Uganda Wildlife Authority               452              452\n",
              "9               Local Defence Unit               397              397\n",
              "10      Ministry of Public Service               386              386\n",
              "11                        Hospital               386              386\n",
              "12      Private security companies               243              243\n",
              "13        Educational Institutions               210              210\n",
              "14  Kampala Capital City Authority               197              197\n",
              "15                Crime preventers               160              160\n",
              "16           Cultural Institutions               100              100"
            ]
          },
          "metadata": {
            "tags": []
          },
          "execution_count": 42
        }
      ]
    },
    {
      "cell_type": "code",
      "metadata": {
        "colab": {
          "base_uri": "https://localhost:8080/",
          "height": 583
        },
        "id": "5jJtr5D1KxsW",
        "outputId": "66fdd347-5a1c-4a54-e644-ba48696980b7"
      },
      "source": [
        "comp_vs_resp['Unreponded complaints'] = comp_vs_resp['Total_complaints'] - comp_vs_resp['Total_Responses']\n",
        "comp_vs_resp\n"
      ],
      "execution_count": 43,
      "outputs": [
        {
          "output_type": "execute_result",
          "data": {
            "text/html": [
              "<div>\n",
              "<style scoped>\n",
              "    .dataframe tbody tr th:only-of-type {\n",
              "        vertical-align: middle;\n",
              "    }\n",
              "\n",
              "    .dataframe tbody tr th {\n",
              "        vertical-align: top;\n",
              "    }\n",
              "\n",
              "    .dataframe thead th {\n",
              "        text-align: right;\n",
              "    }\n",
              "</style>\n",
              "<table border=\"1\" class=\"dataframe\">\n",
              "  <thead>\n",
              "    <tr style=\"text-align: right;\">\n",
              "      <th></th>\n",
              "      <th>violators</th>\n",
              "      <th>Total_complaints</th>\n",
              "      <th>Total_Responses</th>\n",
              "      <th>Unreponded complaints</th>\n",
              "    </tr>\n",
              "  </thead>\n",
              "  <tbody>\n",
              "    <tr>\n",
              "      <th>0</th>\n",
              "      <td>Uganda Police Force</td>\n",
              "      <td>2730</td>\n",
              "      <td>2730</td>\n",
              "      <td>0</td>\n",
              "    </tr>\n",
              "    <tr>\n",
              "      <th>1</th>\n",
              "      <td>Private Individuals</td>\n",
              "      <td>2233</td>\n",
              "      <td>2233</td>\n",
              "      <td>0</td>\n",
              "    </tr>\n",
              "    <tr>\n",
              "      <th>2</th>\n",
              "      <td>Uganda People's Defence Forces</td>\n",
              "      <td>1486</td>\n",
              "      <td>1486</td>\n",
              "      <td>0</td>\n",
              "    </tr>\n",
              "    <tr>\n",
              "      <th>3</th>\n",
              "      <td>Uganda Prisons Service</td>\n",
              "      <td>1314</td>\n",
              "      <td>1312</td>\n",
              "      <td>2</td>\n",
              "    </tr>\n",
              "    <tr>\n",
              "      <th>4</th>\n",
              "      <td>Local Governments</td>\n",
              "      <td>825</td>\n",
              "      <td>825</td>\n",
              "      <td>0</td>\n",
              "    </tr>\n",
              "    <tr>\n",
              "      <th>5</th>\n",
              "      <td>Private business companies</td>\n",
              "      <td>706</td>\n",
              "      <td>706</td>\n",
              "      <td>0</td>\n",
              "    </tr>\n",
              "    <tr>\n",
              "      <th>6</th>\n",
              "      <td>National Forestry Authority</td>\n",
              "      <td>589</td>\n",
              "      <td>589</td>\n",
              "      <td>0</td>\n",
              "    </tr>\n",
              "    <tr>\n",
              "      <th>7</th>\n",
              "      <td>Internal Security Organisation</td>\n",
              "      <td>509</td>\n",
              "      <td>501</td>\n",
              "      <td>8</td>\n",
              "    </tr>\n",
              "    <tr>\n",
              "      <th>8</th>\n",
              "      <td>Uganda Wildlife Authority</td>\n",
              "      <td>452</td>\n",
              "      <td>452</td>\n",
              "      <td>0</td>\n",
              "    </tr>\n",
              "    <tr>\n",
              "      <th>9</th>\n",
              "      <td>Local Defence Unit</td>\n",
              "      <td>397</td>\n",
              "      <td>397</td>\n",
              "      <td>0</td>\n",
              "    </tr>\n",
              "    <tr>\n",
              "      <th>10</th>\n",
              "      <td>Ministry of Public Service</td>\n",
              "      <td>386</td>\n",
              "      <td>386</td>\n",
              "      <td>0</td>\n",
              "    </tr>\n",
              "    <tr>\n",
              "      <th>11</th>\n",
              "      <td>Hospital</td>\n",
              "      <td>386</td>\n",
              "      <td>386</td>\n",
              "      <td>0</td>\n",
              "    </tr>\n",
              "    <tr>\n",
              "      <th>12</th>\n",
              "      <td>Private security companies</td>\n",
              "      <td>243</td>\n",
              "      <td>243</td>\n",
              "      <td>0</td>\n",
              "    </tr>\n",
              "    <tr>\n",
              "      <th>13</th>\n",
              "      <td>Educational Institutions</td>\n",
              "      <td>210</td>\n",
              "      <td>210</td>\n",
              "      <td>0</td>\n",
              "    </tr>\n",
              "    <tr>\n",
              "      <th>14</th>\n",
              "      <td>Kampala Capital City Authority</td>\n",
              "      <td>197</td>\n",
              "      <td>197</td>\n",
              "      <td>0</td>\n",
              "    </tr>\n",
              "    <tr>\n",
              "      <th>15</th>\n",
              "      <td>Crime preventers</td>\n",
              "      <td>160</td>\n",
              "      <td>160</td>\n",
              "      <td>0</td>\n",
              "    </tr>\n",
              "    <tr>\n",
              "      <th>16</th>\n",
              "      <td>Cultural Institutions</td>\n",
              "      <td>100</td>\n",
              "      <td>100</td>\n",
              "      <td>0</td>\n",
              "    </tr>\n",
              "  </tbody>\n",
              "</table>\n",
              "</div>"
            ],
            "text/plain": [
              "                         violators  ...  Unreponded complaints\n",
              "0              Uganda Police Force  ...                      0\n",
              "1              Private Individuals  ...                      0\n",
              "2   Uganda People's Defence Forces  ...                      0\n",
              "3           Uganda Prisons Service  ...                      2\n",
              "4                Local Governments  ...                      0\n",
              "5       Private business companies  ...                      0\n",
              "6      National Forestry Authority  ...                      0\n",
              "7   Internal Security Organisation  ...                      8\n",
              "8        Uganda Wildlife Authority  ...                      0\n",
              "9               Local Defence Unit  ...                      0\n",
              "10      Ministry of Public Service  ...                      0\n",
              "11                        Hospital  ...                      0\n",
              "12      Private security companies  ...                      0\n",
              "13        Educational Institutions  ...                      0\n",
              "14  Kampala Capital City Authority  ...                      0\n",
              "15                Crime preventers  ...                      0\n",
              "16           Cultural Institutions  ...                      0\n",
              "\n",
              "[17 rows x 4 columns]"
            ]
          },
          "metadata": {
            "tags": []
          },
          "execution_count": 43
        }
      ]
    },
    {
      "cell_type": "code",
      "metadata": {
        "colab": {
          "base_uri": "https://localhost:8080/"
        },
        "id": "74N3B5LZLNJ1",
        "outputId": "f3ef1d1f-4753-474d-c5ee-8435eeb47ea5"
      },
      "source": [
        "#Total unresponded claims \n",
        "total_unreponded_claims = comp_vs_resp['Unreponded complaints'].sum()\n",
        "print('Total complaints is: '+ str(comp_vs_resp['Total_complaints'].sum()))\n",
        "print('Total responses is: '+ str(comp_vs_resp['Total_Responses'].sum()))\n",
        "print('Total claims with no responses is: ' + str(total_unreponded_claims) + ',which is '+ str(round(100 * total_unreponded_claims /comp_vs_resp['Total_complaints'].sum() ,ndigits = 3)) + '% of the total complaints')"
      ],
      "execution_count": 44,
      "outputs": [
        {
          "output_type": "stream",
          "text": [
            "Total complaints is: 12923\n",
            "Total responses is: 12913\n",
            "Total claims with no responses is: 10,which is 0.077% of the total complaints\n"
          ],
          "name": "stdout"
        }
      ]
    },
    {
      "cell_type": "markdown",
      "metadata": {
        "id": "YTYWr18QOiBe"
      },
      "source": [
        "### Let's chart the complaints and responses by department"
      ]
    },
    {
      "cell_type": "code",
      "metadata": {
        "id": "PQ7mMvTdOpsA"
      },
      "source": [
        "#Set violators as the index\n",
        "comp_vs_resp = comp_vs_resp.set_index('violators')"
      ],
      "execution_count": 45,
      "outputs": []
    },
    {
      "cell_type": "code",
      "metadata": {
        "colab": {
          "base_uri": "https://localhost:8080/",
          "height": 614
        },
        "id": "zi-7moYWPaWy",
        "outputId": "f97e26ec-4e6d-4257-d3bd-1a031aae2deb"
      },
      "source": [
        "comp_vs_resp"
      ],
      "execution_count": 46,
      "outputs": [
        {
          "output_type": "execute_result",
          "data": {
            "text/html": [
              "<div>\n",
              "<style scoped>\n",
              "    .dataframe tbody tr th:only-of-type {\n",
              "        vertical-align: middle;\n",
              "    }\n",
              "\n",
              "    .dataframe tbody tr th {\n",
              "        vertical-align: top;\n",
              "    }\n",
              "\n",
              "    .dataframe thead th {\n",
              "        text-align: right;\n",
              "    }\n",
              "</style>\n",
              "<table border=\"1\" class=\"dataframe\">\n",
              "  <thead>\n",
              "    <tr style=\"text-align: right;\">\n",
              "      <th></th>\n",
              "      <th>Total_complaints</th>\n",
              "      <th>Total_Responses</th>\n",
              "      <th>Unreponded complaints</th>\n",
              "    </tr>\n",
              "    <tr>\n",
              "      <th>violators</th>\n",
              "      <th></th>\n",
              "      <th></th>\n",
              "      <th></th>\n",
              "    </tr>\n",
              "  </thead>\n",
              "  <tbody>\n",
              "    <tr>\n",
              "      <th>Uganda Police Force</th>\n",
              "      <td>2730</td>\n",
              "      <td>2730</td>\n",
              "      <td>0</td>\n",
              "    </tr>\n",
              "    <tr>\n",
              "      <th>Private Individuals</th>\n",
              "      <td>2233</td>\n",
              "      <td>2233</td>\n",
              "      <td>0</td>\n",
              "    </tr>\n",
              "    <tr>\n",
              "      <th>Uganda People's Defence Forces</th>\n",
              "      <td>1486</td>\n",
              "      <td>1486</td>\n",
              "      <td>0</td>\n",
              "    </tr>\n",
              "    <tr>\n",
              "      <th>Uganda Prisons Service</th>\n",
              "      <td>1314</td>\n",
              "      <td>1312</td>\n",
              "      <td>2</td>\n",
              "    </tr>\n",
              "    <tr>\n",
              "      <th>Local Governments</th>\n",
              "      <td>825</td>\n",
              "      <td>825</td>\n",
              "      <td>0</td>\n",
              "    </tr>\n",
              "    <tr>\n",
              "      <th>Private business companies</th>\n",
              "      <td>706</td>\n",
              "      <td>706</td>\n",
              "      <td>0</td>\n",
              "    </tr>\n",
              "    <tr>\n",
              "      <th>National Forestry Authority</th>\n",
              "      <td>589</td>\n",
              "      <td>589</td>\n",
              "      <td>0</td>\n",
              "    </tr>\n",
              "    <tr>\n",
              "      <th>Internal Security Organisation</th>\n",
              "      <td>509</td>\n",
              "      <td>501</td>\n",
              "      <td>8</td>\n",
              "    </tr>\n",
              "    <tr>\n",
              "      <th>Uganda Wildlife Authority</th>\n",
              "      <td>452</td>\n",
              "      <td>452</td>\n",
              "      <td>0</td>\n",
              "    </tr>\n",
              "    <tr>\n",
              "      <th>Local Defence Unit</th>\n",
              "      <td>397</td>\n",
              "      <td>397</td>\n",
              "      <td>0</td>\n",
              "    </tr>\n",
              "    <tr>\n",
              "      <th>Ministry of Public Service</th>\n",
              "      <td>386</td>\n",
              "      <td>386</td>\n",
              "      <td>0</td>\n",
              "    </tr>\n",
              "    <tr>\n",
              "      <th>Hospital</th>\n",
              "      <td>386</td>\n",
              "      <td>386</td>\n",
              "      <td>0</td>\n",
              "    </tr>\n",
              "    <tr>\n",
              "      <th>Private security companies</th>\n",
              "      <td>243</td>\n",
              "      <td>243</td>\n",
              "      <td>0</td>\n",
              "    </tr>\n",
              "    <tr>\n",
              "      <th>Educational Institutions</th>\n",
              "      <td>210</td>\n",
              "      <td>210</td>\n",
              "      <td>0</td>\n",
              "    </tr>\n",
              "    <tr>\n",
              "      <th>Kampala Capital City Authority</th>\n",
              "      <td>197</td>\n",
              "      <td>197</td>\n",
              "      <td>0</td>\n",
              "    </tr>\n",
              "    <tr>\n",
              "      <th>Crime preventers</th>\n",
              "      <td>160</td>\n",
              "      <td>160</td>\n",
              "      <td>0</td>\n",
              "    </tr>\n",
              "    <tr>\n",
              "      <th>Cultural Institutions</th>\n",
              "      <td>100</td>\n",
              "      <td>100</td>\n",
              "      <td>0</td>\n",
              "    </tr>\n",
              "  </tbody>\n",
              "</table>\n",
              "</div>"
            ],
            "text/plain": [
              "                                Total_complaints  ...  Unreponded complaints\n",
              "violators                                         ...                       \n",
              "Uganda Police Force                         2730  ...                      0\n",
              "Private Individuals                         2233  ...                      0\n",
              "Uganda People's Defence Forces              1486  ...                      0\n",
              "Uganda Prisons Service                      1314  ...                      2\n",
              "Local Governments                            825  ...                      0\n",
              "Private business companies                   706  ...                      0\n",
              "National Forestry Authority                  589  ...                      0\n",
              "Internal Security Organisation               509  ...                      8\n",
              "Uganda Wildlife Authority                    452  ...                      0\n",
              "Local Defence Unit                           397  ...                      0\n",
              "Ministry of Public Service                   386  ...                      0\n",
              "Hospital                                     386  ...                      0\n",
              "Private security companies                   243  ...                      0\n",
              "Educational Institutions                     210  ...                      0\n",
              "Kampala Capital City Authority               197  ...                      0\n",
              "Crime preventers                             160  ...                      0\n",
              "Cultural Institutions                        100  ...                      0\n",
              "\n",
              "[17 rows x 3 columns]"
            ]
          },
          "metadata": {
            "tags": []
          },
          "execution_count": 46
        }
      ]
    },
    {
      "cell_type": "code",
      "metadata": {
        "colab": {
          "base_uri": "https://localhost:8080/",
          "height": 268
        },
        "id": "5bZi9avZP5Zw",
        "outputId": "74b9c4b0-1178-4656-9bec-11d696573ff2"
      },
      "source": [
        "ax = comp_vs_resp[['Total_complaints','Total_Responses']].plot.barh(rot=0)"
      ],
      "execution_count": 47,
      "outputs": [
        {
          "output_type": "display_data",
          "data": {
            "image/png": "[encoded data removed]",
            "text/plain": [
              "<Figure size 432x288 with 1 Axes>"
            ]
          },
          "metadata": {
            "tags": [],
            "needs_background": "light"
          }
        }
      ]
    },
    {
      "cell_type": "markdown",
      "metadata": {
        "id": "tZ4Zv3PLTDm1"
      },
      "source": [
        "# Interpretation\n",
        "Most violations are committed by the Uganda Police Force as reflected in the analysis above followed by  Private individuals and the least registered institution for the last three years are the various cultural institutions in Uganda.\n",
        "It can also be noted that majority of the rights violators (respondents are security and enforcement officers)"
      ]
    },
    {
      "cell_type": "markdown",
      "metadata": {
        "id": "ElayFR7KRIx_"
      },
      "source": [
        "## Summary of Complaints by type of violations"
      ]
    },
    {
      "cell_type": "code",
      "metadata": {
        "colab": {
          "base_uri": "https://localhost:8080/",
          "height": 520
        },
        "id": "wHicRDd5RYzt",
        "outputId": "e18a6899-7017-4d02-9237-998351ba12f3"
      },
      "source": [
        "violations =df_comp.sum(axis = 0, skipna = True)\n",
        "\n",
        "violations = pd.DataFrame(list(zip(list(violations.index)[1:],list(violations)[1:])), columns =['violations', 'violations_count'])\n",
        "violations =violations.sort_values(by=['violations_count'], ascending=False)\n",
        "violations = violations.astype({'violations_count': 'int64'})\n",
        "violations"
      ],
      "execution_count": 48,
      "outputs": [
        {
          "output_type": "execute_result",
          "data": {
            "text/html": [
              "<div>\n",
              "<style scoped>\n",
              "    .dataframe tbody tr th:only-of-type {\n",
              "        vertical-align: middle;\n",
              "    }\n",
              "\n",
              "    .dataframe tbody tr th {\n",
              "        vertical-align: top;\n",
              "    }\n",
              "\n",
              "    .dataframe thead th {\n",
              "        text-align: right;\n",
              "    }\n",
              "</style>\n",
              "<table border=\"1\" class=\"dataframe\">\n",
              "  <thead>\n",
              "    <tr style=\"text-align: right;\">\n",
              "      <th></th>\n",
              "      <th>violations</th>\n",
              "      <th>violations_count</th>\n",
              "    </tr>\n",
              "  </thead>\n",
              "  <tbody>\n",
              "    <tr>\n",
              "      <th>0</th>\n",
              "      <td>Torture</td>\n",
              "      <td>3661</td>\n",
              "    </tr>\n",
              "    <tr>\n",
              "      <th>2</th>\n",
              "      <td>Personal liberty</td>\n",
              "      <td>1284</td>\n",
              "    </tr>\n",
              "    <tr>\n",
              "      <th>7</th>\n",
              "      <td>Un fair hearing</td>\n",
              "      <td>1092</td>\n",
              "    </tr>\n",
              "    <tr>\n",
              "      <th>6</th>\n",
              "      <td>Remuneration</td>\n",
              "      <td>994</td>\n",
              "    </tr>\n",
              "    <tr>\n",
              "      <th>14</th>\n",
              "      <td>Right to health</td>\n",
              "      <td>935</td>\n",
              "    </tr>\n",
              "    <tr>\n",
              "      <th>3</th>\n",
              "      <td>Child Maintenance</td>\n",
              "      <td>904</td>\n",
              "    </tr>\n",
              "    <tr>\n",
              "      <th>5</th>\n",
              "      <td>Deprivation to Property</td>\n",
              "      <td>857</td>\n",
              "    </tr>\n",
              "    <tr>\n",
              "      <th>4</th>\n",
              "      <td>Right to Education</td>\n",
              "      <td>804</td>\n",
              "    </tr>\n",
              "    <tr>\n",
              "      <th>9</th>\n",
              "      <td>Delayed investigations</td>\n",
              "      <td>751</td>\n",
              "    </tr>\n",
              "    <tr>\n",
              "      <th>1</th>\n",
              "      <td>Life</td>\n",
              "      <td>601</td>\n",
              "    </tr>\n",
              "    <tr>\n",
              "      <th>11</th>\n",
              "      <td>Domestic violence</td>\n",
              "      <td>574</td>\n",
              "    </tr>\n",
              "    <tr>\n",
              "      <th>13</th>\n",
              "      <td>Press freedom</td>\n",
              "      <td>499</td>\n",
              "    </tr>\n",
              "    <tr>\n",
              "      <th>10</th>\n",
              "      <td>Assault</td>\n",
              "      <td>137</td>\n",
              "    </tr>\n",
              "    <tr>\n",
              "      <th>8</th>\n",
              "      <td>Neglect of PWDs</td>\n",
              "      <td>80</td>\n",
              "    </tr>\n",
              "    <tr>\n",
              "      <th>12</th>\n",
              "      <td>Access to child</td>\n",
              "      <td>14</td>\n",
              "    </tr>\n",
              "  </tbody>\n",
              "</table>\n",
              "</div>"
            ],
            "text/plain": [
              "                  violations  violations_count\n",
              "0                    Torture              3661\n",
              "2           Personal liberty              1284\n",
              "7            Un fair hearing              1092\n",
              "6               Remuneration               994\n",
              "14           Right to health               935\n",
              "3         Child Maintenance                904\n",
              "5   Deprivation to Property                857\n",
              "4         Right to Education               804\n",
              "9     Delayed investigations               751\n",
              "1                      Life                601\n",
              "11         Domestic violence               574\n",
              "13             Press freedom               499\n",
              "10                   Assault               137\n",
              "8            Neglect of PWDs                80\n",
              "12           Access to child                14"
            ]
          },
          "metadata": {
            "tags": []
          },
          "execution_count": 48
        }
      ]
    },
    {
      "cell_type": "code",
      "metadata": {
        "colab": {
          "base_uri": "https://localhost:8080/",
          "height": 375
        },
        "id": "E8rOVhrPXrMV",
        "outputId": "0b1ae2b5-af18-4d03-a9ab-0670433650ac"
      },
      "source": [
        "violations = violations.set_index('violations')\n",
        "violations['violations_count'].plot(kind=\"bar\", title=\"Violations by kind\")\n",
        "# Rotate the x-labels by 30 degrees, and keep the text aligned horizontally\n",
        "plt.xticks(rotation=30, horizontalalignment=\"center\")\n",
        "plt.title(\"Violations Frequency Report by Nature (2018-2020)\")\n",
        "plt.xlabel(\"Violations\")\n",
        "plt.ylabel(\"Frequency\")"
      ],
      "execution_count": 51,
      "outputs": [
        {
          "output_type": "execute_result",
          "data": {
            "text/plain": [
              "Text(0, 0.5, 'Frequency')"
            ]
          },
          "metadata": {
            "tags": []
          },
          "execution_count": 51
        },
        {
          "output_type": "display_data",
          "data": {
            "image/png": "[encoded data removed]",
            "text/plain": [
              "<Figure size 432x288 with 1 Axes>"
            ]
          },
          "metadata": {
            "tags": [],
            "needs_background": "light"
          }
        }
      ]
    },
    {
      "cell_type": "markdown",
      "metadata": {
        "id": "8wxtAImzSPO1"
      },
      "source": [
        "# Interpretation\n",
        "From the bar graph above, it can be noted that Torture is the most common form of violations committed in Uganda as registered by UHRC is the three years followed by personal liberty while neglect of PWDs and access to child are registered to be the list from 2018 to 2020  \n"
      ]
    },
    {
      "cell_type": "markdown",
      "metadata": {
        "id": "tK4pQjTlSox0"
      },
      "source": [
        "**Some of the findings in using Google Colab**\n",
        "\n",
        "#Advanges \n",
        "*   Dont need to install liberaries inorder to run your code\n",
        "*   There is alaways a stack overflow incase of errors in code \n",
        "*   You can use colab to run codes in R , phython and others \n",
        "*   Importing dataset is very simple as there several wasy \n",
        "\n",
        "# Disadvantages \n",
        "*   Not easy to get the exact code required to run the data set for beginers.\n",
        "*   Requires lots of accuracy with correct grammers. \n",
        "\n",
        "\n"
      ]
    },
    {
      "cell_type": "markdown",
      "metadata": {
        "id": "iPnz6H_DWZws"
      },
      "source": [
        "Thanks for the opportunity by HURU School that introduced to such an amaizing data analysis and programming system. \n",
        "\n",
        "#I will continue to explore more and more!"
      ]
    },
    {
      "cell_type": "markdown",
      "metadata": {
        "id": "ZzfIOM6cVepG"
      },
      "source": [
        "**PART B: ANALYSING SOME DESCRIPTIVE STATISTICS**"
      ]
    },
    {
      "cell_type": "code",
      "metadata": {
        "id": "jv-dVUXRVxn8"
      },
      "source": [
        "# Import data from  from your local computer)\n",
        "df = pd.read_csv(\"/content/comp.csv\")"
      ],
      "execution_count": 53,
      "outputs": []
    },
    {
      "cell_type": "code",
      "metadata": {
        "colab": {
          "base_uri": "https://localhost:8080/",
          "height": 355
        },
        "id": "7ZV4nKzyVUf4",
        "outputId": "4bb6bcf1-c2ba-48c7-fbe6-d3bc136707d1"
      },
      "source": [
        "# summary statistics for all numerical columns\n",
        "round(df.describe(),2)"
      ],
      "execution_count": 54,
      "outputs": [
        {
          "output_type": "execute_result",
          "data": {
            "text/html": [
              "<div>\n",
              "<style scoped>\n",
              "    .dataframe tbody tr th:only-of-type {\n",
              "        vertical-align: middle;\n",
              "    }\n",
              "\n",
              "    .dataframe tbody tr th {\n",
              "        vertical-align: top;\n",
              "    }\n",
              "\n",
              "    .dataframe thead th {\n",
              "        text-align: right;\n",
              "    }\n",
              "</style>\n",
              "<table border=\"1\" class=\"dataframe\">\n",
              "  <thead>\n",
              "    <tr style=\"text-align: right;\">\n",
              "      <th></th>\n",
              "      <th>Torture</th>\n",
              "      <th>Life</th>\n",
              "      <th>Personal liberty</th>\n",
              "      <th>Child Maintenance</th>\n",
              "      <th>Right to Education</th>\n",
              "      <th>Deprivation to Property</th>\n",
              "      <th>Remuneration</th>\n",
              "      <th>Un fair hearing</th>\n",
              "      <th>Neglect of PWDs</th>\n",
              "      <th>Delayed investigations</th>\n",
              "      <th>Assault</th>\n",
              "      <th>Domestic violence</th>\n",
              "      <th>Access to child</th>\n",
              "      <th>Press freedom</th>\n",
              "      <th>Right to health</th>\n",
              "    </tr>\n",
              "  </thead>\n",
              "  <tbody>\n",
              "    <tr>\n",
              "      <th>count</th>\n",
              "      <td>18.00</td>\n",
              "      <td>18.00</td>\n",
              "      <td>18.00</td>\n",
              "      <td>18.00</td>\n",
              "      <td>18.00</td>\n",
              "      <td>18.00</td>\n",
              "      <td>18.00</td>\n",
              "      <td>18.00</td>\n",
              "      <td>18.00</td>\n",
              "      <td>17.00</td>\n",
              "      <td>17.00</td>\n",
              "      <td>18.00</td>\n",
              "      <td>16.00</td>\n",
              "      <td>18.00</td>\n",
              "      <td>18.00</td>\n",
              "    </tr>\n",
              "    <tr>\n",
              "      <th>mean</th>\n",
              "      <td>203.39</td>\n",
              "      <td>33.39</td>\n",
              "      <td>71.33</td>\n",
              "      <td>50.22</td>\n",
              "      <td>44.67</td>\n",
              "      <td>47.61</td>\n",
              "      <td>55.22</td>\n",
              "      <td>60.67</td>\n",
              "      <td>4.44</td>\n",
              "      <td>44.18</td>\n",
              "      <td>8.06</td>\n",
              "      <td>31.89</td>\n",
              "      <td>0.88</td>\n",
              "      <td>27.72</td>\n",
              "      <td>51.94</td>\n",
              "    </tr>\n",
              "    <tr>\n",
              "      <th>std</th>\n",
              "      <td>209.23</td>\n",
              "      <td>51.57</td>\n",
              "      <td>135.81</td>\n",
              "      <td>115.18</td>\n",
              "      <td>121.03</td>\n",
              "      <td>105.09</td>\n",
              "      <td>73.95</td>\n",
              "      <td>113.79</td>\n",
              "      <td>5.86</td>\n",
              "      <td>98.66</td>\n",
              "      <td>14.36</td>\n",
              "      <td>96.66</td>\n",
              "      <td>0.62</td>\n",
              "      <td>57.99</td>\n",
              "      <td>89.17</td>\n",
              "    </tr>\n",
              "    <tr>\n",
              "      <th>min</th>\n",
              "      <td>2.00</td>\n",
              "      <td>0.00</td>\n",
              "      <td>0.00</td>\n",
              "      <td>0.00</td>\n",
              "      <td>0.00</td>\n",
              "      <td>1.00</td>\n",
              "      <td>0.00</td>\n",
              "      <td>1.00</td>\n",
              "      <td>1.00</td>\n",
              "      <td>1.00</td>\n",
              "      <td>0.00</td>\n",
              "      <td>0.00</td>\n",
              "      <td>0.00</td>\n",
              "      <td>0.00</td>\n",
              "      <td>0.00</td>\n",
              "    </tr>\n",
              "    <tr>\n",
              "      <th>25%</th>\n",
              "      <td>23.25</td>\n",
              "      <td>3.50</td>\n",
              "      <td>0.00</td>\n",
              "      <td>0.25</td>\n",
              "      <td>2.25</td>\n",
              "      <td>3.00</td>\n",
              "      <td>7.00</td>\n",
              "      <td>2.25</td>\n",
              "      <td>1.00</td>\n",
              "      <td>1.00</td>\n",
              "      <td>1.00</td>\n",
              "      <td>0.25</td>\n",
              "      <td>0.75</td>\n",
              "      <td>1.00</td>\n",
              "      <td>4.00</td>\n",
              "    </tr>\n",
              "    <tr>\n",
              "      <th>50%</th>\n",
              "      <td>151.50</td>\n",
              "      <td>18.00</td>\n",
              "      <td>10.00</td>\n",
              "      <td>2.50</td>\n",
              "      <td>7.50</td>\n",
              "      <td>6.50</td>\n",
              "      <td>35.00</td>\n",
              "      <td>5.00</td>\n",
              "      <td>2.00</td>\n",
              "      <td>3.00</td>\n",
              "      <td>1.00</td>\n",
              "      <td>2.50</td>\n",
              "      <td>1.00</td>\n",
              "      <td>2.50</td>\n",
              "      <td>19.50</td>\n",
              "    </tr>\n",
              "    <tr>\n",
              "      <th>75%</th>\n",
              "      <td>308.00</td>\n",
              "      <td>34.25</td>\n",
              "      <td>59.75</td>\n",
              "      <td>21.50</td>\n",
              "      <td>14.75</td>\n",
              "      <td>27.25</td>\n",
              "      <td>63.75</td>\n",
              "      <td>33.75</td>\n",
              "      <td>5.00</td>\n",
              "      <td>15.00</td>\n",
              "      <td>11.00</td>\n",
              "      <td>16.25</td>\n",
              "      <td>1.00</td>\n",
              "      <td>19.25</td>\n",
              "      <td>49.50</td>\n",
              "    </tr>\n",
              "    <tr>\n",
              "      <th>max</th>\n",
              "      <td>751.00</td>\n",
              "      <td>215.00</td>\n",
              "      <td>482.00</td>\n",
              "      <td>421.00</td>\n",
              "      <td>520.00</td>\n",
              "      <td>419.00</td>\n",
              "      <td>315.00</td>\n",
              "      <td>369.00</td>\n",
              "      <td>25.00</td>\n",
              "      <td>329.00</td>\n",
              "      <td>57.00</td>\n",
              "      <td>415.00</td>\n",
              "      <td>2.00</td>\n",
              "      <td>230.00</td>\n",
              "      <td>356.00</td>\n",
              "    </tr>\n",
              "  </tbody>\n",
              "</table>\n",
              "</div>"
            ],
            "text/plain": [
              "       Torture   Life   ...  Press freedom  Right to health\n",
              "count    18.00   18.00  ...          18.00            18.00\n",
              "mean    203.39   33.39  ...          27.72            51.94\n",
              "std     209.23   51.57  ...          57.99            89.17\n",
              "min       2.00    0.00  ...           0.00             0.00\n",
              "25%      23.25    3.50  ...           1.00             4.00\n",
              "50%     151.50   18.00  ...           2.50            19.50\n",
              "75%     308.00   34.25  ...          19.25            49.50\n",
              "max     751.00  215.00  ...         230.00           356.00\n",
              "\n",
              "[8 rows x 15 columns]"
            ]
          },
          "metadata": {
            "tags": []
          },
          "execution_count": 54
        }
      ]
    },
    {
      "cell_type": "markdown",
      "metadata": {
        "id": "7PYbiSiQXMYm"
      },
      "source": [
        "Interpretation"
      ]
    },
    {
      "cell_type": "code",
      "metadata": {
        "colab": {
          "base_uri": "https://localhost:8080/"
        },
        "id": "2DC4zuNGXRxE",
        "outputId": "1a68fb88-2541-4957-d83a-5c13fd40a707"
      },
      "source": [
        "# calculation of the mean (Torture, Personal liberty and Unfair hearing )\n",
        "df[\"Torture\"].mean()\n",
        "df[\"Personal liberty\"].mean()\n",
        "df[\"Un fair hearing\"].mean()"
      ],
      "execution_count": 56,
      "outputs": [
        {
          "output_type": "execute_result",
          "data": {
            "text/plain": [
              "60.666666666666664"
            ]
          },
          "metadata": {
            "tags": []
          },
          "execution_count": 56
        }
      ]
    },
    {
      "cell_type": "code",
      "metadata": {
        "id": "3nD2deMXXGMD",
        "colab": {
          "base_uri": "https://localhost:8080/"
        },
        "outputId": "47d6bdbd-f161-47ca-b3b8-7951f43b8a1e"
      },
      "source": [
        "# Understang the mean of Torture being the most occured violation\n",
        "df[\"Torture\"].mean()"
      ],
      "execution_count": 57,
      "outputs": [
        {
          "output_type": "execute_result",
          "data": {
            "text/plain": [
              "203.38888888888889"
            ]
          },
          "metadata": {
            "tags": []
          },
          "execution_count": 57
        }
      ]
    },
    {
      "cell_type": "code",
      "metadata": {
        "colab": {
          "base_uri": "https://localhost:8080/"
        },
        "id": "vsu_X5MYYx2T",
        "outputId": "b179bfd9-bce6-4a92-d285-f65161aae667"
      },
      "source": [
        "round(df[\"Torture\"].mean(), 2) #Rounding of the mean of Torture"
      ],
      "execution_count": 58,
      "outputs": [
        {
          "output_type": "execute_result",
          "data": {
            "text/plain": [
              "203.39"
            ]
          },
          "metadata": {
            "tags": []
          },
          "execution_count": 58
        }
      ]
    },
    {
      "cell_type": "code",
      "metadata": {
        "colab": {
          "base_uri": "https://localhost:8080/"
        },
        "id": "kfyKuoSlZJDS",
        "outputId": "3a872585-72e6-42ef-c8f6-3d7d8825843c"
      },
      "source": [
        "# use a function to print a text with the output\n",
        "print(f'The median of Torture is {df[\"Torture\"].median()}')"
      ],
      "execution_count": 59,
      "outputs": [
        {
          "output_type": "stream",
          "text": [
            "The median of Torture is 151.5\n"
          ],
          "name": "stdout"
        }
      ]
    },
    {
      "cell_type": "code",
      "metadata": {
        "colab": {
          "base_uri": "https://localhost:8080/"
        },
        "id": "dS9urITdZj9j",
        "outputId": "4e9ee3dd-8288-41f8-c7d6-951896b4596e"
      },
      "source": [
        "# quantiles of Torture \n",
        "df['Torture'].quantile([.25, .5, .75])"
      ],
      "execution_count": 60,
      "outputs": [
        {
          "output_type": "execute_result",
          "data": {
            "text/plain": [
              "0.25     23.25\n",
              "0.50    151.50\n",
              "0.75    308.00\n",
              "Name: Torture, dtype: float64"
            ]
          },
          "metadata": {
            "tags": []
          },
          "execution_count": 60
        }
      ]
    },
    {
      "cell_type": "code",
      "metadata": {
        "colab": {
          "base_uri": "https://localhost:8080/"
        },
        "id": "nV1CGPQxZtY0",
        "outputId": "5651204a-c7be-44a7-f19e-d936cccb4faa"
      },
      "source": [
        "# Range of torture cases\n",
        "df['Torture'].max() - df['Torture'].min()"
      ],
      "execution_count": 61,
      "outputs": [
        {
          "output_type": "execute_result",
          "data": {
            "text/plain": [
              "749"
            ]
          },
          "metadata": {
            "tags": []
          },
          "execution_count": 61
        }
      ]
    },
    {
      "cell_type": "markdown",
      "metadata": {
        "id": "KkNxbJkLZ5CU"
      },
      "source": [
        "**Grouping dataset of Torture and Personal Liberty (Summary Statistics)**\n",
        "\n",
        "Comparing summary statistics of a specified group of violations "
      ]
    },
    {
      "cell_type": "code",
      "metadata": {
        "colab": {
          "base_uri": "https://localhost:8080/",
          "height": 457
        },
        "id": "vIecoMkOZ3iP",
        "outputId": "d066f066-0d7c-4589-c184-6a1e8512cdbd"
      },
      "source": [
        "# summary statistics by groups\n",
        "df['Torture'].groupby(df['Personal liberty']).describe()"
      ],
      "execution_count": 62,
      "outputs": [
        {
          "output_type": "execute_result",
          "data": {
            "text/html": [
              "<div>\n",
              "<style scoped>\n",
              "    .dataframe tbody tr th:only-of-type {\n",
              "        vertical-align: middle;\n",
              "    }\n",
              "\n",
              "    .dataframe tbody tr th {\n",
              "        vertical-align: top;\n",
              "    }\n",
              "\n",
              "    .dataframe thead th {\n",
              "        text-align: right;\n",
              "    }\n",
              "</style>\n",
              "<table border=\"1\" class=\"dataframe\">\n",
              "  <thead>\n",
              "    <tr style=\"text-align: right;\">\n",
              "      <th></th>\n",
              "      <th>count</th>\n",
              "      <th>mean</th>\n",
              "      <th>std</th>\n",
              "      <th>min</th>\n",
              "      <th>25%</th>\n",
              "      <th>50%</th>\n",
              "      <th>75%</th>\n",
              "      <th>max</th>\n",
              "    </tr>\n",
              "    <tr>\n",
              "      <th>Personal liberty</th>\n",
              "      <th></th>\n",
              "      <th></th>\n",
              "      <th></th>\n",
              "      <th></th>\n",
              "      <th></th>\n",
              "      <th></th>\n",
              "      <th></th>\n",
              "      <th></th>\n",
              "    </tr>\n",
              "  </thead>\n",
              "  <tbody>\n",
              "    <tr>\n",
              "      <th>0</th>\n",
              "      <td>7.0</td>\n",
              "      <td>84.0</td>\n",
              "      <td>190.245455</td>\n",
              "      <td>2.0</td>\n",
              "      <td>6.0</td>\n",
              "      <td>12.0</td>\n",
              "      <td>23.5</td>\n",
              "      <td>515.0</td>\n",
              "    </tr>\n",
              "    <tr>\n",
              "      <th>1</th>\n",
              "      <td>1.0</td>\n",
              "      <td>382.0</td>\n",
              "      <td>NaN</td>\n",
              "      <td>382.0</td>\n",
              "      <td>382.0</td>\n",
              "      <td>382.0</td>\n",
              "      <td>382.0</td>\n",
              "      <td>382.0</td>\n",
              "    </tr>\n",
              "    <tr>\n",
              "      <th>8</th>\n",
              "      <td>1.0</td>\n",
              "      <td>97.0</td>\n",
              "      <td>NaN</td>\n",
              "      <td>97.0</td>\n",
              "      <td>97.0</td>\n",
              "      <td>97.0</td>\n",
              "      <td>97.0</td>\n",
              "      <td>97.0</td>\n",
              "    </tr>\n",
              "    <tr>\n",
              "      <th>12</th>\n",
              "      <td>1.0</td>\n",
              "      <td>158.0</td>\n",
              "      <td>NaN</td>\n",
              "      <td>158.0</td>\n",
              "      <td>158.0</td>\n",
              "      <td>158.0</td>\n",
              "      <td>158.0</td>\n",
              "      <td>158.0</td>\n",
              "    </tr>\n",
              "    <tr>\n",
              "      <th>15</th>\n",
              "      <td>1.0</td>\n",
              "      <td>287.0</td>\n",
              "      <td>NaN</td>\n",
              "      <td>287.0</td>\n",
              "      <td>287.0</td>\n",
              "      <td>287.0</td>\n",
              "      <td>287.0</td>\n",
              "      <td>287.0</td>\n",
              "    </tr>\n",
              "    <tr>\n",
              "      <th>22</th>\n",
              "      <td>1.0</td>\n",
              "      <td>231.0</td>\n",
              "      <td>NaN</td>\n",
              "      <td>231.0</td>\n",
              "      <td>231.0</td>\n",
              "      <td>231.0</td>\n",
              "      <td>231.0</td>\n",
              "      <td>231.0</td>\n",
              "    </tr>\n",
              "    <tr>\n",
              "      <th>41</th>\n",
              "      <td>1.0</td>\n",
              "      <td>203.0</td>\n",
              "      <td>NaN</td>\n",
              "      <td>203.0</td>\n",
              "      <td>203.0</td>\n",
              "      <td>203.0</td>\n",
              "      <td>203.0</td>\n",
              "      <td>203.0</td>\n",
              "    </tr>\n",
              "    <tr>\n",
              "      <th>66</th>\n",
              "      <td>1.0</td>\n",
              "      <td>88.0</td>\n",
              "      <td>NaN</td>\n",
              "      <td>88.0</td>\n",
              "      <td>88.0</td>\n",
              "      <td>88.0</td>\n",
              "      <td>88.0</td>\n",
              "      <td>88.0</td>\n",
              "    </tr>\n",
              "    <tr>\n",
              "      <th>71</th>\n",
              "      <td>1.0</td>\n",
              "      <td>315.0</td>\n",
              "      <td>NaN</td>\n",
              "      <td>315.0</td>\n",
              "      <td>315.0</td>\n",
              "      <td>315.0</td>\n",
              "      <td>315.0</td>\n",
              "      <td>315.0</td>\n",
              "    </tr>\n",
              "    <tr>\n",
              "      <th>265</th>\n",
              "      <td>1.0</td>\n",
              "      <td>145.0</td>\n",
              "      <td>NaN</td>\n",
              "      <td>145.0</td>\n",
              "      <td>145.0</td>\n",
              "      <td>145.0</td>\n",
              "      <td>145.0</td>\n",
              "      <td>145.0</td>\n",
              "    </tr>\n",
              "    <tr>\n",
              "      <th>301</th>\n",
              "      <td>1.0</td>\n",
              "      <td>416.0</td>\n",
              "      <td>NaN</td>\n",
              "      <td>416.0</td>\n",
              "      <td>416.0</td>\n",
              "      <td>416.0</td>\n",
              "      <td>416.0</td>\n",
              "      <td>416.0</td>\n",
              "    </tr>\n",
              "    <tr>\n",
              "      <th>482</th>\n",
              "      <td>1.0</td>\n",
              "      <td>751.0</td>\n",
              "      <td>NaN</td>\n",
              "      <td>751.0</td>\n",
              "      <td>751.0</td>\n",
              "      <td>751.0</td>\n",
              "      <td>751.0</td>\n",
              "      <td>751.0</td>\n",
              "    </tr>\n",
              "  </tbody>\n",
              "</table>\n",
              "</div>"
            ],
            "text/plain": [
              "                  count   mean         std    min    25%    50%    75%    max\n",
              "Personal liberty                                                             \n",
              "0                   7.0   84.0  190.245455    2.0    6.0   12.0   23.5  515.0\n",
              "1                   1.0  382.0         NaN  382.0  382.0  382.0  382.0  382.0\n",
              "8                   1.0   97.0         NaN   97.0   97.0   97.0   97.0   97.0\n",
              "12                  1.0  158.0         NaN  158.0  158.0  158.0  158.0  158.0\n",
              "15                  1.0  287.0         NaN  287.0  287.0  287.0  287.0  287.0\n",
              "22                  1.0  231.0         NaN  231.0  231.0  231.0  231.0  231.0\n",
              "41                  1.0  203.0         NaN  203.0  203.0  203.0  203.0  203.0\n",
              "66                  1.0   88.0         NaN   88.0   88.0   88.0   88.0   88.0\n",
              "71                  1.0  315.0         NaN  315.0  315.0  315.0  315.0  315.0\n",
              "265                 1.0  145.0         NaN  145.0  145.0  145.0  145.0  145.0\n",
              "301                 1.0  416.0         NaN  416.0  416.0  416.0  416.0  416.0\n",
              "482                 1.0  751.0         NaN  751.0  751.0  751.0  751.0  751.0"
            ]
          },
          "metadata": {
            "tags": []
          },
          "execution_count": 62
        }
      ]
    },
    {
      "cell_type": "markdown",
      "metadata": {
        "id": "jrRr6jf0arxc"
      },
      "source": [
        "Interpretation "
      ]
    },
    {
      "cell_type": "markdown",
      "metadata": {
        "id": "KLxKWDvNavhM"
      },
      "source": [
        ""
      ]
    },
    {
      "cell_type": "markdown",
      "metadata": {
        "id": "pRLnX2UIaw59"
      },
      "source": [
        "**Analysing Respondents data**"
      ]
    },
    {
      "cell_type": "code",
      "metadata": {
        "id": "wfwChJaBnHst"
      },
      "source": [
        "# Import data from  from your local computer)\n",
        "df = pd.read_csv(\"/content/resp.csv\")"
      ],
      "execution_count": 63,
      "outputs": []
    },
    {
      "cell_type": "code",
      "metadata": {
        "colab": {
          "base_uri": "https://localhost:8080/",
          "height": 300
        },
        "id": "UNsKe5eDnQuq",
        "outputId": "7f1c8e1d-02b5-48a3-9c52-cb4800fe9ab5"
      },
      "source": [
        "# summary statistics for all numerical columns\n",
        "round(df.describe(),2)"
      ],
      "execution_count": 64,
      "outputs": [
        {
          "output_type": "execute_result",
          "data": {
            "text/html": [
              "<div>\n",
              "<style scoped>\n",
              "    .dataframe tbody tr th:only-of-type {\n",
              "        vertical-align: middle;\n",
              "    }\n",
              "\n",
              "    .dataframe tbody tr th {\n",
              "        vertical-align: top;\n",
              "    }\n",
              "\n",
              "    .dataframe thead th {\n",
              "        text-align: right;\n",
              "    }\n",
              "</style>\n",
              "<table border=\"1\" class=\"dataframe\">\n",
              "  <thead>\n",
              "    <tr style=\"text-align: right;\">\n",
              "      <th></th>\n",
              "      <th>2018</th>\n",
              "      <th>2019</th>\n",
              "      <th>2020</th>\n",
              "    </tr>\n",
              "  </thead>\n",
              "  <tbody>\n",
              "    <tr>\n",
              "      <th>count</th>\n",
              "      <td>18.00</td>\n",
              "      <td>18.00</td>\n",
              "      <td>18.00</td>\n",
              "    </tr>\n",
              "    <tr>\n",
              "      <th>mean</th>\n",
              "      <td>193.67</td>\n",
              "      <td>229.28</td>\n",
              "      <td>309.11</td>\n",
              "    </tr>\n",
              "    <tr>\n",
              "      <th>std</th>\n",
              "      <td>156.14</td>\n",
              "      <td>227.44</td>\n",
              "      <td>380.04</td>\n",
              "    </tr>\n",
              "    <tr>\n",
              "      <th>min</th>\n",
              "      <td>14.00</td>\n",
              "      <td>36.00</td>\n",
              "      <td>50.00</td>\n",
              "    </tr>\n",
              "    <tr>\n",
              "      <th>25%</th>\n",
              "      <td>73.50</td>\n",
              "      <td>70.00</td>\n",
              "      <td>86.00</td>\n",
              "    </tr>\n",
              "    <tr>\n",
              "      <th>50%</th>\n",
              "      <td>149.00</td>\n",
              "      <td>167.50</td>\n",
              "      <td>135.50</td>\n",
              "    </tr>\n",
              "    <tr>\n",
              "      <th>75%</th>\n",
              "      <td>289.50</td>\n",
              "      <td>241.50</td>\n",
              "      <td>337.75</td>\n",
              "    </tr>\n",
              "    <tr>\n",
              "      <th>max</th>\n",
              "      <td>540.00</td>\n",
              "      <td>870.00</td>\n",
              "      <td>1320.00</td>\n",
              "    </tr>\n",
              "  </tbody>\n",
              "</table>\n",
              "</div>"
            ],
            "text/plain": [
              "         2018    2019     2020\n",
              "count   18.00   18.00    18.00\n",
              "mean   193.67  229.28   309.11\n",
              "std    156.14  227.44   380.04\n",
              "min     14.00   36.00    50.00\n",
              "25%     73.50   70.00    86.00\n",
              "50%    149.00  167.50   135.50\n",
              "75%    289.50  241.50   337.75\n",
              "max    540.00  870.00  1320.00"
            ]
          },
          "metadata": {
            "tags": []
          },
          "execution_count": 64
        }
      ]
    },
    {
      "cell_type": "markdown",
      "metadata": {
        "id": "FqIYWH3InxVi"
      },
      "source": [
        "Interpretation"
      ]
    },
    {
      "cell_type": "markdown",
      "metadata": {
        "id": "tOvwupmen0d0"
      },
      "source": [
        "It can be noted that human rights violations has consistently kept on increasing in Uganda since 2018 to 2020 with increasing mean value."
      ]
    }
  ]
}