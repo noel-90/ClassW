{
  "nbformat": 4,
  "nbformat_minor": 0,
  "metadata": {
    "colab": {
      "name": "Copy of Copy of Copy of Presentation on Float Data.ipynb",
      "provenance": [],
      "collapsed_sections": [],
      "include_colab_link": true
    },
    "kernelspec": {
      "name": "python3",
      "display_name": "Python 3"
    }
  },
  "cells": [
    {
      "cell_type": "markdown",
      "metadata": {
        "id": "view-in-github",
        "colab_type": "text"
      },
      "source": [
        "<a href=\"https://colab.research.google.com/github/noel-90/ClassW/blob/main/Copy_of_Copy_of_Copy_of_Presentation_on_Float_Data.ipynb\" target=\"_parent\"><img src=\"https://colab.research.google.com/assets/colab-badge.svg\" alt=\"Open In Colab\"/></a>"
      ]
    },
    {
      "cell_type": "markdown",
      "metadata": {
        "id": "wKuYO_u91u1l"
      },
      "source": [
        "## Introduction to Float data type\r\n",
        "A float data type is composed of numbers that are not intergers.\r\n",
        "This is becouse they are represented in franction with decimal format.\r\n",
        "Float can also be described as having numbers from both sides of the decimals. "
      ]
    },
    {
      "cell_type": "markdown",
      "metadata": {
        "id": "7qeW4FGG1tLM"
      },
      "source": [
        "- Float= real numbers with decimal points "
      ]
    },
    {
      "cell_type": "code",
      "metadata": {
        "id": "3pw1_XvA1sxM"
      },
      "source": [
        ""
      ],
      "execution_count": null,
      "outputs": []
    },
    {
      "cell_type": "markdown",
      "metadata": {
        "id": "Fn2rApdm2yUx"
      },
      "source": [
        "# Examples of float data includes; \r\n",
        "\r\n",
        "\r\n",
        "*   Float = allows variables to store decimal values (real numbers) with 6digits  of precision \r\n",
        "\r\n",
        "*   Double = Uses 64 bits giving a precision of 14 digits /10 digits /19 deigits \r\n",
        "\r\n",
        "\r\n",
        "\r\n"
      ]
    },
    {
      "cell_type": "markdown",
      "metadata": {
        "id": "ueTKhNhYV_Al"
      },
      "source": [
        "Some working example "
      ]
    },
    {
      "cell_type": "code",
      "metadata": {
        "id": "P_ysUebU0UZs",
        "colab": {
          "base_uri": "https://localhost:8080/"
        },
        "outputId": "5f130c0e-3228-4b18-8c37-6988bb8faa0a"
      },
      "source": [
        "#Float = 15.123456\r\n",
        "#float examples\r\n",
        "10/3"
      ],
      "execution_count": null,
      "outputs": [
        {
          "output_type": "execute_result",
          "data": {
            "text/plain": [
              "3.3333333333333335"
            ]
          },
          "metadata": {
            "tags": []
          },
          "execution_count": 20
        }
      ]
    },
    {
      "cell_type": "code",
      "metadata": {
        "id": "nDvCfC5O2n4A",
        "colab": {
          "base_uri": "https://localhost:8080/"
        },
        "outputId": "b5e0a525-d00c-41fd-fd57-6e47e09b9c7d"
      },
      "source": [
        "4e9"
      ],
      "execution_count": null,
      "outputs": [
        {
          "output_type": "execute_result",
          "data": {
            "text/plain": [
              "4000000000.0"
            ]
          },
          "metadata": {
            "tags": []
          },
          "execution_count": 14
        }
      ]
    },
    {
      "cell_type": "code",
      "metadata": {
        "colab": {
          "base_uri": "https://localhost:8080/"
        },
        "id": "DVjBnN_Thj8i",
        "outputId": "86eadbab-4531-4d0f-d4b7-365a7101eb51"
      },
      "source": [
        "5e-4"
      ],
      "execution_count": null,
      "outputs": [
        {
          "output_type": "execute_result",
          "data": {
            "text/plain": [
              "0.0005"
            ]
          },
          "metadata": {
            "tags": []
          },
          "execution_count": 17
        }
      ]
    },
    {
      "cell_type": "markdown",
      "metadata": {
        "id": "AjrW034j55Gt"
      },
      "source": [
        "#e = \"10 times to the power of\""
      ]
    },
    {
      "cell_type": "markdown",
      "metadata": {
        "id": "aXxSqJSGzySt"
      },
      "source": [
        "Float data type are used to create tables and alter table statements "
      ]
    }
  ]
}